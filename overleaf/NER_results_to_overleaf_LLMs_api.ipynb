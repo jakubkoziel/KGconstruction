{
 "cells": [
  {
   "cell_type": "code",
   "execution_count": 7,
   "metadata": {
    "collapsed": true
   },
   "outputs": [],
   "source": [
    "import pandas as pd\n",
    "import matplotlib.pyplot as plt\n",
    "import numpy as np"
   ]
  },
  {
   "cell_type": "code",
   "execution_count": 9,
   "outputs": [],
   "source": [
    "def base_NER_to_table():\n",
    "    df_lls_api = pd.read_csv('../NERs/results_pretrained_LLMs_API.csv')\n",
    "    df_lls_api['prompt_version'] = df_lls_api['model'].apply(lambda x: x.split('\\\\')[0])\n",
    "    df_lls_api['model'] = df_lls_api['model'].apply(lambda x: x.split('\\\\')[1])\n",
    "    df_lls_api = df_lls_api[(df_lls_api.prompt_version.isin(['v1', 'v2', 'v3', 'v4', 'v5'])) & (df_lls_api.prediction_level == 20)]\n",
    "\n",
    "    df_lls_api = df_lls_api[['model', 'prompt_version', 'F1', 'Precision', 'Recall']]\n",
    "\n",
    "    df_lls_api.loc[:, ['F1', 'Precision', 'Recall']] = df_lls_api[['F1', 'Precision', 'Recall']].round(5) * 100\n",
    "    df_lls_api = df_lls_api.sort_values(by='F1', ascending=False)\n",
    "\n",
    "    df_lls_api['prompt_version'] = df_lls_api.prompt_version.apply(lambda x: 'NER-prompt-' + x)\n",
    "    return df_lls_api\n",
    "    # df_lls_api.to_csv('base_NER_prompt_table_20_docs.csv', index=False, float_format='%.3f')"
   ],
   "metadata": {
    "collapsed": false
   }
  },
  {
   "cell_type": "code",
   "execution_count": 10,
   "outputs": [
    {
     "data": {
      "text/plain": "                model prompt_version      F1  Precision  Recall\n11  deepseek-reasoner  NER-prompt-v2  77.497     79.505  75.589\n12  deepseek-reasoner  NER-prompt-v3  77.076     79.817  74.518\n10  deepseek-reasoner  NER-prompt-v1  73.695     71.894  75.589\n13  deepseek-reasoner  NER-prompt-v4  71.622     75.534  68.094\n3       deepseek-chat  NER-prompt-v4  55.038     55.702  54.390\n0       deepseek-chat  NER-prompt-v1  47.427     49.649  45.396\n14  deepseek-reasoner  NER-prompt-v5  47.321     49.417  45.396\n1       deepseek-chat  NER-prompt-v2  46.569     49.052  44.325\n4       deepseek-chat  NER-prompt-v5  46.452     46.652  46.253\n2       deepseek-chat  NER-prompt-v3  41.196     42.661  39.829\n8         gpt-4o-mini  NER-prompt-v4  21.026     25.301  17.987\n5         gpt-4o-mini  NER-prompt-v1  20.581     23.677  18.201\n7         gpt-4o-mini  NER-prompt-v3  20.308     25.402  16.916\n6         gpt-4o-mini  NER-prompt-v2  18.158     24.113  14.561\n9         gpt-4o-mini  NER-prompt-v5  15.588     17.711  13.919",
      "text/html": "<div>\n<style scoped>\n    .dataframe tbody tr th:only-of-type {\n        vertical-align: middle;\n    }\n\n    .dataframe tbody tr th {\n        vertical-align: top;\n    }\n\n    .dataframe thead th {\n        text-align: right;\n    }\n</style>\n<table border=\"1\" class=\"dataframe\">\n  <thead>\n    <tr style=\"text-align: right;\">\n      <th></th>\n      <th>model</th>\n      <th>prompt_version</th>\n      <th>F1</th>\n      <th>Precision</th>\n      <th>Recall</th>\n    </tr>\n  </thead>\n  <tbody>\n    <tr>\n      <th>11</th>\n      <td>deepseek-reasoner</td>\n      <td>NER-prompt-v2</td>\n      <td>77.497</td>\n      <td>79.505</td>\n      <td>75.589</td>\n    </tr>\n    <tr>\n      <th>12</th>\n      <td>deepseek-reasoner</td>\n      <td>NER-prompt-v3</td>\n      <td>77.076</td>\n      <td>79.817</td>\n      <td>74.518</td>\n    </tr>\n    <tr>\n      <th>10</th>\n      <td>deepseek-reasoner</td>\n      <td>NER-prompt-v1</td>\n      <td>73.695</td>\n      <td>71.894</td>\n      <td>75.589</td>\n    </tr>\n    <tr>\n      <th>13</th>\n      <td>deepseek-reasoner</td>\n      <td>NER-prompt-v4</td>\n      <td>71.622</td>\n      <td>75.534</td>\n      <td>68.094</td>\n    </tr>\n    <tr>\n      <th>3</th>\n      <td>deepseek-chat</td>\n      <td>NER-prompt-v4</td>\n      <td>55.038</td>\n      <td>55.702</td>\n      <td>54.390</td>\n    </tr>\n    <tr>\n      <th>0</th>\n      <td>deepseek-chat</td>\n      <td>NER-prompt-v1</td>\n      <td>47.427</td>\n      <td>49.649</td>\n      <td>45.396</td>\n    </tr>\n    <tr>\n      <th>14</th>\n      <td>deepseek-reasoner</td>\n      <td>NER-prompt-v5</td>\n      <td>47.321</td>\n      <td>49.417</td>\n      <td>45.396</td>\n    </tr>\n    <tr>\n      <th>1</th>\n      <td>deepseek-chat</td>\n      <td>NER-prompt-v2</td>\n      <td>46.569</td>\n      <td>49.052</td>\n      <td>44.325</td>\n    </tr>\n    <tr>\n      <th>4</th>\n      <td>deepseek-chat</td>\n      <td>NER-prompt-v5</td>\n      <td>46.452</td>\n      <td>46.652</td>\n      <td>46.253</td>\n    </tr>\n    <tr>\n      <th>2</th>\n      <td>deepseek-chat</td>\n      <td>NER-prompt-v3</td>\n      <td>41.196</td>\n      <td>42.661</td>\n      <td>39.829</td>\n    </tr>\n    <tr>\n      <th>8</th>\n      <td>gpt-4o-mini</td>\n      <td>NER-prompt-v4</td>\n      <td>21.026</td>\n      <td>25.301</td>\n      <td>17.987</td>\n    </tr>\n    <tr>\n      <th>5</th>\n      <td>gpt-4o-mini</td>\n      <td>NER-prompt-v1</td>\n      <td>20.581</td>\n      <td>23.677</td>\n      <td>18.201</td>\n    </tr>\n    <tr>\n      <th>7</th>\n      <td>gpt-4o-mini</td>\n      <td>NER-prompt-v3</td>\n      <td>20.308</td>\n      <td>25.402</td>\n      <td>16.916</td>\n    </tr>\n    <tr>\n      <th>6</th>\n      <td>gpt-4o-mini</td>\n      <td>NER-prompt-v2</td>\n      <td>18.158</td>\n      <td>24.113</td>\n      <td>14.561</td>\n    </tr>\n    <tr>\n      <th>9</th>\n      <td>gpt-4o-mini</td>\n      <td>NER-prompt-v5</td>\n      <td>15.588</td>\n      <td>17.711</td>\n      <td>13.919</td>\n    </tr>\n  </tbody>\n</table>\n</div>"
     },
     "execution_count": 10,
     "metadata": {},
     "output_type": "execute_result"
    }
   ],
   "source": [
    "d = base_NER_to_table()\n",
    "d"
   ],
   "metadata": {
    "collapsed": false
   }
  },
  {
   "cell_type": "code",
   "execution_count": 15,
   "outputs": [],
   "source": [
    "df_lls_api = pd.read_csv('../NERs/results_pretrained_LLMs_API.csv')\n",
    "df_lls_api['prompt_version'] = df_lls_api['model'].apply(lambda x: x.split('\\\\')[0])\n",
    "df_lls_api['model'] = df_lls_api['model'].apply(lambda x: x.split('\\\\')[1])\n",
    "df_lls_api = df_lls_api[~((df_lls_api.prompt_version.isin(['v1', 'v2', 'v3', 'v4', 'v5'])) & (df_lls_api.prediction_level == 20))]\n"
   ],
   "metadata": {
    "collapsed": false
   }
  },
  {
   "cell_type": "code",
   "execution_count": 16,
   "outputs": [
    {
     "data": {
      "text/plain": "   dataset split              model  prediction_level   TP   FP   FN  \\\n21  docred   dev  deepseek-reasoner              20.0  389   71   78   \n22  docred   dev  deepseek-reasoner              20.0  388   71   79   \n23  docred   dev      deepseek-chat              20.0  288  177  179   \n24  docred   dev      deepseek-chat              20.0  274  182  193   \n25  docred   dev      deepseek-chat              20.0  398   74   69   \n26  docred   dev  deepseek-reasoner              20.0  410   51   57   \n\n          F1  Precision    Recall prompt_version  \n21  0.839266   0.845652  0.832976  v2_refined_v1  \n22  0.838013   0.845316  0.830835  v2_refined_v2  \n23  0.618026   0.619355  0.616702  v4_refined_v1  \n24  0.593716   0.600877  0.586724  v4_refined_v2  \n25  0.847710   0.843220  0.852248    v4_verifier  \n26  0.883621   0.889371  0.877944    v2_verifier  ",
      "text/html": "<div>\n<style scoped>\n    .dataframe tbody tr th:only-of-type {\n        vertical-align: middle;\n    }\n\n    .dataframe tbody tr th {\n        vertical-align: top;\n    }\n\n    .dataframe thead th {\n        text-align: right;\n    }\n</style>\n<table border=\"1\" class=\"dataframe\">\n  <thead>\n    <tr style=\"text-align: right;\">\n      <th></th>\n      <th>dataset</th>\n      <th>split</th>\n      <th>model</th>\n      <th>prediction_level</th>\n      <th>TP</th>\n      <th>FP</th>\n      <th>FN</th>\n      <th>F1</th>\n      <th>Precision</th>\n      <th>Recall</th>\n      <th>prompt_version</th>\n    </tr>\n  </thead>\n  <tbody>\n    <tr>\n      <th>21</th>\n      <td>docred</td>\n      <td>dev</td>\n      <td>deepseek-reasoner</td>\n      <td>20.0</td>\n      <td>389</td>\n      <td>71</td>\n      <td>78</td>\n      <td>0.839266</td>\n      <td>0.845652</td>\n      <td>0.832976</td>\n      <td>v2_refined_v1</td>\n    </tr>\n    <tr>\n      <th>22</th>\n      <td>docred</td>\n      <td>dev</td>\n      <td>deepseek-reasoner</td>\n      <td>20.0</td>\n      <td>388</td>\n      <td>71</td>\n      <td>79</td>\n      <td>0.838013</td>\n      <td>0.845316</td>\n      <td>0.830835</td>\n      <td>v2_refined_v2</td>\n    </tr>\n    <tr>\n      <th>23</th>\n      <td>docred</td>\n      <td>dev</td>\n      <td>deepseek-chat</td>\n      <td>20.0</td>\n      <td>288</td>\n      <td>177</td>\n      <td>179</td>\n      <td>0.618026</td>\n      <td>0.619355</td>\n      <td>0.616702</td>\n      <td>v4_refined_v1</td>\n    </tr>\n    <tr>\n      <th>24</th>\n      <td>docred</td>\n      <td>dev</td>\n      <td>deepseek-chat</td>\n      <td>20.0</td>\n      <td>274</td>\n      <td>182</td>\n      <td>193</td>\n      <td>0.593716</td>\n      <td>0.600877</td>\n      <td>0.586724</td>\n      <td>v4_refined_v2</td>\n    </tr>\n    <tr>\n      <th>25</th>\n      <td>docred</td>\n      <td>dev</td>\n      <td>deepseek-chat</td>\n      <td>20.0</td>\n      <td>398</td>\n      <td>74</td>\n      <td>69</td>\n      <td>0.847710</td>\n      <td>0.843220</td>\n      <td>0.852248</td>\n      <td>v4_verifier</td>\n    </tr>\n    <tr>\n      <th>26</th>\n      <td>docred</td>\n      <td>dev</td>\n      <td>deepseek-reasoner</td>\n      <td>20.0</td>\n      <td>410</td>\n      <td>51</td>\n      <td>57</td>\n      <td>0.883621</td>\n      <td>0.889371</td>\n      <td>0.877944</td>\n      <td>v2_verifier</td>\n    </tr>\n  </tbody>\n</table>\n</div>"
     },
     "execution_count": 16,
     "metadata": {},
     "output_type": "execute_result"
    }
   ],
   "source": [
    "df_lls_api[df_lls_api.prediction_level == 20]"
   ],
   "metadata": {
    "collapsed": false
   }
  },
  {
   "cell_type": "code",
   "execution_count": 17,
   "outputs": [
    {
     "data": {
      "text/plain": "     dataset split              model  prediction_level     TP     FP     FN  \\\n15    docred   dev  deepseek-reasoner               NaN  18419   5625   7617   \n16    docred   dev      deepseek-chat               NaN  12231  12882  13805   \n17  redocred   dev  deepseek-reasoner               NaN   9190   2926   3963   \n18  redocred   dev      deepseek-chat               NaN   6137   6616   7016   \n19  redocred  test  deepseek-reasoner               NaN   9278   2710   3671   \n20  redocred  test      deepseek-chat               NaN   6134   6292   6815   \n27    docred   dev  deepseek-reasoner               NaN  22891   2398   3145   \n28    docred   dev      deepseek-chat               NaN  23428   2411   2608   \n29  redocred   dev  deepseek-reasoner               NaN  11531   1197   1622   \n30  redocred   dev      deepseek-chat               NaN  11793   1249   1360   \n31  redocred  test  deepseek-reasoner               NaN  11423   1204   1526   \n32  redocred  test      deepseek-chat               NaN  11699   1166   1250   \n\n          F1  Precision    Recall prompt_version  \n15  0.735583   0.766054  0.707444             v2  \n16  0.478250   0.487039  0.469773             v4  \n17  0.727373   0.758501  0.698700             v2  \n18  0.473790   0.481220  0.466586             v4  \n19  0.744115   0.773941  0.716503             v2  \n20  0.483468   0.493642  0.473705             v4  \n27  0.892002   0.905176  0.879206    v2_verifier  \n28  0.903248   0.906691  0.899831    v4_verifier  \n29  0.891078   0.905955  0.876682    v2_verifier  \n30  0.900401   0.904232  0.896602    v4_verifier  \n31  0.893259   0.904649  0.882153    v2_verifier  \n32  0.906407   0.909366  0.903467    v4_verifier  ",
      "text/html": "<div>\n<style scoped>\n    .dataframe tbody tr th:only-of-type {\n        vertical-align: middle;\n    }\n\n    .dataframe tbody tr th {\n        vertical-align: top;\n    }\n\n    .dataframe thead th {\n        text-align: right;\n    }\n</style>\n<table border=\"1\" class=\"dataframe\">\n  <thead>\n    <tr style=\"text-align: right;\">\n      <th></th>\n      <th>dataset</th>\n      <th>split</th>\n      <th>model</th>\n      <th>prediction_level</th>\n      <th>TP</th>\n      <th>FP</th>\n      <th>FN</th>\n      <th>F1</th>\n      <th>Precision</th>\n      <th>Recall</th>\n      <th>prompt_version</th>\n    </tr>\n  </thead>\n  <tbody>\n    <tr>\n      <th>15</th>\n      <td>docred</td>\n      <td>dev</td>\n      <td>deepseek-reasoner</td>\n      <td>NaN</td>\n      <td>18419</td>\n      <td>5625</td>\n      <td>7617</td>\n      <td>0.735583</td>\n      <td>0.766054</td>\n      <td>0.707444</td>\n      <td>v2</td>\n    </tr>\n    <tr>\n      <th>16</th>\n      <td>docred</td>\n      <td>dev</td>\n      <td>deepseek-chat</td>\n      <td>NaN</td>\n      <td>12231</td>\n      <td>12882</td>\n      <td>13805</td>\n      <td>0.478250</td>\n      <td>0.487039</td>\n      <td>0.469773</td>\n      <td>v4</td>\n    </tr>\n    <tr>\n      <th>17</th>\n      <td>redocred</td>\n      <td>dev</td>\n      <td>deepseek-reasoner</td>\n      <td>NaN</td>\n      <td>9190</td>\n      <td>2926</td>\n      <td>3963</td>\n      <td>0.727373</td>\n      <td>0.758501</td>\n      <td>0.698700</td>\n      <td>v2</td>\n    </tr>\n    <tr>\n      <th>18</th>\n      <td>redocred</td>\n      <td>dev</td>\n      <td>deepseek-chat</td>\n      <td>NaN</td>\n      <td>6137</td>\n      <td>6616</td>\n      <td>7016</td>\n      <td>0.473790</td>\n      <td>0.481220</td>\n      <td>0.466586</td>\n      <td>v4</td>\n    </tr>\n    <tr>\n      <th>19</th>\n      <td>redocred</td>\n      <td>test</td>\n      <td>deepseek-reasoner</td>\n      <td>NaN</td>\n      <td>9278</td>\n      <td>2710</td>\n      <td>3671</td>\n      <td>0.744115</td>\n      <td>0.773941</td>\n      <td>0.716503</td>\n      <td>v2</td>\n    </tr>\n    <tr>\n      <th>20</th>\n      <td>redocred</td>\n      <td>test</td>\n      <td>deepseek-chat</td>\n      <td>NaN</td>\n      <td>6134</td>\n      <td>6292</td>\n      <td>6815</td>\n      <td>0.483468</td>\n      <td>0.493642</td>\n      <td>0.473705</td>\n      <td>v4</td>\n    </tr>\n    <tr>\n      <th>27</th>\n      <td>docred</td>\n      <td>dev</td>\n      <td>deepseek-reasoner</td>\n      <td>NaN</td>\n      <td>22891</td>\n      <td>2398</td>\n      <td>3145</td>\n      <td>0.892002</td>\n      <td>0.905176</td>\n      <td>0.879206</td>\n      <td>v2_verifier</td>\n    </tr>\n    <tr>\n      <th>28</th>\n      <td>docred</td>\n      <td>dev</td>\n      <td>deepseek-chat</td>\n      <td>NaN</td>\n      <td>23428</td>\n      <td>2411</td>\n      <td>2608</td>\n      <td>0.903248</td>\n      <td>0.906691</td>\n      <td>0.899831</td>\n      <td>v4_verifier</td>\n    </tr>\n    <tr>\n      <th>29</th>\n      <td>redocred</td>\n      <td>dev</td>\n      <td>deepseek-reasoner</td>\n      <td>NaN</td>\n      <td>11531</td>\n      <td>1197</td>\n      <td>1622</td>\n      <td>0.891078</td>\n      <td>0.905955</td>\n      <td>0.876682</td>\n      <td>v2_verifier</td>\n    </tr>\n    <tr>\n      <th>30</th>\n      <td>redocred</td>\n      <td>dev</td>\n      <td>deepseek-chat</td>\n      <td>NaN</td>\n      <td>11793</td>\n      <td>1249</td>\n      <td>1360</td>\n      <td>0.900401</td>\n      <td>0.904232</td>\n      <td>0.896602</td>\n      <td>v4_verifier</td>\n    </tr>\n    <tr>\n      <th>31</th>\n      <td>redocred</td>\n      <td>test</td>\n      <td>deepseek-reasoner</td>\n      <td>NaN</td>\n      <td>11423</td>\n      <td>1204</td>\n      <td>1526</td>\n      <td>0.893259</td>\n      <td>0.904649</td>\n      <td>0.882153</td>\n      <td>v2_verifier</td>\n    </tr>\n    <tr>\n      <th>32</th>\n      <td>redocred</td>\n      <td>test</td>\n      <td>deepseek-chat</td>\n      <td>NaN</td>\n      <td>11699</td>\n      <td>1166</td>\n      <td>1250</td>\n      <td>0.906407</td>\n      <td>0.909366</td>\n      <td>0.903467</td>\n      <td>v4_verifier</td>\n    </tr>\n  </tbody>\n</table>\n</div>"
     },
     "execution_count": 17,
     "metadata": {},
     "output_type": "execute_result"
    }
   ],
   "source": [
    "df_lls_api[~(df_lls_api.prediction_level == 20)]"
   ],
   "metadata": {
    "collapsed": false
   }
  },
  {
   "cell_type": "code",
   "execution_count": 13,
   "outputs": [
    {
     "data": {
      "text/plain": "   dataset split              model  prediction_level        F1  Precision  \\\n0   docred   dev      deepseek-chat              20.0  0.474273   0.496487   \n1   docred   dev      deepseek-chat              20.0  0.465692   0.490521   \n2   docred   dev      deepseek-chat              20.0  0.411960   0.426606   \n3   docred   dev      deepseek-chat              20.0  0.550379   0.557018   \n4   docred   dev      deepseek-chat              20.0  0.464516   0.466523   \n5   docred   dev        gpt-4o-mini              20.0  0.205811   0.236769   \n6   docred   dev        gpt-4o-mini              20.0  0.181575   0.241135   \n7   docred   dev        gpt-4o-mini              20.0  0.203085   0.254019   \n8   docred   dev        gpt-4o-mini              20.0  0.210263   0.253012   \n9   docred   dev        gpt-4o-mini              20.0  0.155875   0.177112   \n10  docred   dev  deepseek-reasoner              20.0  0.736952   0.718941   \n11  docred   dev  deepseek-reasoner              20.0  0.774973   0.795045   \n12  docred   dev  deepseek-reasoner              20.0  0.770764   0.798165   \n13  docred   dev  deepseek-reasoner              20.0  0.716216   0.755344   \n14  docred   dev  deepseek-reasoner              20.0  0.473214   0.494172   \n21  docred   dev  deepseek-reasoner              20.0  0.839266   0.845652   \n22  docred   dev  deepseek-reasoner              20.0  0.838013   0.845316   \n23  docred   dev      deepseek-chat              20.0  0.618026   0.619355   \n24  docred   dev      deepseek-chat              20.0  0.593716   0.600877   \n25  docred   dev      deepseek-chat              20.0  0.847710   0.843220   \n26  docred   dev  deepseek-reasoner              20.0  0.883621   0.889371   \n\n      Recall prompt_version  \n0   0.453961             v1  \n1   0.443255             v2  \n2   0.398287             v3  \n3   0.543897             v4  \n4   0.462527             v5  \n5   0.182013             v1  \n6   0.145610             v2  \n7   0.169165             v3  \n8   0.179872             v4  \n9   0.139186             v5  \n10  0.755889             v1  \n11  0.755889             v2  \n12  0.745182             v3  \n13  0.680942             v4  \n14  0.453961             v5  \n21  0.832976  v2_refined_v1  \n22  0.830835  v2_refined_v2  \n23  0.616702  v4_refined_v1  \n24  0.586724  v4_refined_v2  \n25  0.852248    v4_verifier  \n26  0.877944    v2_verifier  ",
      "text/html": "<div>\n<style scoped>\n    .dataframe tbody tr th:only-of-type {\n        vertical-align: middle;\n    }\n\n    .dataframe tbody tr th {\n        vertical-align: top;\n    }\n\n    .dataframe thead th {\n        text-align: right;\n    }\n</style>\n<table border=\"1\" class=\"dataframe\">\n  <thead>\n    <tr style=\"text-align: right;\">\n      <th></th>\n      <th>dataset</th>\n      <th>split</th>\n      <th>model</th>\n      <th>prediction_level</th>\n      <th>F1</th>\n      <th>Precision</th>\n      <th>Recall</th>\n      <th>prompt_version</th>\n    </tr>\n  </thead>\n  <tbody>\n    <tr>\n      <th>0</th>\n      <td>docred</td>\n      <td>dev</td>\n      <td>deepseek-chat</td>\n      <td>20.0</td>\n      <td>0.474273</td>\n      <td>0.496487</td>\n      <td>0.453961</td>\n      <td>v1</td>\n    </tr>\n    <tr>\n      <th>1</th>\n      <td>docred</td>\n      <td>dev</td>\n      <td>deepseek-chat</td>\n      <td>20.0</td>\n      <td>0.465692</td>\n      <td>0.490521</td>\n      <td>0.443255</td>\n      <td>v2</td>\n    </tr>\n    <tr>\n      <th>2</th>\n      <td>docred</td>\n      <td>dev</td>\n      <td>deepseek-chat</td>\n      <td>20.0</td>\n      <td>0.411960</td>\n      <td>0.426606</td>\n      <td>0.398287</td>\n      <td>v3</td>\n    </tr>\n    <tr>\n      <th>3</th>\n      <td>docred</td>\n      <td>dev</td>\n      <td>deepseek-chat</td>\n      <td>20.0</td>\n      <td>0.550379</td>\n      <td>0.557018</td>\n      <td>0.543897</td>\n      <td>v4</td>\n    </tr>\n    <tr>\n      <th>4</th>\n      <td>docred</td>\n      <td>dev</td>\n      <td>deepseek-chat</td>\n      <td>20.0</td>\n      <td>0.464516</td>\n      <td>0.466523</td>\n      <td>0.462527</td>\n      <td>v5</td>\n    </tr>\n    <tr>\n      <th>5</th>\n      <td>docred</td>\n      <td>dev</td>\n      <td>gpt-4o-mini</td>\n      <td>20.0</td>\n      <td>0.205811</td>\n      <td>0.236769</td>\n      <td>0.182013</td>\n      <td>v1</td>\n    </tr>\n    <tr>\n      <th>6</th>\n      <td>docred</td>\n      <td>dev</td>\n      <td>gpt-4o-mini</td>\n      <td>20.0</td>\n      <td>0.181575</td>\n      <td>0.241135</td>\n      <td>0.145610</td>\n      <td>v2</td>\n    </tr>\n    <tr>\n      <th>7</th>\n      <td>docred</td>\n      <td>dev</td>\n      <td>gpt-4o-mini</td>\n      <td>20.0</td>\n      <td>0.203085</td>\n      <td>0.254019</td>\n      <td>0.169165</td>\n      <td>v3</td>\n    </tr>\n    <tr>\n      <th>8</th>\n      <td>docred</td>\n      <td>dev</td>\n      <td>gpt-4o-mini</td>\n      <td>20.0</td>\n      <td>0.210263</td>\n      <td>0.253012</td>\n      <td>0.179872</td>\n      <td>v4</td>\n    </tr>\n    <tr>\n      <th>9</th>\n      <td>docred</td>\n      <td>dev</td>\n      <td>gpt-4o-mini</td>\n      <td>20.0</td>\n      <td>0.155875</td>\n      <td>0.177112</td>\n      <td>0.139186</td>\n      <td>v5</td>\n    </tr>\n    <tr>\n      <th>10</th>\n      <td>docred</td>\n      <td>dev</td>\n      <td>deepseek-reasoner</td>\n      <td>20.0</td>\n      <td>0.736952</td>\n      <td>0.718941</td>\n      <td>0.755889</td>\n      <td>v1</td>\n    </tr>\n    <tr>\n      <th>11</th>\n      <td>docred</td>\n      <td>dev</td>\n      <td>deepseek-reasoner</td>\n      <td>20.0</td>\n      <td>0.774973</td>\n      <td>0.795045</td>\n      <td>0.755889</td>\n      <td>v2</td>\n    </tr>\n    <tr>\n      <th>12</th>\n      <td>docred</td>\n      <td>dev</td>\n      <td>deepseek-reasoner</td>\n      <td>20.0</td>\n      <td>0.770764</td>\n      <td>0.798165</td>\n      <td>0.745182</td>\n      <td>v3</td>\n    </tr>\n    <tr>\n      <th>13</th>\n      <td>docred</td>\n      <td>dev</td>\n      <td>deepseek-reasoner</td>\n      <td>20.0</td>\n      <td>0.716216</td>\n      <td>0.755344</td>\n      <td>0.680942</td>\n      <td>v4</td>\n    </tr>\n    <tr>\n      <th>14</th>\n      <td>docred</td>\n      <td>dev</td>\n      <td>deepseek-reasoner</td>\n      <td>20.0</td>\n      <td>0.473214</td>\n      <td>0.494172</td>\n      <td>0.453961</td>\n      <td>v5</td>\n    </tr>\n    <tr>\n      <th>21</th>\n      <td>docred</td>\n      <td>dev</td>\n      <td>deepseek-reasoner</td>\n      <td>20.0</td>\n      <td>0.839266</td>\n      <td>0.845652</td>\n      <td>0.832976</td>\n      <td>v2_refined_v1</td>\n    </tr>\n    <tr>\n      <th>22</th>\n      <td>docred</td>\n      <td>dev</td>\n      <td>deepseek-reasoner</td>\n      <td>20.0</td>\n      <td>0.838013</td>\n      <td>0.845316</td>\n      <td>0.830835</td>\n      <td>v2_refined_v2</td>\n    </tr>\n    <tr>\n      <th>23</th>\n      <td>docred</td>\n      <td>dev</td>\n      <td>deepseek-chat</td>\n      <td>20.0</td>\n      <td>0.618026</td>\n      <td>0.619355</td>\n      <td>0.616702</td>\n      <td>v4_refined_v1</td>\n    </tr>\n    <tr>\n      <th>24</th>\n      <td>docred</td>\n      <td>dev</td>\n      <td>deepseek-chat</td>\n      <td>20.0</td>\n      <td>0.593716</td>\n      <td>0.600877</td>\n      <td>0.586724</td>\n      <td>v4_refined_v2</td>\n    </tr>\n    <tr>\n      <th>25</th>\n      <td>docred</td>\n      <td>dev</td>\n      <td>deepseek-chat</td>\n      <td>20.0</td>\n      <td>0.847710</td>\n      <td>0.843220</td>\n      <td>0.852248</td>\n      <td>v4_verifier</td>\n    </tr>\n    <tr>\n      <th>26</th>\n      <td>docred</td>\n      <td>dev</td>\n      <td>deepseek-reasoner</td>\n      <td>20.0</td>\n      <td>0.883621</td>\n      <td>0.889371</td>\n      <td>0.877944</td>\n      <td>v2_verifier</td>\n    </tr>\n  </tbody>\n</table>\n</div>"
     },
     "execution_count": 13,
     "metadata": {},
     "output_type": "execute_result"
    }
   ],
   "source": [
    "df_lls_api = pd.read_csv('../NERs/results_pretrained_LLMs_API.csv')\n",
    "df_lls_api['prompt_version'] = df_lls_api['model'].apply(lambda x: x.split('\\\\')[0])\n",
    "df_lls_api['model'] = df_lls_api['model'].apply(lambda x: x.split('\\\\')[1])\n",
    "df_lls_api = df_lls_api[(df_lls_api.prediction_level == 20)]\n",
    "df_lls_api.drop(['FP', 'TP', 'FN'], axis=1)\n",
    "# Eclude column TP FP and FN\n"
   ],
   "metadata": {
    "collapsed": false
   }
  },
  {
   "cell_type": "code",
   "execution_count": null,
   "outputs": [],
   "source": [],
   "metadata": {
    "collapsed": false
   }
  }
 ],
 "metadata": {
  "kernelspec": {
   "display_name": "Python 3",
   "language": "python",
   "name": "python3"
  },
  "language_info": {
   "codemirror_mode": {
    "name": "ipython",
    "version": 2
   },
   "file_extension": ".py",
   "mimetype": "text/x-python",
   "name": "python",
   "nbconvert_exporter": "python",
   "pygments_lexer": "ipython2",
   "version": "2.7.6"
  }
 },
 "nbformat": 4,
 "nbformat_minor": 0
}
