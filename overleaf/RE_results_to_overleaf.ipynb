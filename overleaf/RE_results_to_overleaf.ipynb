{
 "cells": [
  {
   "cell_type": "code",
   "execution_count": 22,
   "metadata": {
    "collapsed": true
   },
   "outputs": [],
   "source": [
    "import os\n",
    "import pandas as pd\n"
   ]
  },
  {
   "cell_type": "code",
   "execution_count": 23,
   "outputs": [],
   "source": [
    "df = pd.read_csv('../results_dreeam.csv')"
   ],
   "metadata": {
    "collapsed": false
   }
  },
  {
   "cell_type": "code",
   "execution_count": 24,
   "outputs": [],
   "source": [
    "df = df[df['metric_type'] == 're']"
   ],
   "metadata": {
    "collapsed": false
   }
  },
  {
   "cell_type": "code",
   "execution_count": 26,
   "outputs": [
    {
     "data": {
      "text/plain": "    precision    recall  f1-score metric_type docred_type split  \\\n0    0.682232  0.659389  0.670616          re      docred   dev   \n4    0.593279  0.490428  0.536973          re      docred   dev   \n8    0.640314  0.597800  0.618327          re      docred   dev   \n12   0.567500  0.443829  0.498103          re      docred   dev   \n16   0.639183  0.570916  0.603124          re      docred   dev   \n20   0.514194  0.272994  0.356641          re      docred   dev   \n24   0.634417  0.596171  0.614700          re      docred   dev   \n28   0.684997  0.642363  0.662995          re      docred   dev   \n32   0.460722  0.316246  0.375051          re    redocred   dev   \n36   0.839565  0.245545  0.379963          re    redocred   dev   \n40   0.883766  0.289458  0.436086          re    redocred   dev   \n44   0.770807  0.215402  0.336710          re    redocred   dev   \n48   0.872089  0.272969  0.415793          re    redocred   dev   \n52   0.675577  0.128674  0.216174          re    redocred   dev   \n56   0.876088  0.291252  0.437169          re    redocred   dev   \n60   0.948669  0.313296  0.471033          re    redocred   dev   \n64   0.463587  0.315222  0.375273          re    redocred  test   \n68   0.828588  0.238537  0.370433          re    redocred  test   \n72   0.875348  0.288171  0.433598          re    redocred  test   \n76   0.768202  0.207416  0.326639          re    redocred  test   \n80   0.860630  0.270747  0.411911          re    redocred  test   \n84   0.656726  0.121160  0.204577          re    redocred  test   \n88   0.865200  0.283987  0.427616          re    redocred  test   \n92   0.947332  0.310293  0.467470          re    redocred  test   \n\n                                     model_name prediction_level  \n0                                  original_NER     original_NER  \n4   xlm-roberta-large-finetuned-conll03-english         sentence  \n8        wikineural-multilingual-ner-fine-tuned         sentence  \n12                v2\\deepseek-reasoner-repaired              NaN  \n16       v2_verifier\\deepseek-reasoner-repaired              NaN  \n20                    v4\\deepseek-chat-repaired              NaN  \n24           v4_verifier\\deepseek-chat-repaired              NaN  \n28                          entities_separately              NaN  \n32                                 original_NER     original_NER  \n36  xlm-roberta-large-finetuned-conll03-english         sentence  \n40       wikineural-multilingual-ner-fine-tuned         sentence  \n44                v2\\deepseek-reasoner-repaired              NaN  \n48       v2_verifier\\deepseek-reasoner-repaired              NaN  \n52                    v4\\deepseek-chat-repaired              NaN  \n56           v4_verifier\\deepseek-chat-repaired              NaN  \n60                          entities_separately              NaN  \n64                                 original_NER     original_NER  \n68  xlm-roberta-large-finetuned-conll03-english         sentence  \n72       wikineural-multilingual-ner-fine-tuned         sentence  \n76                v2\\deepseek-reasoner-repaired              NaN  \n80       v2_verifier\\deepseek-reasoner-repaired              NaN  \n84                    v4\\deepseek-chat-repaired              NaN  \n88           v4_verifier\\deepseek-chat-repaired              NaN  \n92                          entities_separately              NaN  ",
      "text/html": "<div>\n<style scoped>\n    .dataframe tbody tr th:only-of-type {\n        vertical-align: middle;\n    }\n\n    .dataframe tbody tr th {\n        vertical-align: top;\n    }\n\n    .dataframe thead th {\n        text-align: right;\n    }\n</style>\n<table border=\"1\" class=\"dataframe\">\n  <thead>\n    <tr style=\"text-align: right;\">\n      <th></th>\n      <th>precision</th>\n      <th>recall</th>\n      <th>f1-score</th>\n      <th>metric_type</th>\n      <th>docred_type</th>\n      <th>split</th>\n      <th>model_name</th>\n      <th>prediction_level</th>\n    </tr>\n  </thead>\n  <tbody>\n    <tr>\n      <th>0</th>\n      <td>0.682232</td>\n      <td>0.659389</td>\n      <td>0.670616</td>\n      <td>re</td>\n      <td>docred</td>\n      <td>dev</td>\n      <td>original_NER</td>\n      <td>original_NER</td>\n    </tr>\n    <tr>\n      <th>4</th>\n      <td>0.593279</td>\n      <td>0.490428</td>\n      <td>0.536973</td>\n      <td>re</td>\n      <td>docred</td>\n      <td>dev</td>\n      <td>xlm-roberta-large-finetuned-conll03-english</td>\n      <td>sentence</td>\n    </tr>\n    <tr>\n      <th>8</th>\n      <td>0.640314</td>\n      <td>0.597800</td>\n      <td>0.618327</td>\n      <td>re</td>\n      <td>docred</td>\n      <td>dev</td>\n      <td>wikineural-multilingual-ner-fine-tuned</td>\n      <td>sentence</td>\n    </tr>\n    <tr>\n      <th>12</th>\n      <td>0.567500</td>\n      <td>0.443829</td>\n      <td>0.498103</td>\n      <td>re</td>\n      <td>docred</td>\n      <td>dev</td>\n      <td>v2\\deepseek-reasoner-repaired</td>\n      <td>NaN</td>\n    </tr>\n    <tr>\n      <th>16</th>\n      <td>0.639183</td>\n      <td>0.570916</td>\n      <td>0.603124</td>\n      <td>re</td>\n      <td>docred</td>\n      <td>dev</td>\n      <td>v2_verifier\\deepseek-reasoner-repaired</td>\n      <td>NaN</td>\n    </tr>\n    <tr>\n      <th>20</th>\n      <td>0.514194</td>\n      <td>0.272994</td>\n      <td>0.356641</td>\n      <td>re</td>\n      <td>docred</td>\n      <td>dev</td>\n      <td>v4\\deepseek-chat-repaired</td>\n      <td>NaN</td>\n    </tr>\n    <tr>\n      <th>24</th>\n      <td>0.634417</td>\n      <td>0.596171</td>\n      <td>0.614700</td>\n      <td>re</td>\n      <td>docred</td>\n      <td>dev</td>\n      <td>v4_verifier\\deepseek-chat-repaired</td>\n      <td>NaN</td>\n    </tr>\n    <tr>\n      <th>28</th>\n      <td>0.684997</td>\n      <td>0.642363</td>\n      <td>0.662995</td>\n      <td>re</td>\n      <td>docred</td>\n      <td>dev</td>\n      <td>entities_separately</td>\n      <td>NaN</td>\n    </tr>\n    <tr>\n      <th>32</th>\n      <td>0.460722</td>\n      <td>0.316246</td>\n      <td>0.375051</td>\n      <td>re</td>\n      <td>redocred</td>\n      <td>dev</td>\n      <td>original_NER</td>\n      <td>original_NER</td>\n    </tr>\n    <tr>\n      <th>36</th>\n      <td>0.839565</td>\n      <td>0.245545</td>\n      <td>0.379963</td>\n      <td>re</td>\n      <td>redocred</td>\n      <td>dev</td>\n      <td>xlm-roberta-large-finetuned-conll03-english</td>\n      <td>sentence</td>\n    </tr>\n    <tr>\n      <th>40</th>\n      <td>0.883766</td>\n      <td>0.289458</td>\n      <td>0.436086</td>\n      <td>re</td>\n      <td>redocred</td>\n      <td>dev</td>\n      <td>wikineural-multilingual-ner-fine-tuned</td>\n      <td>sentence</td>\n    </tr>\n    <tr>\n      <th>44</th>\n      <td>0.770807</td>\n      <td>0.215402</td>\n      <td>0.336710</td>\n      <td>re</td>\n      <td>redocred</td>\n      <td>dev</td>\n      <td>v2\\deepseek-reasoner-repaired</td>\n      <td>NaN</td>\n    </tr>\n    <tr>\n      <th>48</th>\n      <td>0.872089</td>\n      <td>0.272969</td>\n      <td>0.415793</td>\n      <td>re</td>\n      <td>redocred</td>\n      <td>dev</td>\n      <td>v2_verifier\\deepseek-reasoner-repaired</td>\n      <td>NaN</td>\n    </tr>\n    <tr>\n      <th>52</th>\n      <td>0.675577</td>\n      <td>0.128674</td>\n      <td>0.216174</td>\n      <td>re</td>\n      <td>redocred</td>\n      <td>dev</td>\n      <td>v4\\deepseek-chat-repaired</td>\n      <td>NaN</td>\n    </tr>\n    <tr>\n      <th>56</th>\n      <td>0.876088</td>\n      <td>0.291252</td>\n      <td>0.437169</td>\n      <td>re</td>\n      <td>redocred</td>\n      <td>dev</td>\n      <td>v4_verifier\\deepseek-chat-repaired</td>\n      <td>NaN</td>\n    </tr>\n    <tr>\n      <th>60</th>\n      <td>0.948669</td>\n      <td>0.313296</td>\n      <td>0.471033</td>\n      <td>re</td>\n      <td>redocred</td>\n      <td>dev</td>\n      <td>entities_separately</td>\n      <td>NaN</td>\n    </tr>\n    <tr>\n      <th>64</th>\n      <td>0.463587</td>\n      <td>0.315222</td>\n      <td>0.375273</td>\n      <td>re</td>\n      <td>redocred</td>\n      <td>test</td>\n      <td>original_NER</td>\n      <td>original_NER</td>\n    </tr>\n    <tr>\n      <th>68</th>\n      <td>0.828588</td>\n      <td>0.238537</td>\n      <td>0.370433</td>\n      <td>re</td>\n      <td>redocred</td>\n      <td>test</td>\n      <td>xlm-roberta-large-finetuned-conll03-english</td>\n      <td>sentence</td>\n    </tr>\n    <tr>\n      <th>72</th>\n      <td>0.875348</td>\n      <td>0.288171</td>\n      <td>0.433598</td>\n      <td>re</td>\n      <td>redocred</td>\n      <td>test</td>\n      <td>wikineural-multilingual-ner-fine-tuned</td>\n      <td>sentence</td>\n    </tr>\n    <tr>\n      <th>76</th>\n      <td>0.768202</td>\n      <td>0.207416</td>\n      <td>0.326639</td>\n      <td>re</td>\n      <td>redocred</td>\n      <td>test</td>\n      <td>v2\\deepseek-reasoner-repaired</td>\n      <td>NaN</td>\n    </tr>\n    <tr>\n      <th>80</th>\n      <td>0.860630</td>\n      <td>0.270747</td>\n      <td>0.411911</td>\n      <td>re</td>\n      <td>redocred</td>\n      <td>test</td>\n      <td>v2_verifier\\deepseek-reasoner-repaired</td>\n      <td>NaN</td>\n    </tr>\n    <tr>\n      <th>84</th>\n      <td>0.656726</td>\n      <td>0.121160</td>\n      <td>0.204577</td>\n      <td>re</td>\n      <td>redocred</td>\n      <td>test</td>\n      <td>v4\\deepseek-chat-repaired</td>\n      <td>NaN</td>\n    </tr>\n    <tr>\n      <th>88</th>\n      <td>0.865200</td>\n      <td>0.283987</td>\n      <td>0.427616</td>\n      <td>re</td>\n      <td>redocred</td>\n      <td>test</td>\n      <td>v4_verifier\\deepseek-chat-repaired</td>\n      <td>NaN</td>\n    </tr>\n    <tr>\n      <th>92</th>\n      <td>0.947332</td>\n      <td>0.310293</td>\n      <td>0.467470</td>\n      <td>re</td>\n      <td>redocred</td>\n      <td>test</td>\n      <td>entities_separately</td>\n      <td>NaN</td>\n    </tr>\n  </tbody>\n</table>\n</div>"
     },
     "execution_count": 26,
     "metadata": {},
     "output_type": "execute_result"
    }
   ],
   "source": [
    "df"
   ],
   "metadata": {
    "collapsed": false
   }
  },
  {
   "cell_type": "code",
   "execution_count": 27,
   "outputs": [
    {
     "data": {
      "text/plain": "array(['original_NER', 'xlm-roberta-large-finetuned-conll03-english',\n       'wikineural-multilingual-ner-fine-tuned',\n       'v2\\\\deepseek-reasoner-repaired',\n       'v2_verifier\\\\deepseek-reasoner-repaired',\n       'v4\\\\deepseek-chat-repaired',\n       'v4_verifier\\\\deepseek-chat-repaired', 'entities_separately'],\n      dtype=object)"
     },
     "execution_count": 27,
     "metadata": {},
     "output_type": "execute_result"
    }
   ],
   "source": [
    "df.model_name.unique()"
   ],
   "metadata": {
    "collapsed": false
   }
  },
  {
   "cell_type": "code",
   "execution_count": 28,
   "outputs": [],
   "source": [
    "df.loc[:, ['precision', 'recall', 'f1-score']] = df.loc[:, ['precision', 'recall', 'f1-score']].apply(lambda x: (x * 100).round(2))"
   ],
   "metadata": {
    "collapsed": false
   }
  },
  {
   "cell_type": "code",
   "execution_count": 29,
   "outputs": [
    {
     "data": {
      "text/plain": "    precision  recall  f1-score metric_type docred_type split  \\\n0       68.22   65.94     67.06          re      docred   dev   \n4       59.33   49.04     53.70          re      docred   dev   \n8       64.03   59.78     61.83          re      docred   dev   \n12      56.75   44.38     49.81          re      docred   dev   \n16      63.92   57.09     60.31          re      docred   dev   \n20      51.42   27.30     35.66          re      docred   dev   \n24      63.44   59.62     61.47          re      docred   dev   \n28      68.50   64.24     66.30          re      docred   dev   \n32      46.07   31.62     37.51          re    redocred   dev   \n36      83.96   24.55     38.00          re    redocred   dev   \n40      88.38   28.95     43.61          re    redocred   dev   \n44      77.08   21.54     33.67          re    redocred   dev   \n48      87.21   27.30     41.58          re    redocred   dev   \n52      67.56   12.87     21.62          re    redocred   dev   \n56      87.61   29.13     43.72          re    redocred   dev   \n60      94.87   31.33     47.10          re    redocred   dev   \n64      46.36   31.52     37.53          re    redocred  test   \n68      82.86   23.85     37.04          re    redocred  test   \n72      87.53   28.82     43.36          re    redocred  test   \n76      76.82   20.74     32.66          re    redocred  test   \n80      86.06   27.07     41.19          re    redocred  test   \n84      65.67   12.12     20.46          re    redocred  test   \n88      86.52   28.40     42.76          re    redocred  test   \n92      94.73   31.03     46.75          re    redocred  test   \n\n                                     model_name prediction_level  \n0                                  original_NER     original_NER  \n4   xlm-roberta-large-finetuned-conll03-english         sentence  \n8        wikineural-multilingual-ner-fine-tuned         sentence  \n12                v2\\deepseek-reasoner-repaired              NaN  \n16       v2_verifier\\deepseek-reasoner-repaired              NaN  \n20                    v4\\deepseek-chat-repaired              NaN  \n24           v4_verifier\\deepseek-chat-repaired              NaN  \n28                          entities_separately              NaN  \n32                                 original_NER     original_NER  \n36  xlm-roberta-large-finetuned-conll03-english         sentence  \n40       wikineural-multilingual-ner-fine-tuned         sentence  \n44                v2\\deepseek-reasoner-repaired              NaN  \n48       v2_verifier\\deepseek-reasoner-repaired              NaN  \n52                    v4\\deepseek-chat-repaired              NaN  \n56           v4_verifier\\deepseek-chat-repaired              NaN  \n60                          entities_separately              NaN  \n64                                 original_NER     original_NER  \n68  xlm-roberta-large-finetuned-conll03-english         sentence  \n72       wikineural-multilingual-ner-fine-tuned         sentence  \n76                v2\\deepseek-reasoner-repaired              NaN  \n80       v2_verifier\\deepseek-reasoner-repaired              NaN  \n84                    v4\\deepseek-chat-repaired              NaN  \n88           v4_verifier\\deepseek-chat-repaired              NaN  \n92                          entities_separately              NaN  ",
      "text/html": "<div>\n<style scoped>\n    .dataframe tbody tr th:only-of-type {\n        vertical-align: middle;\n    }\n\n    .dataframe tbody tr th {\n        vertical-align: top;\n    }\n\n    .dataframe thead th {\n        text-align: right;\n    }\n</style>\n<table border=\"1\" class=\"dataframe\">\n  <thead>\n    <tr style=\"text-align: right;\">\n      <th></th>\n      <th>precision</th>\n      <th>recall</th>\n      <th>f1-score</th>\n      <th>metric_type</th>\n      <th>docred_type</th>\n      <th>split</th>\n      <th>model_name</th>\n      <th>prediction_level</th>\n    </tr>\n  </thead>\n  <tbody>\n    <tr>\n      <th>0</th>\n      <td>68.22</td>\n      <td>65.94</td>\n      <td>67.06</td>\n      <td>re</td>\n      <td>docred</td>\n      <td>dev</td>\n      <td>original_NER</td>\n      <td>original_NER</td>\n    </tr>\n    <tr>\n      <th>4</th>\n      <td>59.33</td>\n      <td>49.04</td>\n      <td>53.70</td>\n      <td>re</td>\n      <td>docred</td>\n      <td>dev</td>\n      <td>xlm-roberta-large-finetuned-conll03-english</td>\n      <td>sentence</td>\n    </tr>\n    <tr>\n      <th>8</th>\n      <td>64.03</td>\n      <td>59.78</td>\n      <td>61.83</td>\n      <td>re</td>\n      <td>docred</td>\n      <td>dev</td>\n      <td>wikineural-multilingual-ner-fine-tuned</td>\n      <td>sentence</td>\n    </tr>\n    <tr>\n      <th>12</th>\n      <td>56.75</td>\n      <td>44.38</td>\n      <td>49.81</td>\n      <td>re</td>\n      <td>docred</td>\n      <td>dev</td>\n      <td>v2\\deepseek-reasoner-repaired</td>\n      <td>NaN</td>\n    </tr>\n    <tr>\n      <th>16</th>\n      <td>63.92</td>\n      <td>57.09</td>\n      <td>60.31</td>\n      <td>re</td>\n      <td>docred</td>\n      <td>dev</td>\n      <td>v2_verifier\\deepseek-reasoner-repaired</td>\n      <td>NaN</td>\n    </tr>\n    <tr>\n      <th>20</th>\n      <td>51.42</td>\n      <td>27.30</td>\n      <td>35.66</td>\n      <td>re</td>\n      <td>docred</td>\n      <td>dev</td>\n      <td>v4\\deepseek-chat-repaired</td>\n      <td>NaN</td>\n    </tr>\n    <tr>\n      <th>24</th>\n      <td>63.44</td>\n      <td>59.62</td>\n      <td>61.47</td>\n      <td>re</td>\n      <td>docred</td>\n      <td>dev</td>\n      <td>v4_verifier\\deepseek-chat-repaired</td>\n      <td>NaN</td>\n    </tr>\n    <tr>\n      <th>28</th>\n      <td>68.50</td>\n      <td>64.24</td>\n      <td>66.30</td>\n      <td>re</td>\n      <td>docred</td>\n      <td>dev</td>\n      <td>entities_separately</td>\n      <td>NaN</td>\n    </tr>\n    <tr>\n      <th>32</th>\n      <td>46.07</td>\n      <td>31.62</td>\n      <td>37.51</td>\n      <td>re</td>\n      <td>redocred</td>\n      <td>dev</td>\n      <td>original_NER</td>\n      <td>original_NER</td>\n    </tr>\n    <tr>\n      <th>36</th>\n      <td>83.96</td>\n      <td>24.55</td>\n      <td>38.00</td>\n      <td>re</td>\n      <td>redocred</td>\n      <td>dev</td>\n      <td>xlm-roberta-large-finetuned-conll03-english</td>\n      <td>sentence</td>\n    </tr>\n    <tr>\n      <th>40</th>\n      <td>88.38</td>\n      <td>28.95</td>\n      <td>43.61</td>\n      <td>re</td>\n      <td>redocred</td>\n      <td>dev</td>\n      <td>wikineural-multilingual-ner-fine-tuned</td>\n      <td>sentence</td>\n    </tr>\n    <tr>\n      <th>44</th>\n      <td>77.08</td>\n      <td>21.54</td>\n      <td>33.67</td>\n      <td>re</td>\n      <td>redocred</td>\n      <td>dev</td>\n      <td>v2\\deepseek-reasoner-repaired</td>\n      <td>NaN</td>\n    </tr>\n    <tr>\n      <th>48</th>\n      <td>87.21</td>\n      <td>27.30</td>\n      <td>41.58</td>\n      <td>re</td>\n      <td>redocred</td>\n      <td>dev</td>\n      <td>v2_verifier\\deepseek-reasoner-repaired</td>\n      <td>NaN</td>\n    </tr>\n    <tr>\n      <th>52</th>\n      <td>67.56</td>\n      <td>12.87</td>\n      <td>21.62</td>\n      <td>re</td>\n      <td>redocred</td>\n      <td>dev</td>\n      <td>v4\\deepseek-chat-repaired</td>\n      <td>NaN</td>\n    </tr>\n    <tr>\n      <th>56</th>\n      <td>87.61</td>\n      <td>29.13</td>\n      <td>43.72</td>\n      <td>re</td>\n      <td>redocred</td>\n      <td>dev</td>\n      <td>v4_verifier\\deepseek-chat-repaired</td>\n      <td>NaN</td>\n    </tr>\n    <tr>\n      <th>60</th>\n      <td>94.87</td>\n      <td>31.33</td>\n      <td>47.10</td>\n      <td>re</td>\n      <td>redocred</td>\n      <td>dev</td>\n      <td>entities_separately</td>\n      <td>NaN</td>\n    </tr>\n    <tr>\n      <th>64</th>\n      <td>46.36</td>\n      <td>31.52</td>\n      <td>37.53</td>\n      <td>re</td>\n      <td>redocred</td>\n      <td>test</td>\n      <td>original_NER</td>\n      <td>original_NER</td>\n    </tr>\n    <tr>\n      <th>68</th>\n      <td>82.86</td>\n      <td>23.85</td>\n      <td>37.04</td>\n      <td>re</td>\n      <td>redocred</td>\n      <td>test</td>\n      <td>xlm-roberta-large-finetuned-conll03-english</td>\n      <td>sentence</td>\n    </tr>\n    <tr>\n      <th>72</th>\n      <td>87.53</td>\n      <td>28.82</td>\n      <td>43.36</td>\n      <td>re</td>\n      <td>redocred</td>\n      <td>test</td>\n      <td>wikineural-multilingual-ner-fine-tuned</td>\n      <td>sentence</td>\n    </tr>\n    <tr>\n      <th>76</th>\n      <td>76.82</td>\n      <td>20.74</td>\n      <td>32.66</td>\n      <td>re</td>\n      <td>redocred</td>\n      <td>test</td>\n      <td>v2\\deepseek-reasoner-repaired</td>\n      <td>NaN</td>\n    </tr>\n    <tr>\n      <th>80</th>\n      <td>86.06</td>\n      <td>27.07</td>\n      <td>41.19</td>\n      <td>re</td>\n      <td>redocred</td>\n      <td>test</td>\n      <td>v2_verifier\\deepseek-reasoner-repaired</td>\n      <td>NaN</td>\n    </tr>\n    <tr>\n      <th>84</th>\n      <td>65.67</td>\n      <td>12.12</td>\n      <td>20.46</td>\n      <td>re</td>\n      <td>redocred</td>\n      <td>test</td>\n      <td>v4\\deepseek-chat-repaired</td>\n      <td>NaN</td>\n    </tr>\n    <tr>\n      <th>88</th>\n      <td>86.52</td>\n      <td>28.40</td>\n      <td>42.76</td>\n      <td>re</td>\n      <td>redocred</td>\n      <td>test</td>\n      <td>v4_verifier\\deepseek-chat-repaired</td>\n      <td>NaN</td>\n    </tr>\n    <tr>\n      <th>92</th>\n      <td>94.73</td>\n      <td>31.03</td>\n      <td>46.75</td>\n      <td>re</td>\n      <td>redocred</td>\n      <td>test</td>\n      <td>entities_separately</td>\n      <td>NaN</td>\n    </tr>\n  </tbody>\n</table>\n</div>"
     },
     "execution_count": 29,
     "metadata": {},
     "output_type": "execute_result"
    }
   ],
   "source": [
    "df"
   ],
   "metadata": {
    "collapsed": false
   }
  },
  {
   "cell_type": "code",
   "execution_count": 30,
   "outputs": [],
   "source": [
    "#df.to_csv('adjust_dreeam_on_different_NER_in_excel_later.csv', index=False)"
   ],
   "metadata": {
    "collapsed": false
   }
  },
  {
   "cell_type": "code",
   "execution_count": 31,
   "outputs": [
    {
     "data": {
      "text/plain": "    precision    recall  f1-score  \\\n0    0.247788  0.181818  0.209738   \n1    0.233480  0.090444  0.130381   \n2    0.241071  0.181818  0.207294   \n3    0.212963  0.181818  0.196162   \n4    0.280443  0.246753  0.262522   \n..        ...       ...       ...   \n79   0.181818  0.103896  0.132231   \n80   0.221477  0.107143  0.144420   \n81   0.181250  0.049488  0.077748   \n82   0.221476  0.107143  0.144420   \n83   0.194444  0.107143  0.138158   \n\n                                    metric_type docred_type split  \\\n0                                            re      docred   dev   \n1                                           evi      docred   dev   \n2   re_ignore_train_annotated (used officially)      docred   dev   \n3                               re_ignore_train      docred   dev   \n4                                            re      docred   dev   \n..                                          ...         ...   ...   \n79                              re_ignore_train      docred   dev   \n80                                           re      docred   dev   \n81                                          evi      docred   dev   \n82  re_ignore_train_annotated (used officially)      docred   dev   \n83                              re_ignore_train      docred   dev   \n\n         ner_model_name  prediction_level         experiment_type experiment  \\\n0   entities_separately                20  re_entities_separately         v1   \n1   entities_separately                20  re_entities_separately         v1   \n2   entities_separately                20  re_entities_separately         v1   \n3   entities_separately                20  re_entities_separately         v1   \n4   entities_separately                20  re_entities_separately         v2   \n..                  ...               ...                     ...        ...   \n79  entities_separately                20  re_entities_separately         v6   \n80  entities_separately                20  re_entities_separately         v7   \n81  entities_separately                20  re_entities_separately         v7   \n82  entities_separately                20  re_entities_separately         v7   \n83  entities_separately                20  re_entities_separately         v7   \n\n            model  \n0   deepseek-chat  \n1   deepseek-chat  \n2   deepseek-chat  \n3   deepseek-chat  \n4   deepseek-chat  \n..            ...  \n79    gpt-4o-mini  \n80    gpt-4o-mini  \n81    gpt-4o-mini  \n82    gpt-4o-mini  \n83    gpt-4o-mini  \n\n[84 rows x 11 columns]",
      "text/html": "<div>\n<style scoped>\n    .dataframe tbody tr th:only-of-type {\n        vertical-align: middle;\n    }\n\n    .dataframe tbody tr th {\n        vertical-align: top;\n    }\n\n    .dataframe thead th {\n        text-align: right;\n    }\n</style>\n<table border=\"1\" class=\"dataframe\">\n  <thead>\n    <tr style=\"text-align: right;\">\n      <th></th>\n      <th>precision</th>\n      <th>recall</th>\n      <th>f1-score</th>\n      <th>metric_type</th>\n      <th>docred_type</th>\n      <th>split</th>\n      <th>ner_model_name</th>\n      <th>prediction_level</th>\n      <th>experiment_type</th>\n      <th>experiment</th>\n      <th>model</th>\n    </tr>\n  </thead>\n  <tbody>\n    <tr>\n      <th>0</th>\n      <td>0.247788</td>\n      <td>0.181818</td>\n      <td>0.209738</td>\n      <td>re</td>\n      <td>docred</td>\n      <td>dev</td>\n      <td>entities_separately</td>\n      <td>20</td>\n      <td>re_entities_separately</td>\n      <td>v1</td>\n      <td>deepseek-chat</td>\n    </tr>\n    <tr>\n      <th>1</th>\n      <td>0.233480</td>\n      <td>0.090444</td>\n      <td>0.130381</td>\n      <td>evi</td>\n      <td>docred</td>\n      <td>dev</td>\n      <td>entities_separately</td>\n      <td>20</td>\n      <td>re_entities_separately</td>\n      <td>v1</td>\n      <td>deepseek-chat</td>\n    </tr>\n    <tr>\n      <th>2</th>\n      <td>0.241071</td>\n      <td>0.181818</td>\n      <td>0.207294</td>\n      <td>re_ignore_train_annotated (used officially)</td>\n      <td>docred</td>\n      <td>dev</td>\n      <td>entities_separately</td>\n      <td>20</td>\n      <td>re_entities_separately</td>\n      <td>v1</td>\n      <td>deepseek-chat</td>\n    </tr>\n    <tr>\n      <th>3</th>\n      <td>0.212963</td>\n      <td>0.181818</td>\n      <td>0.196162</td>\n      <td>re_ignore_train</td>\n      <td>docred</td>\n      <td>dev</td>\n      <td>entities_separately</td>\n      <td>20</td>\n      <td>re_entities_separately</td>\n      <td>v1</td>\n      <td>deepseek-chat</td>\n    </tr>\n    <tr>\n      <th>4</th>\n      <td>0.280443</td>\n      <td>0.246753</td>\n      <td>0.262522</td>\n      <td>re</td>\n      <td>docred</td>\n      <td>dev</td>\n      <td>entities_separately</td>\n      <td>20</td>\n      <td>re_entities_separately</td>\n      <td>v2</td>\n      <td>deepseek-chat</td>\n    </tr>\n    <tr>\n      <th>...</th>\n      <td>...</td>\n      <td>...</td>\n      <td>...</td>\n      <td>...</td>\n      <td>...</td>\n      <td>...</td>\n      <td>...</td>\n      <td>...</td>\n      <td>...</td>\n      <td>...</td>\n      <td>...</td>\n    </tr>\n    <tr>\n      <th>79</th>\n      <td>0.181818</td>\n      <td>0.103896</td>\n      <td>0.132231</td>\n      <td>re_ignore_train</td>\n      <td>docred</td>\n      <td>dev</td>\n      <td>entities_separately</td>\n      <td>20</td>\n      <td>re_entities_separately</td>\n      <td>v6</td>\n      <td>gpt-4o-mini</td>\n    </tr>\n    <tr>\n      <th>80</th>\n      <td>0.221477</td>\n      <td>0.107143</td>\n      <td>0.144420</td>\n      <td>re</td>\n      <td>docred</td>\n      <td>dev</td>\n      <td>entities_separately</td>\n      <td>20</td>\n      <td>re_entities_separately</td>\n      <td>v7</td>\n      <td>gpt-4o-mini</td>\n    </tr>\n    <tr>\n      <th>81</th>\n      <td>0.181250</td>\n      <td>0.049488</td>\n      <td>0.077748</td>\n      <td>evi</td>\n      <td>docred</td>\n      <td>dev</td>\n      <td>entities_separately</td>\n      <td>20</td>\n      <td>re_entities_separately</td>\n      <td>v7</td>\n      <td>gpt-4o-mini</td>\n    </tr>\n    <tr>\n      <th>82</th>\n      <td>0.221476</td>\n      <td>0.107143</td>\n      <td>0.144420</td>\n      <td>re_ignore_train_annotated (used officially)</td>\n      <td>docred</td>\n      <td>dev</td>\n      <td>entities_separately</td>\n      <td>20</td>\n      <td>re_entities_separately</td>\n      <td>v7</td>\n      <td>gpt-4o-mini</td>\n    </tr>\n    <tr>\n      <th>83</th>\n      <td>0.194444</td>\n      <td>0.107143</td>\n      <td>0.138158</td>\n      <td>re_ignore_train</td>\n      <td>docred</td>\n      <td>dev</td>\n      <td>entities_separately</td>\n      <td>20</td>\n      <td>re_entities_separately</td>\n      <td>v7</td>\n      <td>gpt-4o-mini</td>\n    </tr>\n  </tbody>\n</table>\n<p>84 rows × 11 columns</p>\n</div>"
     },
     "execution_count": 31,
     "metadata": {},
     "output_type": "execute_result"
    }
   ],
   "source": [
    "df1 = pd.read_csv('../results_LLMs_API_20_docs.csv')\n",
    "df2 = pd.read_csv('../results_LLMs_API_20_docs_part2.csv')\n",
    "df3 = pd.read_csv('../results_LLMs_API_20_docs_part3.csv')\n",
    "df = pd.concat([df1, df2, df3], ignore_index=True, sort=False)\n",
    "df"
   ],
   "metadata": {
    "collapsed": false
   }
  },
  {
   "cell_type": "code",
   "execution_count": 32,
   "outputs": [
    {
     "data": {
      "text/plain": "    precision    recall  f1-score metric_type docred_type split  \\\n0    0.247788  0.181818  0.209738          re      docred   dev   \n4    0.280443  0.246753  0.262522          re      docred   dev   \n8    0.293651  0.240260  0.264286          re      docred   dev   \n12   0.290323  0.262987  0.275980          re      docred   dev   \n16   0.236967  0.162338  0.192678          re      docred   dev   \n20   0.271552  0.204545  0.233333          re      docred   dev   \n24   0.286290  0.230519  0.255396          re      docred   dev   \n28   0.325581  0.227273  0.267686          re      docred   dev   \n32   0.348000  0.282468  0.311828          re      docred   dev   \n36   0.259912  0.191558  0.220561          re      docred   dev   \n40   0.153846  0.025974  0.044444          re      docred   dev   \n44   0.173077  0.058442  0.087379          re      docred   dev   \n48   0.221053  0.068182  0.104218          re      docred   dev   \n52   0.187050  0.084416  0.116331          re      docred   dev   \n56   0.000000  0.000000  0.000000          re      docred   dev   \n60   0.247312  0.298701  0.270588          re      docred   dev   \n64   0.298137  0.311688  0.304762          re      docred   dev   \n68   0.335878  0.285714  0.308772          re      docred   dev   \n72   0.326460  0.308442  0.317195          re      docred   dev   \n76   0.202532  0.103896  0.137339          re      docred   dev   \n80   0.221477  0.107143  0.144420          re      docred   dev   \n\n         ner_model_name  prediction_level         experiment_type experiment  \\\n0   entities_separately                20  re_entities_separately         v1   \n4   entities_separately                20  re_entities_separately         v2   \n8   entities_separately                20  re_entities_separately         v3   \n12  entities_separately                20  re_entities_separately         v4   \n16  entities_separately                20  re_entities_separately         v5   \n20  entities_separately                20  re_entities_separately         v1   \n24  entities_separately                20  re_entities_separately         v2   \n28  entities_separately                20  re_entities_separately         v3   \n32  entities_separately                20  re_entities_separately         v4   \n36  entities_separately                20  re_entities_separately         v5   \n40  entities_separately                20  re_entities_separately         v1   \n44  entities_separately                20  re_entities_separately         v2   \n48  entities_separately                20  re_entities_separately         v3   \n52  entities_separately                20  re_entities_separately         v4   \n56  entities_separately                20  re_entities_separately         v5   \n60  entities_separately                20  re_entities_separately         v6   \n64  entities_separately                20  re_entities_separately         v7   \n68  entities_separately                20  re_entities_separately         v6   \n72  entities_separately                20  re_entities_separately         v7   \n76  entities_separately                20  re_entities_separately         v6   \n80  entities_separately                20  re_entities_separately         v7   \n\n                model  \n0       deepseek-chat  \n4       deepseek-chat  \n8       deepseek-chat  \n12      deepseek-chat  \n16      deepseek-chat  \n20  deepseek-reasoner  \n24  deepseek-reasoner  \n28  deepseek-reasoner  \n32  deepseek-reasoner  \n36  deepseek-reasoner  \n40        gpt-4o-mini  \n44        gpt-4o-mini  \n48        gpt-4o-mini  \n52        gpt-4o-mini  \n56        gpt-4o-mini  \n60      deepseek-chat  \n64      deepseek-chat  \n68  deepseek-reasoner  \n72  deepseek-reasoner  \n76        gpt-4o-mini  \n80        gpt-4o-mini  ",
      "text/html": "<div>\n<style scoped>\n    .dataframe tbody tr th:only-of-type {\n        vertical-align: middle;\n    }\n\n    .dataframe tbody tr th {\n        vertical-align: top;\n    }\n\n    .dataframe thead th {\n        text-align: right;\n    }\n</style>\n<table border=\"1\" class=\"dataframe\">\n  <thead>\n    <tr style=\"text-align: right;\">\n      <th></th>\n      <th>precision</th>\n      <th>recall</th>\n      <th>f1-score</th>\n      <th>metric_type</th>\n      <th>docred_type</th>\n      <th>split</th>\n      <th>ner_model_name</th>\n      <th>prediction_level</th>\n      <th>experiment_type</th>\n      <th>experiment</th>\n      <th>model</th>\n    </tr>\n  </thead>\n  <tbody>\n    <tr>\n      <th>0</th>\n      <td>0.247788</td>\n      <td>0.181818</td>\n      <td>0.209738</td>\n      <td>re</td>\n      <td>docred</td>\n      <td>dev</td>\n      <td>entities_separately</td>\n      <td>20</td>\n      <td>re_entities_separately</td>\n      <td>v1</td>\n      <td>deepseek-chat</td>\n    </tr>\n    <tr>\n      <th>4</th>\n      <td>0.280443</td>\n      <td>0.246753</td>\n      <td>0.262522</td>\n      <td>re</td>\n      <td>docred</td>\n      <td>dev</td>\n      <td>entities_separately</td>\n      <td>20</td>\n      <td>re_entities_separately</td>\n      <td>v2</td>\n      <td>deepseek-chat</td>\n    </tr>\n    <tr>\n      <th>8</th>\n      <td>0.293651</td>\n      <td>0.240260</td>\n      <td>0.264286</td>\n      <td>re</td>\n      <td>docred</td>\n      <td>dev</td>\n      <td>entities_separately</td>\n      <td>20</td>\n      <td>re_entities_separately</td>\n      <td>v3</td>\n      <td>deepseek-chat</td>\n    </tr>\n    <tr>\n      <th>12</th>\n      <td>0.290323</td>\n      <td>0.262987</td>\n      <td>0.275980</td>\n      <td>re</td>\n      <td>docred</td>\n      <td>dev</td>\n      <td>entities_separately</td>\n      <td>20</td>\n      <td>re_entities_separately</td>\n      <td>v4</td>\n      <td>deepseek-chat</td>\n    </tr>\n    <tr>\n      <th>16</th>\n      <td>0.236967</td>\n      <td>0.162338</td>\n      <td>0.192678</td>\n      <td>re</td>\n      <td>docred</td>\n      <td>dev</td>\n      <td>entities_separately</td>\n      <td>20</td>\n      <td>re_entities_separately</td>\n      <td>v5</td>\n      <td>deepseek-chat</td>\n    </tr>\n    <tr>\n      <th>20</th>\n      <td>0.271552</td>\n      <td>0.204545</td>\n      <td>0.233333</td>\n      <td>re</td>\n      <td>docred</td>\n      <td>dev</td>\n      <td>entities_separately</td>\n      <td>20</td>\n      <td>re_entities_separately</td>\n      <td>v1</td>\n      <td>deepseek-reasoner</td>\n    </tr>\n    <tr>\n      <th>24</th>\n      <td>0.286290</td>\n      <td>0.230519</td>\n      <td>0.255396</td>\n      <td>re</td>\n      <td>docred</td>\n      <td>dev</td>\n      <td>entities_separately</td>\n      <td>20</td>\n      <td>re_entities_separately</td>\n      <td>v2</td>\n      <td>deepseek-reasoner</td>\n    </tr>\n    <tr>\n      <th>28</th>\n      <td>0.325581</td>\n      <td>0.227273</td>\n      <td>0.267686</td>\n      <td>re</td>\n      <td>docred</td>\n      <td>dev</td>\n      <td>entities_separately</td>\n      <td>20</td>\n      <td>re_entities_separately</td>\n      <td>v3</td>\n      <td>deepseek-reasoner</td>\n    </tr>\n    <tr>\n      <th>32</th>\n      <td>0.348000</td>\n      <td>0.282468</td>\n      <td>0.311828</td>\n      <td>re</td>\n      <td>docred</td>\n      <td>dev</td>\n      <td>entities_separately</td>\n      <td>20</td>\n      <td>re_entities_separately</td>\n      <td>v4</td>\n      <td>deepseek-reasoner</td>\n    </tr>\n    <tr>\n      <th>36</th>\n      <td>0.259912</td>\n      <td>0.191558</td>\n      <td>0.220561</td>\n      <td>re</td>\n      <td>docred</td>\n      <td>dev</td>\n      <td>entities_separately</td>\n      <td>20</td>\n      <td>re_entities_separately</td>\n      <td>v5</td>\n      <td>deepseek-reasoner</td>\n    </tr>\n    <tr>\n      <th>40</th>\n      <td>0.153846</td>\n      <td>0.025974</td>\n      <td>0.044444</td>\n      <td>re</td>\n      <td>docred</td>\n      <td>dev</td>\n      <td>entities_separately</td>\n      <td>20</td>\n      <td>re_entities_separately</td>\n      <td>v1</td>\n      <td>gpt-4o-mini</td>\n    </tr>\n    <tr>\n      <th>44</th>\n      <td>0.173077</td>\n      <td>0.058442</td>\n      <td>0.087379</td>\n      <td>re</td>\n      <td>docred</td>\n      <td>dev</td>\n      <td>entities_separately</td>\n      <td>20</td>\n      <td>re_entities_separately</td>\n      <td>v2</td>\n      <td>gpt-4o-mini</td>\n    </tr>\n    <tr>\n      <th>48</th>\n      <td>0.221053</td>\n      <td>0.068182</td>\n      <td>0.104218</td>\n      <td>re</td>\n      <td>docred</td>\n      <td>dev</td>\n      <td>entities_separately</td>\n      <td>20</td>\n      <td>re_entities_separately</td>\n      <td>v3</td>\n      <td>gpt-4o-mini</td>\n    </tr>\n    <tr>\n      <th>52</th>\n      <td>0.187050</td>\n      <td>0.084416</td>\n      <td>0.116331</td>\n      <td>re</td>\n      <td>docred</td>\n      <td>dev</td>\n      <td>entities_separately</td>\n      <td>20</td>\n      <td>re_entities_separately</td>\n      <td>v4</td>\n      <td>gpt-4o-mini</td>\n    </tr>\n    <tr>\n      <th>56</th>\n      <td>0.000000</td>\n      <td>0.000000</td>\n      <td>0.000000</td>\n      <td>re</td>\n      <td>docred</td>\n      <td>dev</td>\n      <td>entities_separately</td>\n      <td>20</td>\n      <td>re_entities_separately</td>\n      <td>v5</td>\n      <td>gpt-4o-mini</td>\n    </tr>\n    <tr>\n      <th>60</th>\n      <td>0.247312</td>\n      <td>0.298701</td>\n      <td>0.270588</td>\n      <td>re</td>\n      <td>docred</td>\n      <td>dev</td>\n      <td>entities_separately</td>\n      <td>20</td>\n      <td>re_entities_separately</td>\n      <td>v6</td>\n      <td>deepseek-chat</td>\n    </tr>\n    <tr>\n      <th>64</th>\n      <td>0.298137</td>\n      <td>0.311688</td>\n      <td>0.304762</td>\n      <td>re</td>\n      <td>docred</td>\n      <td>dev</td>\n      <td>entities_separately</td>\n      <td>20</td>\n      <td>re_entities_separately</td>\n      <td>v7</td>\n      <td>deepseek-chat</td>\n    </tr>\n    <tr>\n      <th>68</th>\n      <td>0.335878</td>\n      <td>0.285714</td>\n      <td>0.308772</td>\n      <td>re</td>\n      <td>docred</td>\n      <td>dev</td>\n      <td>entities_separately</td>\n      <td>20</td>\n      <td>re_entities_separately</td>\n      <td>v6</td>\n      <td>deepseek-reasoner</td>\n    </tr>\n    <tr>\n      <th>72</th>\n      <td>0.326460</td>\n      <td>0.308442</td>\n      <td>0.317195</td>\n      <td>re</td>\n      <td>docred</td>\n      <td>dev</td>\n      <td>entities_separately</td>\n      <td>20</td>\n      <td>re_entities_separately</td>\n      <td>v7</td>\n      <td>deepseek-reasoner</td>\n    </tr>\n    <tr>\n      <th>76</th>\n      <td>0.202532</td>\n      <td>0.103896</td>\n      <td>0.137339</td>\n      <td>re</td>\n      <td>docred</td>\n      <td>dev</td>\n      <td>entities_separately</td>\n      <td>20</td>\n      <td>re_entities_separately</td>\n      <td>v6</td>\n      <td>gpt-4o-mini</td>\n    </tr>\n    <tr>\n      <th>80</th>\n      <td>0.221477</td>\n      <td>0.107143</td>\n      <td>0.144420</td>\n      <td>re</td>\n      <td>docred</td>\n      <td>dev</td>\n      <td>entities_separately</td>\n      <td>20</td>\n      <td>re_entities_separately</td>\n      <td>v7</td>\n      <td>gpt-4o-mini</td>\n    </tr>\n  </tbody>\n</table>\n</div>"
     },
     "execution_count": 32,
     "metadata": {},
     "output_type": "execute_result"
    }
   ],
   "source": [
    "df = df[df['metric_type'] == 're']\n",
    "df"
   ],
   "metadata": {
    "collapsed": false
   }
  },
  {
   "cell_type": "markdown",
   "source": [
    "# Full evaluation on 20 documents with LLMs API"
   ],
   "metadata": {
    "collapsed": false
   }
  },
  {
   "cell_type": "code",
   "execution_count": 33,
   "outputs": [],
   "source": [
    "import pandas as pd"
   ],
   "metadata": {
    "collapsed": false
   }
  },
  {
   "cell_type": "code",
   "execution_count": 34,
   "outputs": [],
   "source": [
    "df = pd.read_csv('../results_LLMs_API_20_full-new-eval.csv')"
   ],
   "metadata": {
    "collapsed": false
   }
  },
  {
   "cell_type": "code",
   "execution_count": 35,
   "outputs": [
    {
     "data": {
      "text/plain": "     precision    recall  f1-score  \\\n0     0.247788  0.181818  0.209738   \n1     0.233480  0.090444  0.130381   \n2     0.241071  0.181818  0.207294   \n3     0.212963  0.181818  0.196162   \n4     0.280443  0.246753  0.262522   \n..         ...       ...       ...   \n163   0.253012  0.072086  0.112204   \n164   0.262570  0.072086  0.113117   \n165   0.108247  0.040307  0.058741   \n166   0.262570  0.072086  0.113117   \n167   0.245714  0.072086  0.111470   \n\n                                     metric_type docred_type split  \\\n0                                             re      docred   dev   \n1                                            evi      docred   dev   \n2    re_ignore_train_annotated (used officially)      docred   dev   \n3                                re_ignore_train      docred   dev   \n4                                             re      docred   dev   \n..                                           ...         ...   ...   \n163                              re_ignore_train    redocred  test   \n164                                           re    redocred  test   \n165                                          evi    redocred  test   \n166  re_ignore_train_annotated (used officially)    redocred  test   \n167                              re_ignore_train    redocred  test   \n\n          ner_model_name  prediction_level         experiment_type experiment  \\\n0    entities_separately                20  re_entities_separately         v1   \n1    entities_separately                20  re_entities_separately         v1   \n2    entities_separately                20  re_entities_separately         v1   \n3    entities_separately                20  re_entities_separately         v1   \n4    entities_separately                20  re_entities_separately         v2   \n..                   ...               ...                     ...        ...   \n163  entities_separately                20  re_entities_separately         v6   \n164  entities_separately                20  re_entities_separately         v7   \n165  entities_separately                20  re_entities_separately         v7   \n166  entities_separately                20  re_entities_separately         v7   \n167  entities_separately                20  re_entities_separately         v7   \n\n             model  \n0    deepseek-chat  \n1    deepseek-chat  \n2    deepseek-chat  \n3    deepseek-chat  \n4    deepseek-chat  \n..             ...  \n163    gpt-4o-mini  \n164    gpt-4o-mini  \n165    gpt-4o-mini  \n166    gpt-4o-mini  \n167    gpt-4o-mini  \n\n[168 rows x 11 columns]",
      "text/html": "<div>\n<style scoped>\n    .dataframe tbody tr th:only-of-type {\n        vertical-align: middle;\n    }\n\n    .dataframe tbody tr th {\n        vertical-align: top;\n    }\n\n    .dataframe thead th {\n        text-align: right;\n    }\n</style>\n<table border=\"1\" class=\"dataframe\">\n  <thead>\n    <tr style=\"text-align: right;\">\n      <th></th>\n      <th>precision</th>\n      <th>recall</th>\n      <th>f1-score</th>\n      <th>metric_type</th>\n      <th>docred_type</th>\n      <th>split</th>\n      <th>ner_model_name</th>\n      <th>prediction_level</th>\n      <th>experiment_type</th>\n      <th>experiment</th>\n      <th>model</th>\n    </tr>\n  </thead>\n  <tbody>\n    <tr>\n      <th>0</th>\n      <td>0.247788</td>\n      <td>0.181818</td>\n      <td>0.209738</td>\n      <td>re</td>\n      <td>docred</td>\n      <td>dev</td>\n      <td>entities_separately</td>\n      <td>20</td>\n      <td>re_entities_separately</td>\n      <td>v1</td>\n      <td>deepseek-chat</td>\n    </tr>\n    <tr>\n      <th>1</th>\n      <td>0.233480</td>\n      <td>0.090444</td>\n      <td>0.130381</td>\n      <td>evi</td>\n      <td>docred</td>\n      <td>dev</td>\n      <td>entities_separately</td>\n      <td>20</td>\n      <td>re_entities_separately</td>\n      <td>v1</td>\n      <td>deepseek-chat</td>\n    </tr>\n    <tr>\n      <th>2</th>\n      <td>0.241071</td>\n      <td>0.181818</td>\n      <td>0.207294</td>\n      <td>re_ignore_train_annotated (used officially)</td>\n      <td>docred</td>\n      <td>dev</td>\n      <td>entities_separately</td>\n      <td>20</td>\n      <td>re_entities_separately</td>\n      <td>v1</td>\n      <td>deepseek-chat</td>\n    </tr>\n    <tr>\n      <th>3</th>\n      <td>0.212963</td>\n      <td>0.181818</td>\n      <td>0.196162</td>\n      <td>re_ignore_train</td>\n      <td>docred</td>\n      <td>dev</td>\n      <td>entities_separately</td>\n      <td>20</td>\n      <td>re_entities_separately</td>\n      <td>v1</td>\n      <td>deepseek-chat</td>\n    </tr>\n    <tr>\n      <th>4</th>\n      <td>0.280443</td>\n      <td>0.246753</td>\n      <td>0.262522</td>\n      <td>re</td>\n      <td>docred</td>\n      <td>dev</td>\n      <td>entities_separately</td>\n      <td>20</td>\n      <td>re_entities_separately</td>\n      <td>v2</td>\n      <td>deepseek-chat</td>\n    </tr>\n    <tr>\n      <th>...</th>\n      <td>...</td>\n      <td>...</td>\n      <td>...</td>\n      <td>...</td>\n      <td>...</td>\n      <td>...</td>\n      <td>...</td>\n      <td>...</td>\n      <td>...</td>\n      <td>...</td>\n      <td>...</td>\n    </tr>\n    <tr>\n      <th>163</th>\n      <td>0.253012</td>\n      <td>0.072086</td>\n      <td>0.112204</td>\n      <td>re_ignore_train</td>\n      <td>redocred</td>\n      <td>test</td>\n      <td>entities_separately</td>\n      <td>20</td>\n      <td>re_entities_separately</td>\n      <td>v6</td>\n      <td>gpt-4o-mini</td>\n    </tr>\n    <tr>\n      <th>164</th>\n      <td>0.262570</td>\n      <td>0.072086</td>\n      <td>0.113117</td>\n      <td>re</td>\n      <td>redocred</td>\n      <td>test</td>\n      <td>entities_separately</td>\n      <td>20</td>\n      <td>re_entities_separately</td>\n      <td>v7</td>\n      <td>gpt-4o-mini</td>\n    </tr>\n    <tr>\n      <th>165</th>\n      <td>0.108247</td>\n      <td>0.040307</td>\n      <td>0.058741</td>\n      <td>evi</td>\n      <td>redocred</td>\n      <td>test</td>\n      <td>entities_separately</td>\n      <td>20</td>\n      <td>re_entities_separately</td>\n      <td>v7</td>\n      <td>gpt-4o-mini</td>\n    </tr>\n    <tr>\n      <th>166</th>\n      <td>0.262570</td>\n      <td>0.072086</td>\n      <td>0.113117</td>\n      <td>re_ignore_train_annotated (used officially)</td>\n      <td>redocred</td>\n      <td>test</td>\n      <td>entities_separately</td>\n      <td>20</td>\n      <td>re_entities_separately</td>\n      <td>v7</td>\n      <td>gpt-4o-mini</td>\n    </tr>\n    <tr>\n      <th>167</th>\n      <td>0.245714</td>\n      <td>0.072086</td>\n      <td>0.111470</td>\n      <td>re_ignore_train</td>\n      <td>redocred</td>\n      <td>test</td>\n      <td>entities_separately</td>\n      <td>20</td>\n      <td>re_entities_separately</td>\n      <td>v7</td>\n      <td>gpt-4o-mini</td>\n    </tr>\n  </tbody>\n</table>\n<p>168 rows × 11 columns</p>\n</div>"
     },
     "execution_count": 35,
     "metadata": {},
     "output_type": "execute_result"
    }
   ],
   "source": [
    "df"
   ],
   "metadata": {
    "collapsed": false
   }
  },
  {
   "cell_type": "code",
   "execution_count": 36,
   "outputs": [],
   "source": [
    "df = df[df.metric_type == 're']"
   ],
   "metadata": {
    "collapsed": false
   }
  },
  {
   "cell_type": "code",
   "execution_count": 38,
   "outputs": [
    {
     "data": {
      "text/plain": "     precision    recall  f1-score              model experiment docred_type  \\\n0     0.247788  0.181818  0.209738      deepseek-chat         v1      docred   \n4     0.280443  0.246753  0.262522      deepseek-chat         v2      docred   \n8     0.293651  0.240260  0.264286      deepseek-chat         v3      docred   \n12    0.290323  0.262987  0.275980      deepseek-chat         v4      docred   \n16    0.236967  0.162338  0.192678      deepseek-chat         v5      docred   \n20    0.247312  0.298701  0.270588      deepseek-chat         v6      docred   \n24    0.298137  0.311688  0.304762      deepseek-chat         v7      docred   \n28    0.271552  0.204545  0.233333  deepseek-reasoner         v1      docred   \n32    0.286290  0.230519  0.255396  deepseek-reasoner         v2      docred   \n36    0.325581  0.227273  0.267686  deepseek-reasoner         v3      docred   \n40    0.348000  0.282468  0.311828  deepseek-reasoner         v4      docred   \n44    0.259912  0.191558  0.220561  deepseek-reasoner         v5      docred   \n48    0.335878  0.285714  0.308772  deepseek-reasoner         v6      docred   \n52    0.326460  0.308442  0.317195  deepseek-reasoner         v7      docred   \n56    0.153846  0.025974  0.044444        gpt-4o-mini         v1      docred   \n60    0.173077  0.058442  0.087379        gpt-4o-mini         v2      docred   \n64    0.221053  0.068182  0.104218        gpt-4o-mini         v3      docred   \n68    0.187050  0.084416  0.116331        gpt-4o-mini         v4      docred   \n72    0.000000  0.000000  0.000000        gpt-4o-mini         v5      docred   \n76    0.202532  0.103896  0.137339        gpt-4o-mini         v6      docred   \n80    0.221477  0.107143  0.144420        gpt-4o-mini         v7      docred   \n84    0.370370  0.122699  0.184332      deepseek-chat         v1    redocred   \n88    0.416949  0.188650  0.259768      deepseek-chat         v2    redocred   \n92    0.459677  0.174847  0.253333      deepseek-chat         v3    redocred   \n96    0.521036  0.246933  0.335068      deepseek-chat         v4    redocred   \n100   0.462312  0.141104  0.216216      deepseek-chat         v5    redocred   \n104   0.464286  0.299080  0.363806      deepseek-chat         v6    redocred   \n108   0.494505  0.276074  0.354331      deepseek-chat         v7    redocred   \n112   0.461864  0.167178  0.245495  deepseek-reasoner         v1    redocred   \n116   0.462366  0.197853  0.277121  deepseek-reasoner         v2    redocred   \n120   0.506608  0.176380  0.261661  deepseek-reasoner         v3    redocred   \n124   0.539924  0.217791  0.310383  deepseek-reasoner         v4    redocred   \n128   0.427313  0.148773  0.220705  deepseek-reasoner         v5    redocred   \n132   0.468165  0.191718  0.272035  deepseek-reasoner         v6    redocred   \n136   0.562724  0.240798  0.337272  deepseek-reasoner         v7    redocred   \n140   0.232143  0.019939  0.036723        gpt-4o-mini         v1    redocred   \n144   0.260870  0.036810  0.064516        gpt-4o-mini         v2    redocred   \n148   0.318182  0.042945  0.075676        gpt-4o-mini         v3    redocred   \n152   0.325581  0.064417  0.107554        gpt-4o-mini         v4    redocred   \n156   0.000000  0.000000  0.000000        gpt-4o-mini         v5    redocred   \n160   0.274854  0.072086  0.114216        gpt-4o-mini         v6    redocred   \n164   0.262570  0.072086  0.113117        gpt-4o-mini         v7    redocred   \n\n    split  \n0     dev  \n4     dev  \n8     dev  \n12    dev  \n16    dev  \n20    dev  \n24    dev  \n28    dev  \n32    dev  \n36    dev  \n40    dev  \n44    dev  \n48    dev  \n52    dev  \n56    dev  \n60    dev  \n64    dev  \n68    dev  \n72    dev  \n76    dev  \n80    dev  \n84   test  \n88   test  \n92   test  \n96   test  \n100  test  \n104  test  \n108  test  \n112  test  \n116  test  \n120  test  \n124  test  \n128  test  \n132  test  \n136  test  \n140  test  \n144  test  \n148  test  \n152  test  \n156  test  \n160  test  \n164  test  ",
      "text/html": "<div>\n<style scoped>\n    .dataframe tbody tr th:only-of-type {\n        vertical-align: middle;\n    }\n\n    .dataframe tbody tr th {\n        vertical-align: top;\n    }\n\n    .dataframe thead th {\n        text-align: right;\n    }\n</style>\n<table border=\"1\" class=\"dataframe\">\n  <thead>\n    <tr style=\"text-align: right;\">\n      <th></th>\n      <th>precision</th>\n      <th>recall</th>\n      <th>f1-score</th>\n      <th>model</th>\n      <th>experiment</th>\n      <th>docred_type</th>\n      <th>split</th>\n    </tr>\n  </thead>\n  <tbody>\n    <tr>\n      <th>0</th>\n      <td>0.247788</td>\n      <td>0.181818</td>\n      <td>0.209738</td>\n      <td>deepseek-chat</td>\n      <td>v1</td>\n      <td>docred</td>\n      <td>dev</td>\n    </tr>\n    <tr>\n      <th>4</th>\n      <td>0.280443</td>\n      <td>0.246753</td>\n      <td>0.262522</td>\n      <td>deepseek-chat</td>\n      <td>v2</td>\n      <td>docred</td>\n      <td>dev</td>\n    </tr>\n    <tr>\n      <th>8</th>\n      <td>0.293651</td>\n      <td>0.240260</td>\n      <td>0.264286</td>\n      <td>deepseek-chat</td>\n      <td>v3</td>\n      <td>docred</td>\n      <td>dev</td>\n    </tr>\n    <tr>\n      <th>12</th>\n      <td>0.290323</td>\n      <td>0.262987</td>\n      <td>0.275980</td>\n      <td>deepseek-chat</td>\n      <td>v4</td>\n      <td>docred</td>\n      <td>dev</td>\n    </tr>\n    <tr>\n      <th>16</th>\n      <td>0.236967</td>\n      <td>0.162338</td>\n      <td>0.192678</td>\n      <td>deepseek-chat</td>\n      <td>v5</td>\n      <td>docred</td>\n      <td>dev</td>\n    </tr>\n    <tr>\n      <th>20</th>\n      <td>0.247312</td>\n      <td>0.298701</td>\n      <td>0.270588</td>\n      <td>deepseek-chat</td>\n      <td>v6</td>\n      <td>docred</td>\n      <td>dev</td>\n    </tr>\n    <tr>\n      <th>24</th>\n      <td>0.298137</td>\n      <td>0.311688</td>\n      <td>0.304762</td>\n      <td>deepseek-chat</td>\n      <td>v7</td>\n      <td>docred</td>\n      <td>dev</td>\n    </tr>\n    <tr>\n      <th>28</th>\n      <td>0.271552</td>\n      <td>0.204545</td>\n      <td>0.233333</td>\n      <td>deepseek-reasoner</td>\n      <td>v1</td>\n      <td>docred</td>\n      <td>dev</td>\n    </tr>\n    <tr>\n      <th>32</th>\n      <td>0.286290</td>\n      <td>0.230519</td>\n      <td>0.255396</td>\n      <td>deepseek-reasoner</td>\n      <td>v2</td>\n      <td>docred</td>\n      <td>dev</td>\n    </tr>\n    <tr>\n      <th>36</th>\n      <td>0.325581</td>\n      <td>0.227273</td>\n      <td>0.267686</td>\n      <td>deepseek-reasoner</td>\n      <td>v3</td>\n      <td>docred</td>\n      <td>dev</td>\n    </tr>\n    <tr>\n      <th>40</th>\n      <td>0.348000</td>\n      <td>0.282468</td>\n      <td>0.311828</td>\n      <td>deepseek-reasoner</td>\n      <td>v4</td>\n      <td>docred</td>\n      <td>dev</td>\n    </tr>\n    <tr>\n      <th>44</th>\n      <td>0.259912</td>\n      <td>0.191558</td>\n      <td>0.220561</td>\n      <td>deepseek-reasoner</td>\n      <td>v5</td>\n      <td>docred</td>\n      <td>dev</td>\n    </tr>\n    <tr>\n      <th>48</th>\n      <td>0.335878</td>\n      <td>0.285714</td>\n      <td>0.308772</td>\n      <td>deepseek-reasoner</td>\n      <td>v6</td>\n      <td>docred</td>\n      <td>dev</td>\n    </tr>\n    <tr>\n      <th>52</th>\n      <td>0.326460</td>\n      <td>0.308442</td>\n      <td>0.317195</td>\n      <td>deepseek-reasoner</td>\n      <td>v7</td>\n      <td>docred</td>\n      <td>dev</td>\n    </tr>\n    <tr>\n      <th>56</th>\n      <td>0.153846</td>\n      <td>0.025974</td>\n      <td>0.044444</td>\n      <td>gpt-4o-mini</td>\n      <td>v1</td>\n      <td>docred</td>\n      <td>dev</td>\n    </tr>\n    <tr>\n      <th>60</th>\n      <td>0.173077</td>\n      <td>0.058442</td>\n      <td>0.087379</td>\n      <td>gpt-4o-mini</td>\n      <td>v2</td>\n      <td>docred</td>\n      <td>dev</td>\n    </tr>\n    <tr>\n      <th>64</th>\n      <td>0.221053</td>\n      <td>0.068182</td>\n      <td>0.104218</td>\n      <td>gpt-4o-mini</td>\n      <td>v3</td>\n      <td>docred</td>\n      <td>dev</td>\n    </tr>\n    <tr>\n      <th>68</th>\n      <td>0.187050</td>\n      <td>0.084416</td>\n      <td>0.116331</td>\n      <td>gpt-4o-mini</td>\n      <td>v4</td>\n      <td>docred</td>\n      <td>dev</td>\n    </tr>\n    <tr>\n      <th>72</th>\n      <td>0.000000</td>\n      <td>0.000000</td>\n      <td>0.000000</td>\n      <td>gpt-4o-mini</td>\n      <td>v5</td>\n      <td>docred</td>\n      <td>dev</td>\n    </tr>\n    <tr>\n      <th>76</th>\n      <td>0.202532</td>\n      <td>0.103896</td>\n      <td>0.137339</td>\n      <td>gpt-4o-mini</td>\n      <td>v6</td>\n      <td>docred</td>\n      <td>dev</td>\n    </tr>\n    <tr>\n      <th>80</th>\n      <td>0.221477</td>\n      <td>0.107143</td>\n      <td>0.144420</td>\n      <td>gpt-4o-mini</td>\n      <td>v7</td>\n      <td>docred</td>\n      <td>dev</td>\n    </tr>\n    <tr>\n      <th>84</th>\n      <td>0.370370</td>\n      <td>0.122699</td>\n      <td>0.184332</td>\n      <td>deepseek-chat</td>\n      <td>v1</td>\n      <td>redocred</td>\n      <td>test</td>\n    </tr>\n    <tr>\n      <th>88</th>\n      <td>0.416949</td>\n      <td>0.188650</td>\n      <td>0.259768</td>\n      <td>deepseek-chat</td>\n      <td>v2</td>\n      <td>redocred</td>\n      <td>test</td>\n    </tr>\n    <tr>\n      <th>92</th>\n      <td>0.459677</td>\n      <td>0.174847</td>\n      <td>0.253333</td>\n      <td>deepseek-chat</td>\n      <td>v3</td>\n      <td>redocred</td>\n      <td>test</td>\n    </tr>\n    <tr>\n      <th>96</th>\n      <td>0.521036</td>\n      <td>0.246933</td>\n      <td>0.335068</td>\n      <td>deepseek-chat</td>\n      <td>v4</td>\n      <td>redocred</td>\n      <td>test</td>\n    </tr>\n    <tr>\n      <th>100</th>\n      <td>0.462312</td>\n      <td>0.141104</td>\n      <td>0.216216</td>\n      <td>deepseek-chat</td>\n      <td>v5</td>\n      <td>redocred</td>\n      <td>test</td>\n    </tr>\n    <tr>\n      <th>104</th>\n      <td>0.464286</td>\n      <td>0.299080</td>\n      <td>0.363806</td>\n      <td>deepseek-chat</td>\n      <td>v6</td>\n      <td>redocred</td>\n      <td>test</td>\n    </tr>\n    <tr>\n      <th>108</th>\n      <td>0.494505</td>\n      <td>0.276074</td>\n      <td>0.354331</td>\n      <td>deepseek-chat</td>\n      <td>v7</td>\n      <td>redocred</td>\n      <td>test</td>\n    </tr>\n    <tr>\n      <th>112</th>\n      <td>0.461864</td>\n      <td>0.167178</td>\n      <td>0.245495</td>\n      <td>deepseek-reasoner</td>\n      <td>v1</td>\n      <td>redocred</td>\n      <td>test</td>\n    </tr>\n    <tr>\n      <th>116</th>\n      <td>0.462366</td>\n      <td>0.197853</td>\n      <td>0.277121</td>\n      <td>deepseek-reasoner</td>\n      <td>v2</td>\n      <td>redocred</td>\n      <td>test</td>\n    </tr>\n    <tr>\n      <th>120</th>\n      <td>0.506608</td>\n      <td>0.176380</td>\n      <td>0.261661</td>\n      <td>deepseek-reasoner</td>\n      <td>v3</td>\n      <td>redocred</td>\n      <td>test</td>\n    </tr>\n    <tr>\n      <th>124</th>\n      <td>0.539924</td>\n      <td>0.217791</td>\n      <td>0.310383</td>\n      <td>deepseek-reasoner</td>\n      <td>v4</td>\n      <td>redocred</td>\n      <td>test</td>\n    </tr>\n    <tr>\n      <th>128</th>\n      <td>0.427313</td>\n      <td>0.148773</td>\n      <td>0.220705</td>\n      <td>deepseek-reasoner</td>\n      <td>v5</td>\n      <td>redocred</td>\n      <td>test</td>\n    </tr>\n    <tr>\n      <th>132</th>\n      <td>0.468165</td>\n      <td>0.191718</td>\n      <td>0.272035</td>\n      <td>deepseek-reasoner</td>\n      <td>v6</td>\n      <td>redocred</td>\n      <td>test</td>\n    </tr>\n    <tr>\n      <th>136</th>\n      <td>0.562724</td>\n      <td>0.240798</td>\n      <td>0.337272</td>\n      <td>deepseek-reasoner</td>\n      <td>v7</td>\n      <td>redocred</td>\n      <td>test</td>\n    </tr>\n    <tr>\n      <th>140</th>\n      <td>0.232143</td>\n      <td>0.019939</td>\n      <td>0.036723</td>\n      <td>gpt-4o-mini</td>\n      <td>v1</td>\n      <td>redocred</td>\n      <td>test</td>\n    </tr>\n    <tr>\n      <th>144</th>\n      <td>0.260870</td>\n      <td>0.036810</td>\n      <td>0.064516</td>\n      <td>gpt-4o-mini</td>\n      <td>v2</td>\n      <td>redocred</td>\n      <td>test</td>\n    </tr>\n    <tr>\n      <th>148</th>\n      <td>0.318182</td>\n      <td>0.042945</td>\n      <td>0.075676</td>\n      <td>gpt-4o-mini</td>\n      <td>v3</td>\n      <td>redocred</td>\n      <td>test</td>\n    </tr>\n    <tr>\n      <th>152</th>\n      <td>0.325581</td>\n      <td>0.064417</td>\n      <td>0.107554</td>\n      <td>gpt-4o-mini</td>\n      <td>v4</td>\n      <td>redocred</td>\n      <td>test</td>\n    </tr>\n    <tr>\n      <th>156</th>\n      <td>0.000000</td>\n      <td>0.000000</td>\n      <td>0.000000</td>\n      <td>gpt-4o-mini</td>\n      <td>v5</td>\n      <td>redocred</td>\n      <td>test</td>\n    </tr>\n    <tr>\n      <th>160</th>\n      <td>0.274854</td>\n      <td>0.072086</td>\n      <td>0.114216</td>\n      <td>gpt-4o-mini</td>\n      <td>v6</td>\n      <td>redocred</td>\n      <td>test</td>\n    </tr>\n    <tr>\n      <th>164</th>\n      <td>0.262570</td>\n      <td>0.072086</td>\n      <td>0.113117</td>\n      <td>gpt-4o-mini</td>\n      <td>v7</td>\n      <td>redocred</td>\n      <td>test</td>\n    </tr>\n  </tbody>\n</table>\n</div>"
     },
     "execution_count": 38,
     "metadata": {},
     "output_type": "execute_result"
    }
   ],
   "source": [
    "df = df[['precision', 'recall', 'f1-score', 'model', 'experiment', 'docred_type', 'split']]\n",
    "df"
   ],
   "metadata": {
    "collapsed": false
   }
  },
  {
   "cell_type": "code",
   "execution_count": 39,
   "outputs": [
    {
     "data": {
      "text/plain": "     precision    recall  f1-score              model experiment docred_type  \\\n0     0.247788  0.181818  0.209738      deepseek-chat         v1      docred   \n4     0.280443  0.246753  0.262522      deepseek-chat         v2      docred   \n8     0.293651  0.240260  0.264286      deepseek-chat         v3      docred   \n12    0.290323  0.262987  0.275980      deepseek-chat         v4      docred   \n16    0.236967  0.162338  0.192678      deepseek-chat         v5      docred   \n20    0.247312  0.298701  0.270588      deepseek-chat         v6      docred   \n24    0.298137  0.311688  0.304762      deepseek-chat         v7      docred   \n28    0.271552  0.204545  0.233333  deepseek-reasoner         v1      docred   \n32    0.286290  0.230519  0.255396  deepseek-reasoner         v2      docred   \n36    0.325581  0.227273  0.267686  deepseek-reasoner         v3      docred   \n40    0.348000  0.282468  0.311828  deepseek-reasoner         v4      docred   \n44    0.259912  0.191558  0.220561  deepseek-reasoner         v5      docred   \n48    0.335878  0.285714  0.308772  deepseek-reasoner         v6      docred   \n52    0.326460  0.308442  0.317195  deepseek-reasoner         v7      docred   \n56    0.153846  0.025974  0.044444        gpt-4o-mini         v1      docred   \n60    0.173077  0.058442  0.087379        gpt-4o-mini         v2      docred   \n64    0.221053  0.068182  0.104218        gpt-4o-mini         v3      docred   \n68    0.187050  0.084416  0.116331        gpt-4o-mini         v4      docred   \n72    0.000000  0.000000  0.000000        gpt-4o-mini         v5      docred   \n76    0.202532  0.103896  0.137339        gpt-4o-mini         v6      docred   \n80    0.221477  0.107143  0.144420        gpt-4o-mini         v7      docred   \n84    0.370370  0.122699  0.184332      deepseek-chat         v1    redocred   \n88    0.416949  0.188650  0.259768      deepseek-chat         v2    redocred   \n92    0.459677  0.174847  0.253333      deepseek-chat         v3    redocred   \n96    0.521036  0.246933  0.335068      deepseek-chat         v4    redocred   \n100   0.462312  0.141104  0.216216      deepseek-chat         v5    redocred   \n104   0.464286  0.299080  0.363806      deepseek-chat         v6    redocred   \n108   0.494505  0.276074  0.354331      deepseek-chat         v7    redocred   \n112   0.461864  0.167178  0.245495  deepseek-reasoner         v1    redocred   \n116   0.462366  0.197853  0.277121  deepseek-reasoner         v2    redocred   \n120   0.506608  0.176380  0.261661  deepseek-reasoner         v3    redocred   \n124   0.539924  0.217791  0.310383  deepseek-reasoner         v4    redocred   \n128   0.427313  0.148773  0.220705  deepseek-reasoner         v5    redocred   \n132   0.468165  0.191718  0.272035  deepseek-reasoner         v6    redocred   \n136   0.562724  0.240798  0.337272  deepseek-reasoner         v7    redocred   \n140   0.232143  0.019939  0.036723        gpt-4o-mini         v1    redocred   \n144   0.260870  0.036810  0.064516        gpt-4o-mini         v2    redocred   \n148   0.318182  0.042945  0.075676        gpt-4o-mini         v3    redocred   \n152   0.325581  0.064417  0.107554        gpt-4o-mini         v4    redocred   \n156   0.000000  0.000000  0.000000        gpt-4o-mini         v5    redocred   \n160   0.274854  0.072086  0.114216        gpt-4o-mini         v6    redocred   \n164   0.262570  0.072086  0.113117        gpt-4o-mini         v7    redocred   \n\n    split  \n0     dev  \n4     dev  \n8     dev  \n12    dev  \n16    dev  \n20    dev  \n24    dev  \n28    dev  \n32    dev  \n36    dev  \n40    dev  \n44    dev  \n48    dev  \n52    dev  \n56    dev  \n60    dev  \n64    dev  \n68    dev  \n72    dev  \n76    dev  \n80    dev  \n84   test  \n88   test  \n92   test  \n96   test  \n100  test  \n104  test  \n108  test  \n112  test  \n116  test  \n120  test  \n124  test  \n128  test  \n132  test  \n136  test  \n140  test  \n144  test  \n148  test  \n152  test  \n156  test  \n160  test  \n164  test  ",
      "text/html": "<div>\n<style scoped>\n    .dataframe tbody tr th:only-of-type {\n        vertical-align: middle;\n    }\n\n    .dataframe tbody tr th {\n        vertical-align: top;\n    }\n\n    .dataframe thead th {\n        text-align: right;\n    }\n</style>\n<table border=\"1\" class=\"dataframe\">\n  <thead>\n    <tr style=\"text-align: right;\">\n      <th></th>\n      <th>precision</th>\n      <th>recall</th>\n      <th>f1-score</th>\n      <th>model</th>\n      <th>experiment</th>\n      <th>docred_type</th>\n      <th>split</th>\n    </tr>\n  </thead>\n  <tbody>\n    <tr>\n      <th>0</th>\n      <td>0.247788</td>\n      <td>0.181818</td>\n      <td>0.209738</td>\n      <td>deepseek-chat</td>\n      <td>v1</td>\n      <td>docred</td>\n      <td>dev</td>\n    </tr>\n    <tr>\n      <th>4</th>\n      <td>0.280443</td>\n      <td>0.246753</td>\n      <td>0.262522</td>\n      <td>deepseek-chat</td>\n      <td>v2</td>\n      <td>docred</td>\n      <td>dev</td>\n    </tr>\n    <tr>\n      <th>8</th>\n      <td>0.293651</td>\n      <td>0.240260</td>\n      <td>0.264286</td>\n      <td>deepseek-chat</td>\n      <td>v3</td>\n      <td>docred</td>\n      <td>dev</td>\n    </tr>\n    <tr>\n      <th>12</th>\n      <td>0.290323</td>\n      <td>0.262987</td>\n      <td>0.275980</td>\n      <td>deepseek-chat</td>\n      <td>v4</td>\n      <td>docred</td>\n      <td>dev</td>\n    </tr>\n    <tr>\n      <th>16</th>\n      <td>0.236967</td>\n      <td>0.162338</td>\n      <td>0.192678</td>\n      <td>deepseek-chat</td>\n      <td>v5</td>\n      <td>docred</td>\n      <td>dev</td>\n    </tr>\n    <tr>\n      <th>20</th>\n      <td>0.247312</td>\n      <td>0.298701</td>\n      <td>0.270588</td>\n      <td>deepseek-chat</td>\n      <td>v6</td>\n      <td>docred</td>\n      <td>dev</td>\n    </tr>\n    <tr>\n      <th>24</th>\n      <td>0.298137</td>\n      <td>0.311688</td>\n      <td>0.304762</td>\n      <td>deepseek-chat</td>\n      <td>v7</td>\n      <td>docred</td>\n      <td>dev</td>\n    </tr>\n    <tr>\n      <th>28</th>\n      <td>0.271552</td>\n      <td>0.204545</td>\n      <td>0.233333</td>\n      <td>deepseek-reasoner</td>\n      <td>v1</td>\n      <td>docred</td>\n      <td>dev</td>\n    </tr>\n    <tr>\n      <th>32</th>\n      <td>0.286290</td>\n      <td>0.230519</td>\n      <td>0.255396</td>\n      <td>deepseek-reasoner</td>\n      <td>v2</td>\n      <td>docred</td>\n      <td>dev</td>\n    </tr>\n    <tr>\n      <th>36</th>\n      <td>0.325581</td>\n      <td>0.227273</td>\n      <td>0.267686</td>\n      <td>deepseek-reasoner</td>\n      <td>v3</td>\n      <td>docred</td>\n      <td>dev</td>\n    </tr>\n    <tr>\n      <th>40</th>\n      <td>0.348000</td>\n      <td>0.282468</td>\n      <td>0.311828</td>\n      <td>deepseek-reasoner</td>\n      <td>v4</td>\n      <td>docred</td>\n      <td>dev</td>\n    </tr>\n    <tr>\n      <th>44</th>\n      <td>0.259912</td>\n      <td>0.191558</td>\n      <td>0.220561</td>\n      <td>deepseek-reasoner</td>\n      <td>v5</td>\n      <td>docred</td>\n      <td>dev</td>\n    </tr>\n    <tr>\n      <th>48</th>\n      <td>0.335878</td>\n      <td>0.285714</td>\n      <td>0.308772</td>\n      <td>deepseek-reasoner</td>\n      <td>v6</td>\n      <td>docred</td>\n      <td>dev</td>\n    </tr>\n    <tr>\n      <th>52</th>\n      <td>0.326460</td>\n      <td>0.308442</td>\n      <td>0.317195</td>\n      <td>deepseek-reasoner</td>\n      <td>v7</td>\n      <td>docred</td>\n      <td>dev</td>\n    </tr>\n    <tr>\n      <th>56</th>\n      <td>0.153846</td>\n      <td>0.025974</td>\n      <td>0.044444</td>\n      <td>gpt-4o-mini</td>\n      <td>v1</td>\n      <td>docred</td>\n      <td>dev</td>\n    </tr>\n    <tr>\n      <th>60</th>\n      <td>0.173077</td>\n      <td>0.058442</td>\n      <td>0.087379</td>\n      <td>gpt-4o-mini</td>\n      <td>v2</td>\n      <td>docred</td>\n      <td>dev</td>\n    </tr>\n    <tr>\n      <th>64</th>\n      <td>0.221053</td>\n      <td>0.068182</td>\n      <td>0.104218</td>\n      <td>gpt-4o-mini</td>\n      <td>v3</td>\n      <td>docred</td>\n      <td>dev</td>\n    </tr>\n    <tr>\n      <th>68</th>\n      <td>0.187050</td>\n      <td>0.084416</td>\n      <td>0.116331</td>\n      <td>gpt-4o-mini</td>\n      <td>v4</td>\n      <td>docred</td>\n      <td>dev</td>\n    </tr>\n    <tr>\n      <th>72</th>\n      <td>0.000000</td>\n      <td>0.000000</td>\n      <td>0.000000</td>\n      <td>gpt-4o-mini</td>\n      <td>v5</td>\n      <td>docred</td>\n      <td>dev</td>\n    </tr>\n    <tr>\n      <th>76</th>\n      <td>0.202532</td>\n      <td>0.103896</td>\n      <td>0.137339</td>\n      <td>gpt-4o-mini</td>\n      <td>v6</td>\n      <td>docred</td>\n      <td>dev</td>\n    </tr>\n    <tr>\n      <th>80</th>\n      <td>0.221477</td>\n      <td>0.107143</td>\n      <td>0.144420</td>\n      <td>gpt-4o-mini</td>\n      <td>v7</td>\n      <td>docred</td>\n      <td>dev</td>\n    </tr>\n    <tr>\n      <th>84</th>\n      <td>0.370370</td>\n      <td>0.122699</td>\n      <td>0.184332</td>\n      <td>deepseek-chat</td>\n      <td>v1</td>\n      <td>redocred</td>\n      <td>test</td>\n    </tr>\n    <tr>\n      <th>88</th>\n      <td>0.416949</td>\n      <td>0.188650</td>\n      <td>0.259768</td>\n      <td>deepseek-chat</td>\n      <td>v2</td>\n      <td>redocred</td>\n      <td>test</td>\n    </tr>\n    <tr>\n      <th>92</th>\n      <td>0.459677</td>\n      <td>0.174847</td>\n      <td>0.253333</td>\n      <td>deepseek-chat</td>\n      <td>v3</td>\n      <td>redocred</td>\n      <td>test</td>\n    </tr>\n    <tr>\n      <th>96</th>\n      <td>0.521036</td>\n      <td>0.246933</td>\n      <td>0.335068</td>\n      <td>deepseek-chat</td>\n      <td>v4</td>\n      <td>redocred</td>\n      <td>test</td>\n    </tr>\n    <tr>\n      <th>100</th>\n      <td>0.462312</td>\n      <td>0.141104</td>\n      <td>0.216216</td>\n      <td>deepseek-chat</td>\n      <td>v5</td>\n      <td>redocred</td>\n      <td>test</td>\n    </tr>\n    <tr>\n      <th>104</th>\n      <td>0.464286</td>\n      <td>0.299080</td>\n      <td>0.363806</td>\n      <td>deepseek-chat</td>\n      <td>v6</td>\n      <td>redocred</td>\n      <td>test</td>\n    </tr>\n    <tr>\n      <th>108</th>\n      <td>0.494505</td>\n      <td>0.276074</td>\n      <td>0.354331</td>\n      <td>deepseek-chat</td>\n      <td>v7</td>\n      <td>redocred</td>\n      <td>test</td>\n    </tr>\n    <tr>\n      <th>112</th>\n      <td>0.461864</td>\n      <td>0.167178</td>\n      <td>0.245495</td>\n      <td>deepseek-reasoner</td>\n      <td>v1</td>\n      <td>redocred</td>\n      <td>test</td>\n    </tr>\n    <tr>\n      <th>116</th>\n      <td>0.462366</td>\n      <td>0.197853</td>\n      <td>0.277121</td>\n      <td>deepseek-reasoner</td>\n      <td>v2</td>\n      <td>redocred</td>\n      <td>test</td>\n    </tr>\n    <tr>\n      <th>120</th>\n      <td>0.506608</td>\n      <td>0.176380</td>\n      <td>0.261661</td>\n      <td>deepseek-reasoner</td>\n      <td>v3</td>\n      <td>redocred</td>\n      <td>test</td>\n    </tr>\n    <tr>\n      <th>124</th>\n      <td>0.539924</td>\n      <td>0.217791</td>\n      <td>0.310383</td>\n      <td>deepseek-reasoner</td>\n      <td>v4</td>\n      <td>redocred</td>\n      <td>test</td>\n    </tr>\n    <tr>\n      <th>128</th>\n      <td>0.427313</td>\n      <td>0.148773</td>\n      <td>0.220705</td>\n      <td>deepseek-reasoner</td>\n      <td>v5</td>\n      <td>redocred</td>\n      <td>test</td>\n    </tr>\n    <tr>\n      <th>132</th>\n      <td>0.468165</td>\n      <td>0.191718</td>\n      <td>0.272035</td>\n      <td>deepseek-reasoner</td>\n      <td>v6</td>\n      <td>redocred</td>\n      <td>test</td>\n    </tr>\n    <tr>\n      <th>136</th>\n      <td>0.562724</td>\n      <td>0.240798</td>\n      <td>0.337272</td>\n      <td>deepseek-reasoner</td>\n      <td>v7</td>\n      <td>redocred</td>\n      <td>test</td>\n    </tr>\n    <tr>\n      <th>140</th>\n      <td>0.232143</td>\n      <td>0.019939</td>\n      <td>0.036723</td>\n      <td>gpt-4o-mini</td>\n      <td>v1</td>\n      <td>redocred</td>\n      <td>test</td>\n    </tr>\n    <tr>\n      <th>144</th>\n      <td>0.260870</td>\n      <td>0.036810</td>\n      <td>0.064516</td>\n      <td>gpt-4o-mini</td>\n      <td>v2</td>\n      <td>redocred</td>\n      <td>test</td>\n    </tr>\n    <tr>\n      <th>148</th>\n      <td>0.318182</td>\n      <td>0.042945</td>\n      <td>0.075676</td>\n      <td>gpt-4o-mini</td>\n      <td>v3</td>\n      <td>redocred</td>\n      <td>test</td>\n    </tr>\n    <tr>\n      <th>152</th>\n      <td>0.325581</td>\n      <td>0.064417</td>\n      <td>0.107554</td>\n      <td>gpt-4o-mini</td>\n      <td>v4</td>\n      <td>redocred</td>\n      <td>test</td>\n    </tr>\n    <tr>\n      <th>156</th>\n      <td>0.000000</td>\n      <td>0.000000</td>\n      <td>0.000000</td>\n      <td>gpt-4o-mini</td>\n      <td>v5</td>\n      <td>redocred</td>\n      <td>test</td>\n    </tr>\n    <tr>\n      <th>160</th>\n      <td>0.274854</td>\n      <td>0.072086</td>\n      <td>0.114216</td>\n      <td>gpt-4o-mini</td>\n      <td>v6</td>\n      <td>redocred</td>\n      <td>test</td>\n    </tr>\n    <tr>\n      <th>164</th>\n      <td>0.262570</td>\n      <td>0.072086</td>\n      <td>0.113117</td>\n      <td>gpt-4o-mini</td>\n      <td>v7</td>\n      <td>redocred</td>\n      <td>test</td>\n    </tr>\n  </tbody>\n</table>\n</div>"
     },
     "execution_count": 39,
     "metadata": {},
     "output_type": "execute_result"
    }
   ],
   "source": [
    "df"
   ],
   "metadata": {
    "collapsed": false
   }
  },
  {
   "cell_type": "code",
   "execution_count": 43,
   "outputs": [],
   "source": [
    "df = df.pivot(columns= ['docred_type', 'split'], index=['model', 'experiment'], values=['precision', 'recall', 'f1-score'])*100"
   ],
   "metadata": {
    "collapsed": false
   }
  },
  {
   "cell_type": "code",
   "execution_count": 47,
   "outputs": [],
   "source": [
    "df = df.round(3)"
   ],
   "metadata": {
    "collapsed": false
   }
  },
  {
   "cell_type": "code",
   "execution_count": 51,
   "outputs": [],
   "source": [
    "df = df.reset_index()"
   ],
   "metadata": {
    "collapsed": false
   }
  },
  {
   "cell_type": "code",
   "execution_count": 53,
   "outputs": [
    {
     "data": {
      "text/plain": "MultiIndex([(     'model',         '',     ''),\n            ('experiment',         '',     ''),\n            ( 'precision',   'docred',  'dev'),\n            ( 'precision', 'redocred', 'test'),\n            (    'recall',   'docred',  'dev'),\n            (    'recall', 'redocred', 'test'),\n            (  'f1-score',   'docred',  'dev'),\n            (  'f1-score', 'redocred', 'test')],\n           names=[None, 'docred_type', 'split'])"
     },
     "execution_count": 53,
     "metadata": {},
     "output_type": "execute_result"
    }
   ],
   "source": [
    "df.columns"
   ],
   "metadata": {
    "collapsed": false
   }
  },
  {
   "cell_type": "code",
   "execution_count": 55,
   "outputs": [],
   "source": [
    "df.sort_values(by=('f1-score', 'redocred', 'test'), ascending=False, inplace=True)"
   ],
   "metadata": {
    "collapsed": false
   }
  },
  {
   "cell_type": "code",
   "execution_count": 56,
   "outputs": [
    {
     "data": {
      "text/plain": "                         model experiment precision           recall           \\\ndocred_type                                  docred redocred  docred redocred   \nsplit                                           dev     test     dev     test   \n5                deepseek-chat         v6    24.731   46.429  29.870   29.908   \n6                deepseek-chat         v7    29.814   49.451  31.169   27.607   \n13           deepseek-reasoner         v7    32.646   56.272  30.844   24.080   \n3                deepseek-chat         v4    29.032   52.104  26.299   24.693   \n10           deepseek-reasoner         v4    34.800   53.992  28.247   21.779   \n8            deepseek-reasoner         v2    28.629   46.237  23.052   19.785   \n12           deepseek-reasoner         v6    33.588   46.816  28.571   19.172   \n9            deepseek-reasoner         v3    32.558   50.661  22.727   17.638   \n1                deepseek-chat         v2    28.044   41.695  24.675   18.865   \n2                deepseek-chat         v3    29.365   45.968  24.026   17.485   \n7            deepseek-reasoner         v1    27.155   46.186  20.455   16.718   \n11           deepseek-reasoner         v5    25.991   42.731  19.156   14.877   \n4                deepseek-chat         v5    23.697   46.231  16.234   14.110   \n0                deepseek-chat         v1    24.779   37.037  18.182   12.270   \n19                 gpt-4o-mini         v6    20.253   27.485  10.390    7.209   \n20                 gpt-4o-mini         v7    22.148   26.257  10.714    7.209   \n17                 gpt-4o-mini         v4    18.705   32.558   8.442    6.442   \n16                 gpt-4o-mini         v3    22.105   31.818   6.818    4.294   \n15                 gpt-4o-mini         v2    17.308   26.087   5.844    3.681   \n14                 gpt-4o-mini         v1    15.385   23.214   2.597    1.994   \n18                 gpt-4o-mini         v5     0.000    0.000   0.000    0.000   \n\n            f1-score           \ndocred_type   docred redocred  \nsplit            dev     test  \n5             27.059   36.381  \n6             30.476   35.433  \n13            31.720   33.727  \n3             27.598   33.507  \n10            31.183   31.038  \n8             25.540   27.712  \n12            30.877   27.203  \n9             26.769   26.166  \n1             26.252   25.977  \n2             26.429   25.333  \n7             23.333   24.550  \n11            22.056   22.071  \n4             19.268   21.622  \n0             20.974   18.433  \n19            13.734   11.422  \n20            14.442   11.312  \n17            11.633   10.755  \n16            10.422    7.568  \n15             8.738    6.452  \n14             4.444    3.672  \n18             0.000    0.000  ",
      "text/html": "<div>\n<style scoped>\n    .dataframe tbody tr th:only-of-type {\n        vertical-align: middle;\n    }\n\n    .dataframe tbody tr th {\n        vertical-align: top;\n    }\n\n    .dataframe thead tr th {\n        text-align: left;\n    }\n</style>\n<table border=\"1\" class=\"dataframe\">\n  <thead>\n    <tr>\n      <th></th>\n      <th>model</th>\n      <th>experiment</th>\n      <th colspan=\"2\" halign=\"left\">precision</th>\n      <th colspan=\"2\" halign=\"left\">recall</th>\n      <th colspan=\"2\" halign=\"left\">f1-score</th>\n    </tr>\n    <tr>\n      <th>docred_type</th>\n      <th></th>\n      <th></th>\n      <th>docred</th>\n      <th>redocred</th>\n      <th>docred</th>\n      <th>redocred</th>\n      <th>docred</th>\n      <th>redocred</th>\n    </tr>\n    <tr>\n      <th>split</th>\n      <th></th>\n      <th></th>\n      <th>dev</th>\n      <th>test</th>\n      <th>dev</th>\n      <th>test</th>\n      <th>dev</th>\n      <th>test</th>\n    </tr>\n  </thead>\n  <tbody>\n    <tr>\n      <th>5</th>\n      <td>deepseek-chat</td>\n      <td>v6</td>\n      <td>24.731</td>\n      <td>46.429</td>\n      <td>29.870</td>\n      <td>29.908</td>\n      <td>27.059</td>\n      <td>36.381</td>\n    </tr>\n    <tr>\n      <th>6</th>\n      <td>deepseek-chat</td>\n      <td>v7</td>\n      <td>29.814</td>\n      <td>49.451</td>\n      <td>31.169</td>\n      <td>27.607</td>\n      <td>30.476</td>\n      <td>35.433</td>\n    </tr>\n    <tr>\n      <th>13</th>\n      <td>deepseek-reasoner</td>\n      <td>v7</td>\n      <td>32.646</td>\n      <td>56.272</td>\n      <td>30.844</td>\n      <td>24.080</td>\n      <td>31.720</td>\n      <td>33.727</td>\n    </tr>\n    <tr>\n      <th>3</th>\n      <td>deepseek-chat</td>\n      <td>v4</td>\n      <td>29.032</td>\n      <td>52.104</td>\n      <td>26.299</td>\n      <td>24.693</td>\n      <td>27.598</td>\n      <td>33.507</td>\n    </tr>\n    <tr>\n      <th>10</th>\n      <td>deepseek-reasoner</td>\n      <td>v4</td>\n      <td>34.800</td>\n      <td>53.992</td>\n      <td>28.247</td>\n      <td>21.779</td>\n      <td>31.183</td>\n      <td>31.038</td>\n    </tr>\n    <tr>\n      <th>8</th>\n      <td>deepseek-reasoner</td>\n      <td>v2</td>\n      <td>28.629</td>\n      <td>46.237</td>\n      <td>23.052</td>\n      <td>19.785</td>\n      <td>25.540</td>\n      <td>27.712</td>\n    </tr>\n    <tr>\n      <th>12</th>\n      <td>deepseek-reasoner</td>\n      <td>v6</td>\n      <td>33.588</td>\n      <td>46.816</td>\n      <td>28.571</td>\n      <td>19.172</td>\n      <td>30.877</td>\n      <td>27.203</td>\n    </tr>\n    <tr>\n      <th>9</th>\n      <td>deepseek-reasoner</td>\n      <td>v3</td>\n      <td>32.558</td>\n      <td>50.661</td>\n      <td>22.727</td>\n      <td>17.638</td>\n      <td>26.769</td>\n      <td>26.166</td>\n    </tr>\n    <tr>\n      <th>1</th>\n      <td>deepseek-chat</td>\n      <td>v2</td>\n      <td>28.044</td>\n      <td>41.695</td>\n      <td>24.675</td>\n      <td>18.865</td>\n      <td>26.252</td>\n      <td>25.977</td>\n    </tr>\n    <tr>\n      <th>2</th>\n      <td>deepseek-chat</td>\n      <td>v3</td>\n      <td>29.365</td>\n      <td>45.968</td>\n      <td>24.026</td>\n      <td>17.485</td>\n      <td>26.429</td>\n      <td>25.333</td>\n    </tr>\n    <tr>\n      <th>7</th>\n      <td>deepseek-reasoner</td>\n      <td>v1</td>\n      <td>27.155</td>\n      <td>46.186</td>\n      <td>20.455</td>\n      <td>16.718</td>\n      <td>23.333</td>\n      <td>24.550</td>\n    </tr>\n    <tr>\n      <th>11</th>\n      <td>deepseek-reasoner</td>\n      <td>v5</td>\n      <td>25.991</td>\n      <td>42.731</td>\n      <td>19.156</td>\n      <td>14.877</td>\n      <td>22.056</td>\n      <td>22.071</td>\n    </tr>\n    <tr>\n      <th>4</th>\n      <td>deepseek-chat</td>\n      <td>v5</td>\n      <td>23.697</td>\n      <td>46.231</td>\n      <td>16.234</td>\n      <td>14.110</td>\n      <td>19.268</td>\n      <td>21.622</td>\n    </tr>\n    <tr>\n      <th>0</th>\n      <td>deepseek-chat</td>\n      <td>v1</td>\n      <td>24.779</td>\n      <td>37.037</td>\n      <td>18.182</td>\n      <td>12.270</td>\n      <td>20.974</td>\n      <td>18.433</td>\n    </tr>\n    <tr>\n      <th>19</th>\n      <td>gpt-4o-mini</td>\n      <td>v6</td>\n      <td>20.253</td>\n      <td>27.485</td>\n      <td>10.390</td>\n      <td>7.209</td>\n      <td>13.734</td>\n      <td>11.422</td>\n    </tr>\n    <tr>\n      <th>20</th>\n      <td>gpt-4o-mini</td>\n      <td>v7</td>\n      <td>22.148</td>\n      <td>26.257</td>\n      <td>10.714</td>\n      <td>7.209</td>\n      <td>14.442</td>\n      <td>11.312</td>\n    </tr>\n    <tr>\n      <th>17</th>\n      <td>gpt-4o-mini</td>\n      <td>v4</td>\n      <td>18.705</td>\n      <td>32.558</td>\n      <td>8.442</td>\n      <td>6.442</td>\n      <td>11.633</td>\n      <td>10.755</td>\n    </tr>\n    <tr>\n      <th>16</th>\n      <td>gpt-4o-mini</td>\n      <td>v3</td>\n      <td>22.105</td>\n      <td>31.818</td>\n      <td>6.818</td>\n      <td>4.294</td>\n      <td>10.422</td>\n      <td>7.568</td>\n    </tr>\n    <tr>\n      <th>15</th>\n      <td>gpt-4o-mini</td>\n      <td>v2</td>\n      <td>17.308</td>\n      <td>26.087</td>\n      <td>5.844</td>\n      <td>3.681</td>\n      <td>8.738</td>\n      <td>6.452</td>\n    </tr>\n    <tr>\n      <th>14</th>\n      <td>gpt-4o-mini</td>\n      <td>v1</td>\n      <td>15.385</td>\n      <td>23.214</td>\n      <td>2.597</td>\n      <td>1.994</td>\n      <td>4.444</td>\n      <td>3.672</td>\n    </tr>\n    <tr>\n      <th>18</th>\n      <td>gpt-4o-mini</td>\n      <td>v5</td>\n      <td>0.000</td>\n      <td>0.000</td>\n      <td>0.000</td>\n      <td>0.000</td>\n      <td>0.000</td>\n      <td>0.000</td>\n    </tr>\n  </tbody>\n</table>\n</div>"
     },
     "execution_count": 56,
     "metadata": {},
     "output_type": "execute_result"
    }
   ],
   "source": [
    "df"
   ],
   "metadata": {
    "collapsed": false
   }
  },
  {
   "cell_type": "code",
   "execution_count": 66,
   "outputs": [],
   "source": [
    "df.columns = df.columns.to_flat_index().map('_'.join)"
   ],
   "metadata": {
    "collapsed": false
   }
  },
  {
   "cell_type": "code",
   "execution_count": 68,
   "outputs": [
    {
     "data": {
      "text/plain": "              model__ experiment__  precision_docred_dev  \\\n5       deepseek-chat           v6                24.731   \n6       deepseek-chat           v7                29.814   \n13  deepseek-reasoner           v7                32.646   \n3       deepseek-chat           v4                29.032   \n10  deepseek-reasoner           v4                34.800   \n8   deepseek-reasoner           v2                28.629   \n12  deepseek-reasoner           v6                33.588   \n9   deepseek-reasoner           v3                32.558   \n1       deepseek-chat           v2                28.044   \n2       deepseek-chat           v3                29.365   \n7   deepseek-reasoner           v1                27.155   \n11  deepseek-reasoner           v5                25.991   \n4       deepseek-chat           v5                23.697   \n0       deepseek-chat           v1                24.779   \n19        gpt-4o-mini           v6                20.253   \n20        gpt-4o-mini           v7                22.148   \n17        gpt-4o-mini           v4                18.705   \n16        gpt-4o-mini           v3                22.105   \n15        gpt-4o-mini           v2                17.308   \n14        gpt-4o-mini           v1                15.385   \n18        gpt-4o-mini           v5                 0.000   \n\n    precision_redocred_test  recall_docred_dev  recall_redocred_test  \\\n5                    46.429             29.870                29.908   \n6                    49.451             31.169                27.607   \n13                   56.272             30.844                24.080   \n3                    52.104             26.299                24.693   \n10                   53.992             28.247                21.779   \n8                    46.237             23.052                19.785   \n12                   46.816             28.571                19.172   \n9                    50.661             22.727                17.638   \n1                    41.695             24.675                18.865   \n2                    45.968             24.026                17.485   \n7                    46.186             20.455                16.718   \n11                   42.731             19.156                14.877   \n4                    46.231             16.234                14.110   \n0                    37.037             18.182                12.270   \n19                   27.485             10.390                 7.209   \n20                   26.257             10.714                 7.209   \n17                   32.558              8.442                 6.442   \n16                   31.818              6.818                 4.294   \n15                   26.087              5.844                 3.681   \n14                   23.214              2.597                 1.994   \n18                    0.000              0.000                 0.000   \n\n    f1-score_docred_dev  f1-score_redocred_test  \n5                27.059                  36.381  \n6                30.476                  35.433  \n13               31.720                  33.727  \n3                27.598                  33.507  \n10               31.183                  31.038  \n8                25.540                  27.712  \n12               30.877                  27.203  \n9                26.769                  26.166  \n1                26.252                  25.977  \n2                26.429                  25.333  \n7                23.333                  24.550  \n11               22.056                  22.071  \n4                19.268                  21.622  \n0                20.974                  18.433  \n19               13.734                  11.422  \n20               14.442                  11.312  \n17               11.633                  10.755  \n16               10.422                   7.568  \n15                8.738                   6.452  \n14                4.444                   3.672  \n18                0.000                   0.000  ",
      "text/html": "<div>\n<style scoped>\n    .dataframe tbody tr th:only-of-type {\n        vertical-align: middle;\n    }\n\n    .dataframe tbody tr th {\n        vertical-align: top;\n    }\n\n    .dataframe thead th {\n        text-align: right;\n    }\n</style>\n<table border=\"1\" class=\"dataframe\">\n  <thead>\n    <tr style=\"text-align: right;\">\n      <th></th>\n      <th>model__</th>\n      <th>experiment__</th>\n      <th>precision_docred_dev</th>\n      <th>precision_redocred_test</th>\n      <th>recall_docred_dev</th>\n      <th>recall_redocred_test</th>\n      <th>f1-score_docred_dev</th>\n      <th>f1-score_redocred_test</th>\n    </tr>\n  </thead>\n  <tbody>\n    <tr>\n      <th>5</th>\n      <td>deepseek-chat</td>\n      <td>v6</td>\n      <td>24.731</td>\n      <td>46.429</td>\n      <td>29.870</td>\n      <td>29.908</td>\n      <td>27.059</td>\n      <td>36.381</td>\n    </tr>\n    <tr>\n      <th>6</th>\n      <td>deepseek-chat</td>\n      <td>v7</td>\n      <td>29.814</td>\n      <td>49.451</td>\n      <td>31.169</td>\n      <td>27.607</td>\n      <td>30.476</td>\n      <td>35.433</td>\n    </tr>\n    <tr>\n      <th>13</th>\n      <td>deepseek-reasoner</td>\n      <td>v7</td>\n      <td>32.646</td>\n      <td>56.272</td>\n      <td>30.844</td>\n      <td>24.080</td>\n      <td>31.720</td>\n      <td>33.727</td>\n    </tr>\n    <tr>\n      <th>3</th>\n      <td>deepseek-chat</td>\n      <td>v4</td>\n      <td>29.032</td>\n      <td>52.104</td>\n      <td>26.299</td>\n      <td>24.693</td>\n      <td>27.598</td>\n      <td>33.507</td>\n    </tr>\n    <tr>\n      <th>10</th>\n      <td>deepseek-reasoner</td>\n      <td>v4</td>\n      <td>34.800</td>\n      <td>53.992</td>\n      <td>28.247</td>\n      <td>21.779</td>\n      <td>31.183</td>\n      <td>31.038</td>\n    </tr>\n    <tr>\n      <th>8</th>\n      <td>deepseek-reasoner</td>\n      <td>v2</td>\n      <td>28.629</td>\n      <td>46.237</td>\n      <td>23.052</td>\n      <td>19.785</td>\n      <td>25.540</td>\n      <td>27.712</td>\n    </tr>\n    <tr>\n      <th>12</th>\n      <td>deepseek-reasoner</td>\n      <td>v6</td>\n      <td>33.588</td>\n      <td>46.816</td>\n      <td>28.571</td>\n      <td>19.172</td>\n      <td>30.877</td>\n      <td>27.203</td>\n    </tr>\n    <tr>\n      <th>9</th>\n      <td>deepseek-reasoner</td>\n      <td>v3</td>\n      <td>32.558</td>\n      <td>50.661</td>\n      <td>22.727</td>\n      <td>17.638</td>\n      <td>26.769</td>\n      <td>26.166</td>\n    </tr>\n    <tr>\n      <th>1</th>\n      <td>deepseek-chat</td>\n      <td>v2</td>\n      <td>28.044</td>\n      <td>41.695</td>\n      <td>24.675</td>\n      <td>18.865</td>\n      <td>26.252</td>\n      <td>25.977</td>\n    </tr>\n    <tr>\n      <th>2</th>\n      <td>deepseek-chat</td>\n      <td>v3</td>\n      <td>29.365</td>\n      <td>45.968</td>\n      <td>24.026</td>\n      <td>17.485</td>\n      <td>26.429</td>\n      <td>25.333</td>\n    </tr>\n    <tr>\n      <th>7</th>\n      <td>deepseek-reasoner</td>\n      <td>v1</td>\n      <td>27.155</td>\n      <td>46.186</td>\n      <td>20.455</td>\n      <td>16.718</td>\n      <td>23.333</td>\n      <td>24.550</td>\n    </tr>\n    <tr>\n      <th>11</th>\n      <td>deepseek-reasoner</td>\n      <td>v5</td>\n      <td>25.991</td>\n      <td>42.731</td>\n      <td>19.156</td>\n      <td>14.877</td>\n      <td>22.056</td>\n      <td>22.071</td>\n    </tr>\n    <tr>\n      <th>4</th>\n      <td>deepseek-chat</td>\n      <td>v5</td>\n      <td>23.697</td>\n      <td>46.231</td>\n      <td>16.234</td>\n      <td>14.110</td>\n      <td>19.268</td>\n      <td>21.622</td>\n    </tr>\n    <tr>\n      <th>0</th>\n      <td>deepseek-chat</td>\n      <td>v1</td>\n      <td>24.779</td>\n      <td>37.037</td>\n      <td>18.182</td>\n      <td>12.270</td>\n      <td>20.974</td>\n      <td>18.433</td>\n    </tr>\n    <tr>\n      <th>19</th>\n      <td>gpt-4o-mini</td>\n      <td>v6</td>\n      <td>20.253</td>\n      <td>27.485</td>\n      <td>10.390</td>\n      <td>7.209</td>\n      <td>13.734</td>\n      <td>11.422</td>\n    </tr>\n    <tr>\n      <th>20</th>\n      <td>gpt-4o-mini</td>\n      <td>v7</td>\n      <td>22.148</td>\n      <td>26.257</td>\n      <td>10.714</td>\n      <td>7.209</td>\n      <td>14.442</td>\n      <td>11.312</td>\n    </tr>\n    <tr>\n      <th>17</th>\n      <td>gpt-4o-mini</td>\n      <td>v4</td>\n      <td>18.705</td>\n      <td>32.558</td>\n      <td>8.442</td>\n      <td>6.442</td>\n      <td>11.633</td>\n      <td>10.755</td>\n    </tr>\n    <tr>\n      <th>16</th>\n      <td>gpt-4o-mini</td>\n      <td>v3</td>\n      <td>22.105</td>\n      <td>31.818</td>\n      <td>6.818</td>\n      <td>4.294</td>\n      <td>10.422</td>\n      <td>7.568</td>\n    </tr>\n    <tr>\n      <th>15</th>\n      <td>gpt-4o-mini</td>\n      <td>v2</td>\n      <td>17.308</td>\n      <td>26.087</td>\n      <td>5.844</td>\n      <td>3.681</td>\n      <td>8.738</td>\n      <td>6.452</td>\n    </tr>\n    <tr>\n      <th>14</th>\n      <td>gpt-4o-mini</td>\n      <td>v1</td>\n      <td>15.385</td>\n      <td>23.214</td>\n      <td>2.597</td>\n      <td>1.994</td>\n      <td>4.444</td>\n      <td>3.672</td>\n    </tr>\n    <tr>\n      <th>18</th>\n      <td>gpt-4o-mini</td>\n      <td>v5</td>\n      <td>0.000</td>\n      <td>0.000</td>\n      <td>0.000</td>\n      <td>0.000</td>\n      <td>0.000</td>\n      <td>0.000</td>\n    </tr>\n  </tbody>\n</table>\n</div>"
     },
     "execution_count": 68,
     "metadata": {},
     "output_type": "execute_result"
    }
   ],
   "source": [
    "df"
   ],
   "metadata": {
    "collapsed": false
   }
  },
  {
   "cell_type": "code",
   "execution_count": 69,
   "outputs": [],
   "source": [
    "df.to_csv('overleaf_ready_results_LLMs_API_20_full-new-eval.csv', index=False)"
   ],
   "metadata": {
    "collapsed": false
   }
  },
  {
   "cell_type": "code",
   "execution_count": null,
   "outputs": [],
   "source": [],
   "metadata": {
    "collapsed": false
   }
  },
  {
   "cell_type": "code",
   "execution_count": 70,
   "outputs": [],
   "source": [
    "# Full evaluation v7 and verifier v7"
   ],
   "metadata": {
    "collapsed": false
   }
  },
  {
   "cell_type": "code",
   "execution_count": 100,
   "outputs": [],
   "source": [
    "df = pd.read_csv('../results_LLMs_API_v7_both_full_sets.csv')"
   ],
   "metadata": {
    "collapsed": false
   }
  },
  {
   "cell_type": "code",
   "execution_count": 102,
   "outputs": [
    {
     "data": {
      "text/plain": "    precision    recall  f1-score metric_type docred_type split  \\\n0    0.226618  0.345825  0.273809          re      docred   dev   \n4    0.275170  0.352912  0.309230          re      docred   dev   \n8    0.470045  0.596986  0.525964          re      docred   dev   \n12   0.480290  0.555845  0.515313          re      docred   dev   \n16   0.435729  0.236245  0.306377          re    redocred  test   \n20   0.503765  0.226215  0.312226          re    redocred  test   \n24   0.690148  0.309950  0.427780          re    redocred  test   \n28   0.718379  0.301754  0.424991          re    redocred  test   \n\n         ner_model_name  prediction_level                  experiment_type  \\\n0   entities_separately               NaN           re_entities_separately   \n4   entities_separately               NaN           re_entities_separately   \n8   entities_separately               NaN  verifier_re_entities_separately   \n12  entities_separately               NaN  verifier_re_entities_separately   \n16  entities_separately               NaN           re_entities_separately   \n20  entities_separately               NaN           re_entities_separately   \n24  entities_separately               NaN  verifier_re_entities_separately   \n28  entities_separately               NaN  verifier_re_entities_separately   \n\n   experiment              model  \n0          v7      deepseek-chat  \n4          v7  deepseek-reasoner  \n8          v7      deepseek-chat  \n12         v7  deepseek-reasoner  \n16         v7      deepseek-chat  \n20         v7  deepseek-reasoner  \n24         v7      deepseek-chat  \n28         v7  deepseek-reasoner  ",
      "text/html": "<div>\n<style scoped>\n    .dataframe tbody tr th:only-of-type {\n        vertical-align: middle;\n    }\n\n    .dataframe tbody tr th {\n        vertical-align: top;\n    }\n\n    .dataframe thead th {\n        text-align: right;\n    }\n</style>\n<table border=\"1\" class=\"dataframe\">\n  <thead>\n    <tr style=\"text-align: right;\">\n      <th></th>\n      <th>precision</th>\n      <th>recall</th>\n      <th>f1-score</th>\n      <th>metric_type</th>\n      <th>docred_type</th>\n      <th>split</th>\n      <th>ner_model_name</th>\n      <th>prediction_level</th>\n      <th>experiment_type</th>\n      <th>experiment</th>\n      <th>model</th>\n    </tr>\n  </thead>\n  <tbody>\n    <tr>\n      <th>0</th>\n      <td>0.226618</td>\n      <td>0.345825</td>\n      <td>0.273809</td>\n      <td>re</td>\n      <td>docred</td>\n      <td>dev</td>\n      <td>entities_separately</td>\n      <td>NaN</td>\n      <td>re_entities_separately</td>\n      <td>v7</td>\n      <td>deepseek-chat</td>\n    </tr>\n    <tr>\n      <th>4</th>\n      <td>0.275170</td>\n      <td>0.352912</td>\n      <td>0.309230</td>\n      <td>re</td>\n      <td>docred</td>\n      <td>dev</td>\n      <td>entities_separately</td>\n      <td>NaN</td>\n      <td>re_entities_separately</td>\n      <td>v7</td>\n      <td>deepseek-reasoner</td>\n    </tr>\n    <tr>\n      <th>8</th>\n      <td>0.470045</td>\n      <td>0.596986</td>\n      <td>0.525964</td>\n      <td>re</td>\n      <td>docred</td>\n      <td>dev</td>\n      <td>entities_separately</td>\n      <td>NaN</td>\n      <td>verifier_re_entities_separately</td>\n      <td>v7</td>\n      <td>deepseek-chat</td>\n    </tr>\n    <tr>\n      <th>12</th>\n      <td>0.480290</td>\n      <td>0.555845</td>\n      <td>0.515313</td>\n      <td>re</td>\n      <td>docred</td>\n      <td>dev</td>\n      <td>entities_separately</td>\n      <td>NaN</td>\n      <td>verifier_re_entities_separately</td>\n      <td>v7</td>\n      <td>deepseek-reasoner</td>\n    </tr>\n    <tr>\n      <th>16</th>\n      <td>0.435729</td>\n      <td>0.236245</td>\n      <td>0.306377</td>\n      <td>re</td>\n      <td>redocred</td>\n      <td>test</td>\n      <td>entities_separately</td>\n      <td>NaN</td>\n      <td>re_entities_separately</td>\n      <td>v7</td>\n      <td>deepseek-chat</td>\n    </tr>\n    <tr>\n      <th>20</th>\n      <td>0.503765</td>\n      <td>0.226215</td>\n      <td>0.312226</td>\n      <td>re</td>\n      <td>redocred</td>\n      <td>test</td>\n      <td>entities_separately</td>\n      <td>NaN</td>\n      <td>re_entities_separately</td>\n      <td>v7</td>\n      <td>deepseek-reasoner</td>\n    </tr>\n    <tr>\n      <th>24</th>\n      <td>0.690148</td>\n      <td>0.309950</td>\n      <td>0.427780</td>\n      <td>re</td>\n      <td>redocred</td>\n      <td>test</td>\n      <td>entities_separately</td>\n      <td>NaN</td>\n      <td>verifier_re_entities_separately</td>\n      <td>v7</td>\n      <td>deepseek-chat</td>\n    </tr>\n    <tr>\n      <th>28</th>\n      <td>0.718379</td>\n      <td>0.301754</td>\n      <td>0.424991</td>\n      <td>re</td>\n      <td>redocred</td>\n      <td>test</td>\n      <td>entities_separately</td>\n      <td>NaN</td>\n      <td>verifier_re_entities_separately</td>\n      <td>v7</td>\n      <td>deepseek-reasoner</td>\n    </tr>\n  </tbody>\n</table>\n</div>"
     },
     "execution_count": 102,
     "metadata": {},
     "output_type": "execute_result"
    }
   ],
   "source": [
    "df = df[df.metric_type == 're']\n",
    "df"
   ],
   "metadata": {
    "collapsed": false
   }
  },
  {
   "cell_type": "code",
   "execution_count": null,
   "outputs": [],
   "source": [],
   "metadata": {
    "collapsed": false
   }
  },
  {
   "cell_type": "code",
   "execution_count": null,
   "outputs": [],
   "source": [],
   "metadata": {
    "collapsed": false
   }
  },
  {
   "cell_type": "code",
   "execution_count": 16,
   "outputs": [
    {
     "data": {
      "text/plain": "    precision    recall  f1-score metric_type docred_type split  \\\n0    0.247788  0.181818  0.209738          re      docred   dev   \n4    0.280443  0.246753  0.262522          re      docred   dev   \n8    0.293651  0.240260  0.264286          re      docred   dev   \n12   0.290323  0.262987  0.275980          re      docred   dev   \n16   0.236967  0.162338  0.192678          re      docred   dev   \n20   0.247312  0.298701  0.270588          re      docred   dev   \n24   0.298137  0.311688  0.304762          re      docred   dev   \n28   0.271552  0.204545  0.233333          re      docred   dev   \n32   0.286290  0.230519  0.255396          re      docred   dev   \n36   0.325581  0.227273  0.267686          re      docred   dev   \n40   0.348000  0.282468  0.311828          re      docred   dev   \n44   0.259912  0.191558  0.220561          re      docred   dev   \n48   0.335878  0.285714  0.308772          re      docred   dev   \n52   0.326460  0.308442  0.317195          re      docred   dev   \n56   0.153846  0.025974  0.044444          re      docred   dev   \n60   0.173077  0.058442  0.087379          re      docred   dev   \n64   0.221053  0.068182  0.104218          re      docred   dev   \n68   0.187050  0.084416  0.116331          re      docred   dev   \n72   0.000000  0.000000  0.000000          re      docred   dev   \n76   0.202532  0.103896  0.137339          re      docred   dev   \n80   0.221477  0.107143  0.144420          re      docred   dev   \n\n         ner_model_name  prediction_level         experiment_type experiment  \\\n0   entities_separately                20  re_entities_separately         v1   \n4   entities_separately                20  re_entities_separately         v2   \n8   entities_separately                20  re_entities_separately         v3   \n12  entities_separately                20  re_entities_separately         v4   \n16  entities_separately                20  re_entities_separately         v5   \n20  entities_separately                20  re_entities_separately         v6   \n24  entities_separately                20  re_entities_separately         v7   \n28  entities_separately                20  re_entities_separately         v1   \n32  entities_separately                20  re_entities_separately         v2   \n36  entities_separately                20  re_entities_separately         v3   \n40  entities_separately                20  re_entities_separately         v4   \n44  entities_separately                20  re_entities_separately         v5   \n48  entities_separately                20  re_entities_separately         v6   \n52  entities_separately                20  re_entities_separately         v7   \n56  entities_separately                20  re_entities_separately         v1   \n60  entities_separately                20  re_entities_separately         v2   \n64  entities_separately                20  re_entities_separately         v3   \n68  entities_separately                20  re_entities_separately         v4   \n72  entities_separately                20  re_entities_separately         v5   \n76  entities_separately                20  re_entities_separately         v6   \n80  entities_separately                20  re_entities_separately         v7   \n\n                model  \n0       deepseek-chat  \n4       deepseek-chat  \n8       deepseek-chat  \n12      deepseek-chat  \n16      deepseek-chat  \n20      deepseek-chat  \n24      deepseek-chat  \n28  deepseek-reasoner  \n32  deepseek-reasoner  \n36  deepseek-reasoner  \n40  deepseek-reasoner  \n44  deepseek-reasoner  \n48  deepseek-reasoner  \n52  deepseek-reasoner  \n56        gpt-4o-mini  \n60        gpt-4o-mini  \n64        gpt-4o-mini  \n68        gpt-4o-mini  \n72        gpt-4o-mini  \n76        gpt-4o-mini  \n80        gpt-4o-mini  ",
      "text/html": "<div>\n<style scoped>\n    .dataframe tbody tr th:only-of-type {\n        vertical-align: middle;\n    }\n\n    .dataframe tbody tr th {\n        vertical-align: top;\n    }\n\n    .dataframe thead th {\n        text-align: right;\n    }\n</style>\n<table border=\"1\" class=\"dataframe\">\n  <thead>\n    <tr style=\"text-align: right;\">\n      <th></th>\n      <th>precision</th>\n      <th>recall</th>\n      <th>f1-score</th>\n      <th>metric_type</th>\n      <th>docred_type</th>\n      <th>split</th>\n      <th>ner_model_name</th>\n      <th>prediction_level</th>\n      <th>experiment_type</th>\n      <th>experiment</th>\n      <th>model</th>\n    </tr>\n  </thead>\n  <tbody>\n    <tr>\n      <th>0</th>\n      <td>0.247788</td>\n      <td>0.181818</td>\n      <td>0.209738</td>\n      <td>re</td>\n      <td>docred</td>\n      <td>dev</td>\n      <td>entities_separately</td>\n      <td>20</td>\n      <td>re_entities_separately</td>\n      <td>v1</td>\n      <td>deepseek-chat</td>\n    </tr>\n    <tr>\n      <th>4</th>\n      <td>0.280443</td>\n      <td>0.246753</td>\n      <td>0.262522</td>\n      <td>re</td>\n      <td>docred</td>\n      <td>dev</td>\n      <td>entities_separately</td>\n      <td>20</td>\n      <td>re_entities_separately</td>\n      <td>v2</td>\n      <td>deepseek-chat</td>\n    </tr>\n    <tr>\n      <th>8</th>\n      <td>0.293651</td>\n      <td>0.240260</td>\n      <td>0.264286</td>\n      <td>re</td>\n      <td>docred</td>\n      <td>dev</td>\n      <td>entities_separately</td>\n      <td>20</td>\n      <td>re_entities_separately</td>\n      <td>v3</td>\n      <td>deepseek-chat</td>\n    </tr>\n    <tr>\n      <th>12</th>\n      <td>0.290323</td>\n      <td>0.262987</td>\n      <td>0.275980</td>\n      <td>re</td>\n      <td>docred</td>\n      <td>dev</td>\n      <td>entities_separately</td>\n      <td>20</td>\n      <td>re_entities_separately</td>\n      <td>v4</td>\n      <td>deepseek-chat</td>\n    </tr>\n    <tr>\n      <th>16</th>\n      <td>0.236967</td>\n      <td>0.162338</td>\n      <td>0.192678</td>\n      <td>re</td>\n      <td>docred</td>\n      <td>dev</td>\n      <td>entities_separately</td>\n      <td>20</td>\n      <td>re_entities_separately</td>\n      <td>v5</td>\n      <td>deepseek-chat</td>\n    </tr>\n    <tr>\n      <th>20</th>\n      <td>0.247312</td>\n      <td>0.298701</td>\n      <td>0.270588</td>\n      <td>re</td>\n      <td>docred</td>\n      <td>dev</td>\n      <td>entities_separately</td>\n      <td>20</td>\n      <td>re_entities_separately</td>\n      <td>v6</td>\n      <td>deepseek-chat</td>\n    </tr>\n    <tr>\n      <th>24</th>\n      <td>0.298137</td>\n      <td>0.311688</td>\n      <td>0.304762</td>\n      <td>re</td>\n      <td>docred</td>\n      <td>dev</td>\n      <td>entities_separately</td>\n      <td>20</td>\n      <td>re_entities_separately</td>\n      <td>v7</td>\n      <td>deepseek-chat</td>\n    </tr>\n    <tr>\n      <th>28</th>\n      <td>0.271552</td>\n      <td>0.204545</td>\n      <td>0.233333</td>\n      <td>re</td>\n      <td>docred</td>\n      <td>dev</td>\n      <td>entities_separately</td>\n      <td>20</td>\n      <td>re_entities_separately</td>\n      <td>v1</td>\n      <td>deepseek-reasoner</td>\n    </tr>\n    <tr>\n      <th>32</th>\n      <td>0.286290</td>\n      <td>0.230519</td>\n      <td>0.255396</td>\n      <td>re</td>\n      <td>docred</td>\n      <td>dev</td>\n      <td>entities_separately</td>\n      <td>20</td>\n      <td>re_entities_separately</td>\n      <td>v2</td>\n      <td>deepseek-reasoner</td>\n    </tr>\n    <tr>\n      <th>36</th>\n      <td>0.325581</td>\n      <td>0.227273</td>\n      <td>0.267686</td>\n      <td>re</td>\n      <td>docred</td>\n      <td>dev</td>\n      <td>entities_separately</td>\n      <td>20</td>\n      <td>re_entities_separately</td>\n      <td>v3</td>\n      <td>deepseek-reasoner</td>\n    </tr>\n    <tr>\n      <th>40</th>\n      <td>0.348000</td>\n      <td>0.282468</td>\n      <td>0.311828</td>\n      <td>re</td>\n      <td>docred</td>\n      <td>dev</td>\n      <td>entities_separately</td>\n      <td>20</td>\n      <td>re_entities_separately</td>\n      <td>v4</td>\n      <td>deepseek-reasoner</td>\n    </tr>\n    <tr>\n      <th>44</th>\n      <td>0.259912</td>\n      <td>0.191558</td>\n      <td>0.220561</td>\n      <td>re</td>\n      <td>docred</td>\n      <td>dev</td>\n      <td>entities_separately</td>\n      <td>20</td>\n      <td>re_entities_separately</td>\n      <td>v5</td>\n      <td>deepseek-reasoner</td>\n    </tr>\n    <tr>\n      <th>48</th>\n      <td>0.335878</td>\n      <td>0.285714</td>\n      <td>0.308772</td>\n      <td>re</td>\n      <td>docred</td>\n      <td>dev</td>\n      <td>entities_separately</td>\n      <td>20</td>\n      <td>re_entities_separately</td>\n      <td>v6</td>\n      <td>deepseek-reasoner</td>\n    </tr>\n    <tr>\n      <th>52</th>\n      <td>0.326460</td>\n      <td>0.308442</td>\n      <td>0.317195</td>\n      <td>re</td>\n      <td>docred</td>\n      <td>dev</td>\n      <td>entities_separately</td>\n      <td>20</td>\n      <td>re_entities_separately</td>\n      <td>v7</td>\n      <td>deepseek-reasoner</td>\n    </tr>\n    <tr>\n      <th>56</th>\n      <td>0.153846</td>\n      <td>0.025974</td>\n      <td>0.044444</td>\n      <td>re</td>\n      <td>docred</td>\n      <td>dev</td>\n      <td>entities_separately</td>\n      <td>20</td>\n      <td>re_entities_separately</td>\n      <td>v1</td>\n      <td>gpt-4o-mini</td>\n    </tr>\n    <tr>\n      <th>60</th>\n      <td>0.173077</td>\n      <td>0.058442</td>\n      <td>0.087379</td>\n      <td>re</td>\n      <td>docred</td>\n      <td>dev</td>\n      <td>entities_separately</td>\n      <td>20</td>\n      <td>re_entities_separately</td>\n      <td>v2</td>\n      <td>gpt-4o-mini</td>\n    </tr>\n    <tr>\n      <th>64</th>\n      <td>0.221053</td>\n      <td>0.068182</td>\n      <td>0.104218</td>\n      <td>re</td>\n      <td>docred</td>\n      <td>dev</td>\n      <td>entities_separately</td>\n      <td>20</td>\n      <td>re_entities_separately</td>\n      <td>v3</td>\n      <td>gpt-4o-mini</td>\n    </tr>\n    <tr>\n      <th>68</th>\n      <td>0.187050</td>\n      <td>0.084416</td>\n      <td>0.116331</td>\n      <td>re</td>\n      <td>docred</td>\n      <td>dev</td>\n      <td>entities_separately</td>\n      <td>20</td>\n      <td>re_entities_separately</td>\n      <td>v4</td>\n      <td>gpt-4o-mini</td>\n    </tr>\n    <tr>\n      <th>72</th>\n      <td>0.000000</td>\n      <td>0.000000</td>\n      <td>0.000000</td>\n      <td>re</td>\n      <td>docred</td>\n      <td>dev</td>\n      <td>entities_separately</td>\n      <td>20</td>\n      <td>re_entities_separately</td>\n      <td>v5</td>\n      <td>gpt-4o-mini</td>\n    </tr>\n    <tr>\n      <th>76</th>\n      <td>0.202532</td>\n      <td>0.103896</td>\n      <td>0.137339</td>\n      <td>re</td>\n      <td>docred</td>\n      <td>dev</td>\n      <td>entities_separately</td>\n      <td>20</td>\n      <td>re_entities_separately</td>\n      <td>v6</td>\n      <td>gpt-4o-mini</td>\n    </tr>\n    <tr>\n      <th>80</th>\n      <td>0.221477</td>\n      <td>0.107143</td>\n      <td>0.144420</td>\n      <td>re</td>\n      <td>docred</td>\n      <td>dev</td>\n      <td>entities_separately</td>\n      <td>20</td>\n      <td>re_entities_separately</td>\n      <td>v7</td>\n      <td>gpt-4o-mini</td>\n    </tr>\n  </tbody>\n</table>\n</div>"
     },
     "execution_count": 16,
     "metadata": {},
     "output_type": "execute_result"
    }
   ],
   "source": [
    "df[df.split == 'dev']"
   ],
   "metadata": {
    "collapsed": false
   }
  },
  {
   "cell_type": "code",
   "execution_count": 17,
   "outputs": [
    {
     "data": {
      "text/plain": "     precision    recall  f1-score metric_type docred_type split  \\\n84    0.370370  0.122699  0.184332          re    redocred  test   \n88    0.416949  0.188650  0.259768          re    redocred  test   \n92    0.459677  0.174847  0.253333          re    redocred  test   \n96    0.521036  0.246933  0.335068          re    redocred  test   \n100   0.462312  0.141104  0.216216          re    redocred  test   \n104   0.464286  0.299080  0.363806          re    redocred  test   \n108   0.494505  0.276074  0.354331          re    redocred  test   \n112   0.461864  0.167178  0.245495          re    redocred  test   \n116   0.462366  0.197853  0.277121          re    redocred  test   \n120   0.506608  0.176380  0.261661          re    redocred  test   \n124   0.539924  0.217791  0.310383          re    redocred  test   \n128   0.427313  0.148773  0.220705          re    redocred  test   \n132   0.468165  0.191718  0.272035          re    redocred  test   \n136   0.562724  0.240798  0.337272          re    redocred  test   \n140   0.232143  0.019939  0.036723          re    redocred  test   \n144   0.260870  0.036810  0.064516          re    redocred  test   \n148   0.318182  0.042945  0.075676          re    redocred  test   \n152   0.325581  0.064417  0.107554          re    redocred  test   \n156   0.000000  0.000000  0.000000          re    redocred  test   \n160   0.274854  0.072086  0.114216          re    redocred  test   \n164   0.262570  0.072086  0.113117          re    redocred  test   \n\n          ner_model_name  prediction_level         experiment_type experiment  \\\n84   entities_separately                20  re_entities_separately         v1   \n88   entities_separately                20  re_entities_separately         v2   \n92   entities_separately                20  re_entities_separately         v3   \n96   entities_separately                20  re_entities_separately         v4   \n100  entities_separately                20  re_entities_separately         v5   \n104  entities_separately                20  re_entities_separately         v6   \n108  entities_separately                20  re_entities_separately         v7   \n112  entities_separately                20  re_entities_separately         v1   \n116  entities_separately                20  re_entities_separately         v2   \n120  entities_separately                20  re_entities_separately         v3   \n124  entities_separately                20  re_entities_separately         v4   \n128  entities_separately                20  re_entities_separately         v5   \n132  entities_separately                20  re_entities_separately         v6   \n136  entities_separately                20  re_entities_separately         v7   \n140  entities_separately                20  re_entities_separately         v1   \n144  entities_separately                20  re_entities_separately         v2   \n148  entities_separately                20  re_entities_separately         v3   \n152  entities_separately                20  re_entities_separately         v4   \n156  entities_separately                20  re_entities_separately         v5   \n160  entities_separately                20  re_entities_separately         v6   \n164  entities_separately                20  re_entities_separately         v7   \n\n                 model  \n84       deepseek-chat  \n88       deepseek-chat  \n92       deepseek-chat  \n96       deepseek-chat  \n100      deepseek-chat  \n104      deepseek-chat  \n108      deepseek-chat  \n112  deepseek-reasoner  \n116  deepseek-reasoner  \n120  deepseek-reasoner  \n124  deepseek-reasoner  \n128  deepseek-reasoner  \n132  deepseek-reasoner  \n136  deepseek-reasoner  \n140        gpt-4o-mini  \n144        gpt-4o-mini  \n148        gpt-4o-mini  \n152        gpt-4o-mini  \n156        gpt-4o-mini  \n160        gpt-4o-mini  \n164        gpt-4o-mini  ",
      "text/html": "<div>\n<style scoped>\n    .dataframe tbody tr th:only-of-type {\n        vertical-align: middle;\n    }\n\n    .dataframe tbody tr th {\n        vertical-align: top;\n    }\n\n    .dataframe thead th {\n        text-align: right;\n    }\n</style>\n<table border=\"1\" class=\"dataframe\">\n  <thead>\n    <tr style=\"text-align: right;\">\n      <th></th>\n      <th>precision</th>\n      <th>recall</th>\n      <th>f1-score</th>\n      <th>metric_type</th>\n      <th>docred_type</th>\n      <th>split</th>\n      <th>ner_model_name</th>\n      <th>prediction_level</th>\n      <th>experiment_type</th>\n      <th>experiment</th>\n      <th>model</th>\n    </tr>\n  </thead>\n  <tbody>\n    <tr>\n      <th>84</th>\n      <td>0.370370</td>\n      <td>0.122699</td>\n      <td>0.184332</td>\n      <td>re</td>\n      <td>redocred</td>\n      <td>test</td>\n      <td>entities_separately</td>\n      <td>20</td>\n      <td>re_entities_separately</td>\n      <td>v1</td>\n      <td>deepseek-chat</td>\n    </tr>\n    <tr>\n      <th>88</th>\n      <td>0.416949</td>\n      <td>0.188650</td>\n      <td>0.259768</td>\n      <td>re</td>\n      <td>redocred</td>\n      <td>test</td>\n      <td>entities_separately</td>\n      <td>20</td>\n      <td>re_entities_separately</td>\n      <td>v2</td>\n      <td>deepseek-chat</td>\n    </tr>\n    <tr>\n      <th>92</th>\n      <td>0.459677</td>\n      <td>0.174847</td>\n      <td>0.253333</td>\n      <td>re</td>\n      <td>redocred</td>\n      <td>test</td>\n      <td>entities_separately</td>\n      <td>20</td>\n      <td>re_entities_separately</td>\n      <td>v3</td>\n      <td>deepseek-chat</td>\n    </tr>\n    <tr>\n      <th>96</th>\n      <td>0.521036</td>\n      <td>0.246933</td>\n      <td>0.335068</td>\n      <td>re</td>\n      <td>redocred</td>\n      <td>test</td>\n      <td>entities_separately</td>\n      <td>20</td>\n      <td>re_entities_separately</td>\n      <td>v4</td>\n      <td>deepseek-chat</td>\n    </tr>\n    <tr>\n      <th>100</th>\n      <td>0.462312</td>\n      <td>0.141104</td>\n      <td>0.216216</td>\n      <td>re</td>\n      <td>redocred</td>\n      <td>test</td>\n      <td>entities_separately</td>\n      <td>20</td>\n      <td>re_entities_separately</td>\n      <td>v5</td>\n      <td>deepseek-chat</td>\n    </tr>\n    <tr>\n      <th>104</th>\n      <td>0.464286</td>\n      <td>0.299080</td>\n      <td>0.363806</td>\n      <td>re</td>\n      <td>redocred</td>\n      <td>test</td>\n      <td>entities_separately</td>\n      <td>20</td>\n      <td>re_entities_separately</td>\n      <td>v6</td>\n      <td>deepseek-chat</td>\n    </tr>\n    <tr>\n      <th>108</th>\n      <td>0.494505</td>\n      <td>0.276074</td>\n      <td>0.354331</td>\n      <td>re</td>\n      <td>redocred</td>\n      <td>test</td>\n      <td>entities_separately</td>\n      <td>20</td>\n      <td>re_entities_separately</td>\n      <td>v7</td>\n      <td>deepseek-chat</td>\n    </tr>\n    <tr>\n      <th>112</th>\n      <td>0.461864</td>\n      <td>0.167178</td>\n      <td>0.245495</td>\n      <td>re</td>\n      <td>redocred</td>\n      <td>test</td>\n      <td>entities_separately</td>\n      <td>20</td>\n      <td>re_entities_separately</td>\n      <td>v1</td>\n      <td>deepseek-reasoner</td>\n    </tr>\n    <tr>\n      <th>116</th>\n      <td>0.462366</td>\n      <td>0.197853</td>\n      <td>0.277121</td>\n      <td>re</td>\n      <td>redocred</td>\n      <td>test</td>\n      <td>entities_separately</td>\n      <td>20</td>\n      <td>re_entities_separately</td>\n      <td>v2</td>\n      <td>deepseek-reasoner</td>\n    </tr>\n    <tr>\n      <th>120</th>\n      <td>0.506608</td>\n      <td>0.176380</td>\n      <td>0.261661</td>\n      <td>re</td>\n      <td>redocred</td>\n      <td>test</td>\n      <td>entities_separately</td>\n      <td>20</td>\n      <td>re_entities_separately</td>\n      <td>v3</td>\n      <td>deepseek-reasoner</td>\n    </tr>\n    <tr>\n      <th>124</th>\n      <td>0.539924</td>\n      <td>0.217791</td>\n      <td>0.310383</td>\n      <td>re</td>\n      <td>redocred</td>\n      <td>test</td>\n      <td>entities_separately</td>\n      <td>20</td>\n      <td>re_entities_separately</td>\n      <td>v4</td>\n      <td>deepseek-reasoner</td>\n    </tr>\n    <tr>\n      <th>128</th>\n      <td>0.427313</td>\n      <td>0.148773</td>\n      <td>0.220705</td>\n      <td>re</td>\n      <td>redocred</td>\n      <td>test</td>\n      <td>entities_separately</td>\n      <td>20</td>\n      <td>re_entities_separately</td>\n      <td>v5</td>\n      <td>deepseek-reasoner</td>\n    </tr>\n    <tr>\n      <th>132</th>\n      <td>0.468165</td>\n      <td>0.191718</td>\n      <td>0.272035</td>\n      <td>re</td>\n      <td>redocred</td>\n      <td>test</td>\n      <td>entities_separately</td>\n      <td>20</td>\n      <td>re_entities_separately</td>\n      <td>v6</td>\n      <td>deepseek-reasoner</td>\n    </tr>\n    <tr>\n      <th>136</th>\n      <td>0.562724</td>\n      <td>0.240798</td>\n      <td>0.337272</td>\n      <td>re</td>\n      <td>redocred</td>\n      <td>test</td>\n      <td>entities_separately</td>\n      <td>20</td>\n      <td>re_entities_separately</td>\n      <td>v7</td>\n      <td>deepseek-reasoner</td>\n    </tr>\n    <tr>\n      <th>140</th>\n      <td>0.232143</td>\n      <td>0.019939</td>\n      <td>0.036723</td>\n      <td>re</td>\n      <td>redocred</td>\n      <td>test</td>\n      <td>entities_separately</td>\n      <td>20</td>\n      <td>re_entities_separately</td>\n      <td>v1</td>\n      <td>gpt-4o-mini</td>\n    </tr>\n    <tr>\n      <th>144</th>\n      <td>0.260870</td>\n      <td>0.036810</td>\n      <td>0.064516</td>\n      <td>re</td>\n      <td>redocred</td>\n      <td>test</td>\n      <td>entities_separately</td>\n      <td>20</td>\n      <td>re_entities_separately</td>\n      <td>v2</td>\n      <td>gpt-4o-mini</td>\n    </tr>\n    <tr>\n      <th>148</th>\n      <td>0.318182</td>\n      <td>0.042945</td>\n      <td>0.075676</td>\n      <td>re</td>\n      <td>redocred</td>\n      <td>test</td>\n      <td>entities_separately</td>\n      <td>20</td>\n      <td>re_entities_separately</td>\n      <td>v3</td>\n      <td>gpt-4o-mini</td>\n    </tr>\n    <tr>\n      <th>152</th>\n      <td>0.325581</td>\n      <td>0.064417</td>\n      <td>0.107554</td>\n      <td>re</td>\n      <td>redocred</td>\n      <td>test</td>\n      <td>entities_separately</td>\n      <td>20</td>\n      <td>re_entities_separately</td>\n      <td>v4</td>\n      <td>gpt-4o-mini</td>\n    </tr>\n    <tr>\n      <th>156</th>\n      <td>0.000000</td>\n      <td>0.000000</td>\n      <td>0.000000</td>\n      <td>re</td>\n      <td>redocred</td>\n      <td>test</td>\n      <td>entities_separately</td>\n      <td>20</td>\n      <td>re_entities_separately</td>\n      <td>v5</td>\n      <td>gpt-4o-mini</td>\n    </tr>\n    <tr>\n      <th>160</th>\n      <td>0.274854</td>\n      <td>0.072086</td>\n      <td>0.114216</td>\n      <td>re</td>\n      <td>redocred</td>\n      <td>test</td>\n      <td>entities_separately</td>\n      <td>20</td>\n      <td>re_entities_separately</td>\n      <td>v6</td>\n      <td>gpt-4o-mini</td>\n    </tr>\n    <tr>\n      <th>164</th>\n      <td>0.262570</td>\n      <td>0.072086</td>\n      <td>0.113117</td>\n      <td>re</td>\n      <td>redocred</td>\n      <td>test</td>\n      <td>entities_separately</td>\n      <td>20</td>\n      <td>re_entities_separately</td>\n      <td>v7</td>\n      <td>gpt-4o-mini</td>\n    </tr>\n  </tbody>\n</table>\n</div>"
     },
     "execution_count": 17,
     "metadata": {},
     "output_type": "execute_result"
    }
   ],
   "source": [
    "df[df.split == 'test']"
   ],
   "metadata": {
    "collapsed": false
   }
  },
  {
   "cell_type": "markdown",
   "source": [
    "# Uruchomić ekseprymenty na wszystkich dokumentach z docred dev i redocred test. Zrobić to w 2 setupach na entities separately i na wikineural finetuned NER.\n",
    "Lecimy z 2 modelami. Deepseek reasoner v7 na obu setach. deepseek chat v7 na docred i v6 na redocred.\n",
    "\n"
   ],
   "metadata": {
    "collapsed": false
   }
  },
  {
   "cell_type": "code",
   "execution_count": null,
   "outputs": [],
   "source": [],
   "metadata": {
    "collapsed": false
   }
  },
  {
   "cell_type": "code",
   "execution_count": null,
   "outputs": [],
   "source": [],
   "metadata": {
    "collapsed": false
   }
  },
  {
   "cell_type": "code",
   "execution_count": null,
   "outputs": [],
   "source": [],
   "metadata": {
    "collapsed": false
   }
  },
  {
   "cell_type": "markdown",
   "source": [
    "# Check completeness docred dev"
   ],
   "metadata": {
    "collapsed": false
   }
  },
  {
   "cell_type": "code",
   "execution_count": 87,
   "outputs": [
    {
     "name": "stdout",
     "output_type": "stream",
     "text": [
      "D:\\Masters\\KGconstruction\\overleaf\n",
      "Missing documents: []\n"
     ]
    }
   ],
   "source": [
    "import os\n",
    "\n",
    "experiment = 're_entities_separately'\n",
    "dataset = 'docred'\n",
    "split = 'dev'\n",
    "exp = 'v7'\n",
    "model = 'deepseek-reasoner'\n",
    "print(os.getcwd())\n",
    "\n",
    "docs_ready = os.listdir(f'../LLMs_via_API/{experiment}/{dataset}/{split}/{exp}/{model}/')\n",
    "from data_utlis import DocREDLoader\n",
    "dr_loader = DocREDLoader('..')\n",
    "no_of_docs = len(dr_loader.load_docs(docred_type=dataset, split=split))\n",
    "\n",
    "missing = []\n",
    "for i in range(no_of_docs):\n",
    "    if f'doc_{i}.json' not in docs_ready:\n",
    "        missing.append(i)\n",
    "print(f'Missing documents: {missing}')"
   ],
   "metadata": {
    "collapsed": false
   }
  },
  {
   "cell_type": "code",
   "execution_count": 88,
   "outputs": [
    {
     "name": "stdout",
     "output_type": "stream",
     "text": [
      "D:\\Masters\\KGconstruction\\overleaf\n",
      "Missing documents: []\n"
     ]
    }
   ],
   "source": [
    "import os\n",
    "\n",
    "experiment = 're_entities_separately'\n",
    "dataset = 'docred'\n",
    "split = 'dev'\n",
    "exp = 'v7'\n",
    "model = 'deepseek-chat'\n",
    "print(os.getcwd())\n",
    "\n",
    "docs_ready = os.listdir(f'../LLMs_via_API/{experiment}/{dataset}/{split}/{exp}/{model}/')\n",
    "from data_utlis import DocREDLoader\n",
    "dr_loader = DocREDLoader('..')\n",
    "no_of_docs = len(dr_loader.load_docs(docred_type=dataset, split=split))\n",
    "\n",
    "missing = []\n",
    "for i in range(no_of_docs):\n",
    "    if f'doc_{i}.json' not in docs_ready:\n",
    "        missing.append(i)\n",
    "print(f'Missing documents: {missing}')"
   ],
   "metadata": {
    "collapsed": false
   }
  },
  {
   "cell_type": "code",
   "execution_count": 89,
   "outputs": [
    {
     "name": "stdout",
     "output_type": "stream",
     "text": [
      "D:\\Masters\\KGconstruction\\overleaf\n",
      "Missing documents: []\n"
     ]
    }
   ],
   "source": [
    "import os\n",
    "\n",
    "experiment = 'verifier_re_entities_separately'\n",
    "dataset = 'docred'\n",
    "split = 'dev'\n",
    "exp = 'v7'\n",
    "model = 'deepseek-reasoner'\n",
    "print(os.getcwd())\n",
    "\n",
    "docs_ready = os.listdir(f'../LLMs_via_API/{experiment}/{dataset}/{split}/{exp}/{model}/')\n",
    "from data_utlis import DocREDLoader\n",
    "dr_loader = DocREDLoader('..')\n",
    "no_of_docs = len(dr_loader.load_docs(docred_type=dataset, split=split))\n",
    "\n",
    "missing = []\n",
    "for i in range(no_of_docs):\n",
    "    if f'doc_{i}.json' not in docs_ready:\n",
    "        missing.append(i)\n",
    "print(f'Missing documents: {missing}')"
   ],
   "metadata": {
    "collapsed": false
   }
  },
  {
   "cell_type": "code",
   "execution_count": 90,
   "outputs": [
    {
     "name": "stdout",
     "output_type": "stream",
     "text": [
      "D:\\Masters\\KGconstruction\\overleaf\n",
      "Missing documents: []\n"
     ]
    }
   ],
   "source": [
    "import os\n",
    "\n",
    "experiment = 'verifier_re_entities_separately'\n",
    "dataset = 'docred'\n",
    "split = 'dev'\n",
    "exp = 'v7'\n",
    "model = 'deepseek-chat'\n",
    "print(os.getcwd())\n",
    "\n",
    "docs_ready = os.listdir(f'../LLMs_via_API/{experiment}/{dataset}/{split}/{exp}/{model}/')\n",
    "from data_utlis import DocREDLoader\n",
    "dr_loader = DocREDLoader('..')\n",
    "no_of_docs = len(dr_loader.load_docs(docred_type=dataset, split=split))\n",
    "\n",
    "missing = []\n",
    "for i in range(no_of_docs):\n",
    "    if f'doc_{i}.json' not in docs_ready:\n",
    "        missing.append(i)\n",
    "print(f'Missing documents: {missing}')"
   ],
   "metadata": {
    "collapsed": false
   }
  },
  {
   "cell_type": "code",
   "execution_count": null,
   "outputs": [],
   "source": [],
   "metadata": {
    "collapsed": false
   }
  },
  {
   "cell_type": "code",
   "execution_count": null,
   "outputs": [],
   "source": [],
   "metadata": {
    "collapsed": false
   }
  },
  {
   "cell_type": "code",
   "execution_count": null,
   "outputs": [],
   "source": [],
   "metadata": {
    "collapsed": false
   }
  },
  {
   "cell_type": "markdown",
   "source": [
    "# Check completeness redocred test"
   ],
   "metadata": {
    "collapsed": false
   }
  },
  {
   "cell_type": "code",
   "execution_count": 95,
   "outputs": [
    {
     "name": "stdout",
     "output_type": "stream",
     "text": [
      "D:\\Masters\\KGconstruction\\overleaf\n",
      "Missing documents: []\n"
     ]
    }
   ],
   "source": [
    "import os\n",
    "\n",
    "experiment = 're_entities_separately'\n",
    "dataset = 'redocred'\n",
    "split = 'test'\n",
    "exp = 'v7'\n",
    "model = 'deepseek-reasoner'\n",
    "print(os.getcwd())\n",
    "\n",
    "docs_ready = os.listdir(f'../LLMs_via_API/{experiment}/{dataset}/{split}/{exp}/{model}/')\n",
    "from data_utlis import DocREDLoader\n",
    "dr_loader = DocREDLoader('..')\n",
    "no_of_docs = len(dr_loader.load_docs(docred_type=dataset, split=split))\n",
    "\n",
    "missing = []\n",
    "for i in range(no_of_docs):\n",
    "    if f'doc_{i}.json' not in docs_ready:\n",
    "        missing.append(i)\n",
    "print(f'Missing documents: {missing}')"
   ],
   "metadata": {
    "collapsed": false
   }
  },
  {
   "cell_type": "code",
   "execution_count": 96,
   "outputs": [
    {
     "name": "stdout",
     "output_type": "stream",
     "text": [
      "D:\\Masters\\KGconstruction\\overleaf\n",
      "Missing documents: []\n"
     ]
    }
   ],
   "source": [
    "import os\n",
    "\n",
    "experiment = 're_entities_separately'\n",
    "dataset = 'redocred'\n",
    "split = 'test'\n",
    "exp = 'v7'\n",
    "model = 'deepseek-chat'\n",
    "print(os.getcwd())\n",
    "\n",
    "docs_ready = os.listdir(f'../LLMs_via_API/{experiment}/{dataset}/{split}/{exp}/{model}/')\n",
    "from data_utlis import DocREDLoader\n",
    "dr_loader = DocREDLoader('..')\n",
    "no_of_docs = len(dr_loader.load_docs(docred_type=dataset, split=split))\n",
    "\n",
    "missing = []\n",
    "for i in range(no_of_docs):\n",
    "    if f'doc_{i}.json' not in docs_ready:\n",
    "        missing.append(i)\n",
    "print(f'Missing documents: {missing}')"
   ],
   "metadata": {
    "collapsed": false
   }
  },
  {
   "cell_type": "code",
   "execution_count": 97,
   "outputs": [
    {
     "name": "stdout",
     "output_type": "stream",
     "text": [
      "D:\\Masters\\KGconstruction\\overleaf\n",
      "Missing documents: []\n"
     ]
    }
   ],
   "source": [
    "import os\n",
    "\n",
    "experiment = 'verifier_re_entities_separately'\n",
    "dataset = 'redocred'\n",
    "split = 'test'\n",
    "exp = 'v7'\n",
    "model = 'deepseek-reasoner'\n",
    "print(os.getcwd())\n",
    "\n",
    "docs_ready = os.listdir(f'../LLMs_via_API/{experiment}/{dataset}/{split}/{exp}/{model}/')\n",
    "from data_utlis import DocREDLoader\n",
    "dr_loader = DocREDLoader('..')\n",
    "no_of_docs = len(dr_loader.load_docs(docred_type=dataset, split=split))\n",
    "\n",
    "missing = []\n",
    "for i in range(no_of_docs):\n",
    "    if f'doc_{i}.json' not in docs_ready:\n",
    "        missing.append(i)\n",
    "print(f'Missing documents: {missing}')"
   ],
   "metadata": {
    "collapsed": false
   }
  },
  {
   "cell_type": "code",
   "execution_count": 98,
   "outputs": [
    {
     "name": "stdout",
     "output_type": "stream",
     "text": [
      "D:\\Masters\\KGconstruction\\overleaf\n",
      "Missing documents: []\n"
     ]
    }
   ],
   "source": [
    "import os\n",
    "\n",
    "experiment = 'verifier_re_entities_separately'\n",
    "dataset = 'redocred'\n",
    "split = 'test'\n",
    "exp = 'v7'\n",
    "model = 'deepseek-chat'\n",
    "print(os.getcwd())\n",
    "\n",
    "docs_ready = os.listdir(f'../LLMs_via_API/{experiment}/{dataset}/{split}/{exp}/{model}/')\n",
    "from data_utlis import DocREDLoader\n",
    "dr_loader = DocREDLoader('..')\n",
    "no_of_docs = len(dr_loader.load_docs(docred_type=dataset, split=split))\n",
    "\n",
    "missing = []\n",
    "for i in range(no_of_docs):\n",
    "    if f'doc_{i}.json' not in docs_ready:\n",
    "        missing.append(i)\n",
    "print(f'Missing documents: {missing}')"
   ],
   "metadata": {
    "collapsed": false
   }
  },
  {
   "cell_type": "code",
   "execution_count": null,
   "outputs": [],
   "source": [],
   "metadata": {
    "collapsed": false
   }
  },
  {
   "cell_type": "code",
   "execution_count": null,
   "outputs": [],
   "source": [],
   "metadata": {
    "collapsed": false
   }
  },
  {
   "cell_type": "code",
   "execution_count": null,
   "outputs": [],
   "source": [],
   "metadata": {
    "collapsed": false
   }
  },
  {
   "cell_type": "code",
   "execution_count": null,
   "outputs": [],
   "source": [],
   "metadata": {
    "collapsed": false
   }
  },
  {
   "cell_type": "code",
   "execution_count": null,
   "outputs": [],
   "source": [],
   "metadata": {
    "collapsed": false
   }
  },
  {
   "cell_type": "markdown",
   "source": [
    "# Full evaluation  with LLMs API"
   ],
   "metadata": {
    "collapsed": false
   }
  },
  {
   "cell_type": "code",
   "execution_count": 1,
   "outputs": [],
   "source": [
    "import pandas as pd"
   ],
   "metadata": {
    "collapsed": false
   }
  },
  {
   "cell_type": "code",
   "execution_count": 2,
   "outputs": [],
   "source": [
    "df = pd.read_csv('../results_LLMs_API_v7_both_full_sets.csv')"
   ],
   "metadata": {
    "collapsed": false
   }
  },
  {
   "cell_type": "code",
   "execution_count": 3,
   "outputs": [
    {
     "data": {
      "text/plain": "    precision    recall  f1-score  \\\n0    0.226618  0.345825  0.273809   \n1    0.129470  0.164671  0.144964   \n2    0.211978  0.345825  0.262843   \n3    0.172786  0.345825  0.230437   \n4    0.275170  0.352912  0.309230   \n5    0.238081  0.199414  0.217039   \n6    0.255351  0.352912  0.296308   \n7    0.212111  0.352912  0.264968   \n8    0.470045  0.596986  0.525964   \n9    0.430353  0.470011  0.449308   \n10   0.433333  0.596986  0.502163   \n11   0.344234  0.596986  0.436673   \n12   0.480290  0.555845  0.515313   \n13   0.453525  0.425554  0.439094   \n14   0.444845  0.555845  0.494189   \n15   0.360059  0.555845  0.437026   \n16   0.435729  0.236245  0.306377   \n17   0.144970  0.142835  0.143895   \n18   0.420790  0.236245  0.302600   \n19   0.384101  0.236245  0.292552   \n20   0.503765  0.226215  0.312226   \n21   0.254993  0.163949  0.199578   \n22   0.487882  0.226215  0.309107   \n23   0.451931  0.226215  0.301509   \n24   0.690148  0.309950  0.427780   \n25   0.427643  0.357599  0.389497   \n26   0.663758  0.309950  0.422574   \n27   0.595536  0.309950  0.407706   \n28   0.718379  0.301754  0.424991   \n29   0.450068  0.336957  0.385385   \n30   0.694449  0.301754  0.420703   \n31   0.631889  0.301754  0.408454   \n\n                                    metric_type docred_type split  \\\n0                                            re      docred   dev   \n1                                           evi      docred   dev   \n2   re_ignore_train_annotated (used officially)      docred   dev   \n3                               re_ignore_train      docred   dev   \n4                                            re      docred   dev   \n5                                           evi      docred   dev   \n6   re_ignore_train_annotated (used officially)      docred   dev   \n7                               re_ignore_train      docred   dev   \n8                                            re      docred   dev   \n9                                           evi      docred   dev   \n10  re_ignore_train_annotated (used officially)      docred   dev   \n11                              re_ignore_train      docred   dev   \n12                                           re      docred   dev   \n13                                          evi      docred   dev   \n14  re_ignore_train_annotated (used officially)      docred   dev   \n15                              re_ignore_train      docred   dev   \n16                                           re    redocred  test   \n17                                          evi    redocred  test   \n18  re_ignore_train_annotated (used officially)    redocred  test   \n19                              re_ignore_train    redocred  test   \n20                                           re    redocred  test   \n21                                          evi    redocred  test   \n22  re_ignore_train_annotated (used officially)    redocred  test   \n23                              re_ignore_train    redocred  test   \n24                                           re    redocred  test   \n25                                          evi    redocred  test   \n26  re_ignore_train_annotated (used officially)    redocred  test   \n27                              re_ignore_train    redocred  test   \n28                                           re    redocred  test   \n29                                          evi    redocred  test   \n30  re_ignore_train_annotated (used officially)    redocred  test   \n31                              re_ignore_train    redocred  test   \n\n         ner_model_name  prediction_level                  experiment_type  \\\n0   entities_separately               NaN           re_entities_separately   \n1   entities_separately               NaN           re_entities_separately   \n2   entities_separately               NaN           re_entities_separately   \n3   entities_separately               NaN           re_entities_separately   \n4   entities_separately               NaN           re_entities_separately   \n5   entities_separately               NaN           re_entities_separately   \n6   entities_separately               NaN           re_entities_separately   \n7   entities_separately               NaN           re_entities_separately   \n8   entities_separately               NaN  verifier_re_entities_separately   \n9   entities_separately               NaN  verifier_re_entities_separately   \n10  entities_separately               NaN  verifier_re_entities_separately   \n11  entities_separately               NaN  verifier_re_entities_separately   \n12  entities_separately               NaN  verifier_re_entities_separately   \n13  entities_separately               NaN  verifier_re_entities_separately   \n14  entities_separately               NaN  verifier_re_entities_separately   \n15  entities_separately               NaN  verifier_re_entities_separately   \n16  entities_separately               NaN           re_entities_separately   \n17  entities_separately               NaN           re_entities_separately   \n18  entities_separately               NaN           re_entities_separately   \n19  entities_separately               NaN           re_entities_separately   \n20  entities_separately               NaN           re_entities_separately   \n21  entities_separately               NaN           re_entities_separately   \n22  entities_separately               NaN           re_entities_separately   \n23  entities_separately               NaN           re_entities_separately   \n24  entities_separately               NaN  verifier_re_entities_separately   \n25  entities_separately               NaN  verifier_re_entities_separately   \n26  entities_separately               NaN  verifier_re_entities_separately   \n27  entities_separately               NaN  verifier_re_entities_separately   \n28  entities_separately               NaN  verifier_re_entities_separately   \n29  entities_separately               NaN  verifier_re_entities_separately   \n30  entities_separately               NaN  verifier_re_entities_separately   \n31  entities_separately               NaN  verifier_re_entities_separately   \n\n   experiment              model  \n0          v7      deepseek-chat  \n1          v7      deepseek-chat  \n2          v7      deepseek-chat  \n3          v7      deepseek-chat  \n4          v7  deepseek-reasoner  \n5          v7  deepseek-reasoner  \n6          v7  deepseek-reasoner  \n7          v7  deepseek-reasoner  \n8          v7      deepseek-chat  \n9          v7      deepseek-chat  \n10         v7      deepseek-chat  \n11         v7      deepseek-chat  \n12         v7  deepseek-reasoner  \n13         v7  deepseek-reasoner  \n14         v7  deepseek-reasoner  \n15         v7  deepseek-reasoner  \n16         v7      deepseek-chat  \n17         v7      deepseek-chat  \n18         v7      deepseek-chat  \n19         v7      deepseek-chat  \n20         v7  deepseek-reasoner  \n21         v7  deepseek-reasoner  \n22         v7  deepseek-reasoner  \n23         v7  deepseek-reasoner  \n24         v7      deepseek-chat  \n25         v7      deepseek-chat  \n26         v7      deepseek-chat  \n27         v7      deepseek-chat  \n28         v7  deepseek-reasoner  \n29         v7  deepseek-reasoner  \n30         v7  deepseek-reasoner  \n31         v7  deepseek-reasoner  ",
      "text/html": "<div>\n<style scoped>\n    .dataframe tbody tr th:only-of-type {\n        vertical-align: middle;\n    }\n\n    .dataframe tbody tr th {\n        vertical-align: top;\n    }\n\n    .dataframe thead th {\n        text-align: right;\n    }\n</style>\n<table border=\"1\" class=\"dataframe\">\n  <thead>\n    <tr style=\"text-align: right;\">\n      <th></th>\n      <th>precision</th>\n      <th>recall</th>\n      <th>f1-score</th>\n      <th>metric_type</th>\n      <th>docred_type</th>\n      <th>split</th>\n      <th>ner_model_name</th>\n      <th>prediction_level</th>\n      <th>experiment_type</th>\n      <th>experiment</th>\n      <th>model</th>\n    </tr>\n  </thead>\n  <tbody>\n    <tr>\n      <th>0</th>\n      <td>0.226618</td>\n      <td>0.345825</td>\n      <td>0.273809</td>\n      <td>re</td>\n      <td>docred</td>\n      <td>dev</td>\n      <td>entities_separately</td>\n      <td>NaN</td>\n      <td>re_entities_separately</td>\n      <td>v7</td>\n      <td>deepseek-chat</td>\n    </tr>\n    <tr>\n      <th>1</th>\n      <td>0.129470</td>\n      <td>0.164671</td>\n      <td>0.144964</td>\n      <td>evi</td>\n      <td>docred</td>\n      <td>dev</td>\n      <td>entities_separately</td>\n      <td>NaN</td>\n      <td>re_entities_separately</td>\n      <td>v7</td>\n      <td>deepseek-chat</td>\n    </tr>\n    <tr>\n      <th>2</th>\n      <td>0.211978</td>\n      <td>0.345825</td>\n      <td>0.262843</td>\n      <td>re_ignore_train_annotated (used officially)</td>\n      <td>docred</td>\n      <td>dev</td>\n      <td>entities_separately</td>\n      <td>NaN</td>\n      <td>re_entities_separately</td>\n      <td>v7</td>\n      <td>deepseek-chat</td>\n    </tr>\n    <tr>\n      <th>3</th>\n      <td>0.172786</td>\n      <td>0.345825</td>\n      <td>0.230437</td>\n      <td>re_ignore_train</td>\n      <td>docred</td>\n      <td>dev</td>\n      <td>entities_separately</td>\n      <td>NaN</td>\n      <td>re_entities_separately</td>\n      <td>v7</td>\n      <td>deepseek-chat</td>\n    </tr>\n    <tr>\n      <th>4</th>\n      <td>0.275170</td>\n      <td>0.352912</td>\n      <td>0.309230</td>\n      <td>re</td>\n      <td>docred</td>\n      <td>dev</td>\n      <td>entities_separately</td>\n      <td>NaN</td>\n      <td>re_entities_separately</td>\n      <td>v7</td>\n      <td>deepseek-reasoner</td>\n    </tr>\n    <tr>\n      <th>5</th>\n      <td>0.238081</td>\n      <td>0.199414</td>\n      <td>0.217039</td>\n      <td>evi</td>\n      <td>docred</td>\n      <td>dev</td>\n      <td>entities_separately</td>\n      <td>NaN</td>\n      <td>re_entities_separately</td>\n      <td>v7</td>\n      <td>deepseek-reasoner</td>\n    </tr>\n    <tr>\n      <th>6</th>\n      <td>0.255351</td>\n      <td>0.352912</td>\n      <td>0.296308</td>\n      <td>re_ignore_train_annotated (used officially)</td>\n      <td>docred</td>\n      <td>dev</td>\n      <td>entities_separately</td>\n      <td>NaN</td>\n      <td>re_entities_separately</td>\n      <td>v7</td>\n      <td>deepseek-reasoner</td>\n    </tr>\n    <tr>\n      <th>7</th>\n      <td>0.212111</td>\n      <td>0.352912</td>\n      <td>0.264968</td>\n      <td>re_ignore_train</td>\n      <td>docred</td>\n      <td>dev</td>\n      <td>entities_separately</td>\n      <td>NaN</td>\n      <td>re_entities_separately</td>\n      <td>v7</td>\n      <td>deepseek-reasoner</td>\n    </tr>\n    <tr>\n      <th>8</th>\n      <td>0.470045</td>\n      <td>0.596986</td>\n      <td>0.525964</td>\n      <td>re</td>\n      <td>docred</td>\n      <td>dev</td>\n      <td>entities_separately</td>\n      <td>NaN</td>\n      <td>verifier_re_entities_separately</td>\n      <td>v7</td>\n      <td>deepseek-chat</td>\n    </tr>\n    <tr>\n      <th>9</th>\n      <td>0.430353</td>\n      <td>0.470011</td>\n      <td>0.449308</td>\n      <td>evi</td>\n      <td>docred</td>\n      <td>dev</td>\n      <td>entities_separately</td>\n      <td>NaN</td>\n      <td>verifier_re_entities_separately</td>\n      <td>v7</td>\n      <td>deepseek-chat</td>\n    </tr>\n    <tr>\n      <th>10</th>\n      <td>0.433333</td>\n      <td>0.596986</td>\n      <td>0.502163</td>\n      <td>re_ignore_train_annotated (used officially)</td>\n      <td>docred</td>\n      <td>dev</td>\n      <td>entities_separately</td>\n      <td>NaN</td>\n      <td>verifier_re_entities_separately</td>\n      <td>v7</td>\n      <td>deepseek-chat</td>\n    </tr>\n    <tr>\n      <th>11</th>\n      <td>0.344234</td>\n      <td>0.596986</td>\n      <td>0.436673</td>\n      <td>re_ignore_train</td>\n      <td>docred</td>\n      <td>dev</td>\n      <td>entities_separately</td>\n      <td>NaN</td>\n      <td>verifier_re_entities_separately</td>\n      <td>v7</td>\n      <td>deepseek-chat</td>\n    </tr>\n    <tr>\n      <th>12</th>\n      <td>0.480290</td>\n      <td>0.555845</td>\n      <td>0.515313</td>\n      <td>re</td>\n      <td>docred</td>\n      <td>dev</td>\n      <td>entities_separately</td>\n      <td>NaN</td>\n      <td>verifier_re_entities_separately</td>\n      <td>v7</td>\n      <td>deepseek-reasoner</td>\n    </tr>\n    <tr>\n      <th>13</th>\n      <td>0.453525</td>\n      <td>0.425554</td>\n      <td>0.439094</td>\n      <td>evi</td>\n      <td>docred</td>\n      <td>dev</td>\n      <td>entities_separately</td>\n      <td>NaN</td>\n      <td>verifier_re_entities_separately</td>\n      <td>v7</td>\n      <td>deepseek-reasoner</td>\n    </tr>\n    <tr>\n      <th>14</th>\n      <td>0.444845</td>\n      <td>0.555845</td>\n      <td>0.494189</td>\n      <td>re_ignore_train_annotated (used officially)</td>\n      <td>docred</td>\n      <td>dev</td>\n      <td>entities_separately</td>\n      <td>NaN</td>\n      <td>verifier_re_entities_separately</td>\n      <td>v7</td>\n      <td>deepseek-reasoner</td>\n    </tr>\n    <tr>\n      <th>15</th>\n      <td>0.360059</td>\n      <td>0.555845</td>\n      <td>0.437026</td>\n      <td>re_ignore_train</td>\n      <td>docred</td>\n      <td>dev</td>\n      <td>entities_separately</td>\n      <td>NaN</td>\n      <td>verifier_re_entities_separately</td>\n      <td>v7</td>\n      <td>deepseek-reasoner</td>\n    </tr>\n    <tr>\n      <th>16</th>\n      <td>0.435729</td>\n      <td>0.236245</td>\n      <td>0.306377</td>\n      <td>re</td>\n      <td>redocred</td>\n      <td>test</td>\n      <td>entities_separately</td>\n      <td>NaN</td>\n      <td>re_entities_separately</td>\n      <td>v7</td>\n      <td>deepseek-chat</td>\n    </tr>\n    <tr>\n      <th>17</th>\n      <td>0.144970</td>\n      <td>0.142835</td>\n      <td>0.143895</td>\n      <td>evi</td>\n      <td>redocred</td>\n      <td>test</td>\n      <td>entities_separately</td>\n      <td>NaN</td>\n      <td>re_entities_separately</td>\n      <td>v7</td>\n      <td>deepseek-chat</td>\n    </tr>\n    <tr>\n      <th>18</th>\n      <td>0.420790</td>\n      <td>0.236245</td>\n      <td>0.302600</td>\n      <td>re_ignore_train_annotated (used officially)</td>\n      <td>redocred</td>\n      <td>test</td>\n      <td>entities_separately</td>\n      <td>NaN</td>\n      <td>re_entities_separately</td>\n      <td>v7</td>\n      <td>deepseek-chat</td>\n    </tr>\n    <tr>\n      <th>19</th>\n      <td>0.384101</td>\n      <td>0.236245</td>\n      <td>0.292552</td>\n      <td>re_ignore_train</td>\n      <td>redocred</td>\n      <td>test</td>\n      <td>entities_separately</td>\n      <td>NaN</td>\n      <td>re_entities_separately</td>\n      <td>v7</td>\n      <td>deepseek-chat</td>\n    </tr>\n    <tr>\n      <th>20</th>\n      <td>0.503765</td>\n      <td>0.226215</td>\n      <td>0.312226</td>\n      <td>re</td>\n      <td>redocred</td>\n      <td>test</td>\n      <td>entities_separately</td>\n      <td>NaN</td>\n      <td>re_entities_separately</td>\n      <td>v7</td>\n      <td>deepseek-reasoner</td>\n    </tr>\n    <tr>\n      <th>21</th>\n      <td>0.254993</td>\n      <td>0.163949</td>\n      <td>0.199578</td>\n      <td>evi</td>\n      <td>redocred</td>\n      <td>test</td>\n      <td>entities_separately</td>\n      <td>NaN</td>\n      <td>re_entities_separately</td>\n      <td>v7</td>\n      <td>deepseek-reasoner</td>\n    </tr>\n    <tr>\n      <th>22</th>\n      <td>0.487882</td>\n      <td>0.226215</td>\n      <td>0.309107</td>\n      <td>re_ignore_train_annotated (used officially)</td>\n      <td>redocred</td>\n      <td>test</td>\n      <td>entities_separately</td>\n      <td>NaN</td>\n      <td>re_entities_separately</td>\n      <td>v7</td>\n      <td>deepseek-reasoner</td>\n    </tr>\n    <tr>\n      <th>23</th>\n      <td>0.451931</td>\n      <td>0.226215</td>\n      <td>0.301509</td>\n      <td>re_ignore_train</td>\n      <td>redocred</td>\n      <td>test</td>\n      <td>entities_separately</td>\n      <td>NaN</td>\n      <td>re_entities_separately</td>\n      <td>v7</td>\n      <td>deepseek-reasoner</td>\n    </tr>\n    <tr>\n      <th>24</th>\n      <td>0.690148</td>\n      <td>0.309950</td>\n      <td>0.427780</td>\n      <td>re</td>\n      <td>redocred</td>\n      <td>test</td>\n      <td>entities_separately</td>\n      <td>NaN</td>\n      <td>verifier_re_entities_separately</td>\n      <td>v7</td>\n      <td>deepseek-chat</td>\n    </tr>\n    <tr>\n      <th>25</th>\n      <td>0.427643</td>\n      <td>0.357599</td>\n      <td>0.389497</td>\n      <td>evi</td>\n      <td>redocred</td>\n      <td>test</td>\n      <td>entities_separately</td>\n      <td>NaN</td>\n      <td>verifier_re_entities_separately</td>\n      <td>v7</td>\n      <td>deepseek-chat</td>\n    </tr>\n    <tr>\n      <th>26</th>\n      <td>0.663758</td>\n      <td>0.309950</td>\n      <td>0.422574</td>\n      <td>re_ignore_train_annotated (used officially)</td>\n      <td>redocred</td>\n      <td>test</td>\n      <td>entities_separately</td>\n      <td>NaN</td>\n      <td>verifier_re_entities_separately</td>\n      <td>v7</td>\n      <td>deepseek-chat</td>\n    </tr>\n    <tr>\n      <th>27</th>\n      <td>0.595536</td>\n      <td>0.309950</td>\n      <td>0.407706</td>\n      <td>re_ignore_train</td>\n      <td>redocred</td>\n      <td>test</td>\n      <td>entities_separately</td>\n      <td>NaN</td>\n      <td>verifier_re_entities_separately</td>\n      <td>v7</td>\n      <td>deepseek-chat</td>\n    </tr>\n    <tr>\n      <th>28</th>\n      <td>0.718379</td>\n      <td>0.301754</td>\n      <td>0.424991</td>\n      <td>re</td>\n      <td>redocred</td>\n      <td>test</td>\n      <td>entities_separately</td>\n      <td>NaN</td>\n      <td>verifier_re_entities_separately</td>\n      <td>v7</td>\n      <td>deepseek-reasoner</td>\n    </tr>\n    <tr>\n      <th>29</th>\n      <td>0.450068</td>\n      <td>0.336957</td>\n      <td>0.385385</td>\n      <td>evi</td>\n      <td>redocred</td>\n      <td>test</td>\n      <td>entities_separately</td>\n      <td>NaN</td>\n      <td>verifier_re_entities_separately</td>\n      <td>v7</td>\n      <td>deepseek-reasoner</td>\n    </tr>\n    <tr>\n      <th>30</th>\n      <td>0.694449</td>\n      <td>0.301754</td>\n      <td>0.420703</td>\n      <td>re_ignore_train_annotated (used officially)</td>\n      <td>redocred</td>\n      <td>test</td>\n      <td>entities_separately</td>\n      <td>NaN</td>\n      <td>verifier_re_entities_separately</td>\n      <td>v7</td>\n      <td>deepseek-reasoner</td>\n    </tr>\n    <tr>\n      <th>31</th>\n      <td>0.631889</td>\n      <td>0.301754</td>\n      <td>0.408454</td>\n      <td>re_ignore_train</td>\n      <td>redocred</td>\n      <td>test</td>\n      <td>entities_separately</td>\n      <td>NaN</td>\n      <td>verifier_re_entities_separately</td>\n      <td>v7</td>\n      <td>deepseek-reasoner</td>\n    </tr>\n  </tbody>\n</table>\n</div>"
     },
     "execution_count": 3,
     "metadata": {},
     "output_type": "execute_result"
    }
   ],
   "source": [
    "df"
   ],
   "metadata": {
    "collapsed": false
   }
  },
  {
   "cell_type": "code",
   "execution_count": 4,
   "outputs": [],
   "source": [
    "df = df[df.metric_type == 're']"
   ],
   "metadata": {
    "collapsed": false
   }
  },
  {
   "cell_type": "code",
   "execution_count": 5,
   "outputs": [
    {
     "data": {
      "text/plain": "    precision    recall  f1-score metric_type docred_type split  \\\n0    0.226618  0.345825  0.273809          re      docred   dev   \n4    0.275170  0.352912  0.309230          re      docred   dev   \n8    0.470045  0.596986  0.525964          re      docred   dev   \n12   0.480290  0.555845  0.515313          re      docred   dev   \n16   0.435729  0.236245  0.306377          re    redocred  test   \n20   0.503765  0.226215  0.312226          re    redocred  test   \n24   0.690148  0.309950  0.427780          re    redocred  test   \n28   0.718379  0.301754  0.424991          re    redocred  test   \n\n         ner_model_name  prediction_level                  experiment_type  \\\n0   entities_separately               NaN           re_entities_separately   \n4   entities_separately               NaN           re_entities_separately   \n8   entities_separately               NaN  verifier_re_entities_separately   \n12  entities_separately               NaN  verifier_re_entities_separately   \n16  entities_separately               NaN           re_entities_separately   \n20  entities_separately               NaN           re_entities_separately   \n24  entities_separately               NaN  verifier_re_entities_separately   \n28  entities_separately               NaN  verifier_re_entities_separately   \n\n   experiment              model  \n0          v7      deepseek-chat  \n4          v7  deepseek-reasoner  \n8          v7      deepseek-chat  \n12         v7  deepseek-reasoner  \n16         v7      deepseek-chat  \n20         v7  deepseek-reasoner  \n24         v7      deepseek-chat  \n28         v7  deepseek-reasoner  ",
      "text/html": "<div>\n<style scoped>\n    .dataframe tbody tr th:only-of-type {\n        vertical-align: middle;\n    }\n\n    .dataframe tbody tr th {\n        vertical-align: top;\n    }\n\n    .dataframe thead th {\n        text-align: right;\n    }\n</style>\n<table border=\"1\" class=\"dataframe\">\n  <thead>\n    <tr style=\"text-align: right;\">\n      <th></th>\n      <th>precision</th>\n      <th>recall</th>\n      <th>f1-score</th>\n      <th>metric_type</th>\n      <th>docred_type</th>\n      <th>split</th>\n      <th>ner_model_name</th>\n      <th>prediction_level</th>\n      <th>experiment_type</th>\n      <th>experiment</th>\n      <th>model</th>\n    </tr>\n  </thead>\n  <tbody>\n    <tr>\n      <th>0</th>\n      <td>0.226618</td>\n      <td>0.345825</td>\n      <td>0.273809</td>\n      <td>re</td>\n      <td>docred</td>\n      <td>dev</td>\n      <td>entities_separately</td>\n      <td>NaN</td>\n      <td>re_entities_separately</td>\n      <td>v7</td>\n      <td>deepseek-chat</td>\n    </tr>\n    <tr>\n      <th>4</th>\n      <td>0.275170</td>\n      <td>0.352912</td>\n      <td>0.309230</td>\n      <td>re</td>\n      <td>docred</td>\n      <td>dev</td>\n      <td>entities_separately</td>\n      <td>NaN</td>\n      <td>re_entities_separately</td>\n      <td>v7</td>\n      <td>deepseek-reasoner</td>\n    </tr>\n    <tr>\n      <th>8</th>\n      <td>0.470045</td>\n      <td>0.596986</td>\n      <td>0.525964</td>\n      <td>re</td>\n      <td>docred</td>\n      <td>dev</td>\n      <td>entities_separately</td>\n      <td>NaN</td>\n      <td>verifier_re_entities_separately</td>\n      <td>v7</td>\n      <td>deepseek-chat</td>\n    </tr>\n    <tr>\n      <th>12</th>\n      <td>0.480290</td>\n      <td>0.555845</td>\n      <td>0.515313</td>\n      <td>re</td>\n      <td>docred</td>\n      <td>dev</td>\n      <td>entities_separately</td>\n      <td>NaN</td>\n      <td>verifier_re_entities_separately</td>\n      <td>v7</td>\n      <td>deepseek-reasoner</td>\n    </tr>\n    <tr>\n      <th>16</th>\n      <td>0.435729</td>\n      <td>0.236245</td>\n      <td>0.306377</td>\n      <td>re</td>\n      <td>redocred</td>\n      <td>test</td>\n      <td>entities_separately</td>\n      <td>NaN</td>\n      <td>re_entities_separately</td>\n      <td>v7</td>\n      <td>deepseek-chat</td>\n    </tr>\n    <tr>\n      <th>20</th>\n      <td>0.503765</td>\n      <td>0.226215</td>\n      <td>0.312226</td>\n      <td>re</td>\n      <td>redocred</td>\n      <td>test</td>\n      <td>entities_separately</td>\n      <td>NaN</td>\n      <td>re_entities_separately</td>\n      <td>v7</td>\n      <td>deepseek-reasoner</td>\n    </tr>\n    <tr>\n      <th>24</th>\n      <td>0.690148</td>\n      <td>0.309950</td>\n      <td>0.427780</td>\n      <td>re</td>\n      <td>redocred</td>\n      <td>test</td>\n      <td>entities_separately</td>\n      <td>NaN</td>\n      <td>verifier_re_entities_separately</td>\n      <td>v7</td>\n      <td>deepseek-chat</td>\n    </tr>\n    <tr>\n      <th>28</th>\n      <td>0.718379</td>\n      <td>0.301754</td>\n      <td>0.424991</td>\n      <td>re</td>\n      <td>redocred</td>\n      <td>test</td>\n      <td>entities_separately</td>\n      <td>NaN</td>\n      <td>verifier_re_entities_separately</td>\n      <td>v7</td>\n      <td>deepseek-reasoner</td>\n    </tr>\n  </tbody>\n</table>\n</div>"
     },
     "execution_count": 5,
     "metadata": {},
     "output_type": "execute_result"
    }
   ],
   "source": [
    "df"
   ],
   "metadata": {
    "collapsed": false
   }
  },
  {
   "cell_type": "code",
   "execution_count": 6,
   "outputs": [
    {
     "data": {
      "text/plain": "    precision    recall  f1-score              model  \\\n0    0.226618  0.345825  0.273809      deepseek-chat   \n4    0.275170  0.352912  0.309230  deepseek-reasoner   \n8    0.470045  0.596986  0.525964      deepseek-chat   \n12   0.480290  0.555845  0.515313  deepseek-reasoner   \n16   0.435729  0.236245  0.306377      deepseek-chat   \n20   0.503765  0.226215  0.312226  deepseek-reasoner   \n24   0.690148  0.309950  0.427780      deepseek-chat   \n28   0.718379  0.301754  0.424991  deepseek-reasoner   \n\n                    experiment_type docred_type split  \n0            re_entities_separately      docred   dev  \n4            re_entities_separately      docred   dev  \n8   verifier_re_entities_separately      docred   dev  \n12  verifier_re_entities_separately      docred   dev  \n16           re_entities_separately    redocred  test  \n20           re_entities_separately    redocred  test  \n24  verifier_re_entities_separately    redocred  test  \n28  verifier_re_entities_separately    redocred  test  ",
      "text/html": "<div>\n<style scoped>\n    .dataframe tbody tr th:only-of-type {\n        vertical-align: middle;\n    }\n\n    .dataframe tbody tr th {\n        vertical-align: top;\n    }\n\n    .dataframe thead th {\n        text-align: right;\n    }\n</style>\n<table border=\"1\" class=\"dataframe\">\n  <thead>\n    <tr style=\"text-align: right;\">\n      <th></th>\n      <th>precision</th>\n      <th>recall</th>\n      <th>f1-score</th>\n      <th>model</th>\n      <th>experiment_type</th>\n      <th>docred_type</th>\n      <th>split</th>\n    </tr>\n  </thead>\n  <tbody>\n    <tr>\n      <th>0</th>\n      <td>0.226618</td>\n      <td>0.345825</td>\n      <td>0.273809</td>\n      <td>deepseek-chat</td>\n      <td>re_entities_separately</td>\n      <td>docred</td>\n      <td>dev</td>\n    </tr>\n    <tr>\n      <th>4</th>\n      <td>0.275170</td>\n      <td>0.352912</td>\n      <td>0.309230</td>\n      <td>deepseek-reasoner</td>\n      <td>re_entities_separately</td>\n      <td>docred</td>\n      <td>dev</td>\n    </tr>\n    <tr>\n      <th>8</th>\n      <td>0.470045</td>\n      <td>0.596986</td>\n      <td>0.525964</td>\n      <td>deepseek-chat</td>\n      <td>verifier_re_entities_separately</td>\n      <td>docred</td>\n      <td>dev</td>\n    </tr>\n    <tr>\n      <th>12</th>\n      <td>0.480290</td>\n      <td>0.555845</td>\n      <td>0.515313</td>\n      <td>deepseek-reasoner</td>\n      <td>verifier_re_entities_separately</td>\n      <td>docred</td>\n      <td>dev</td>\n    </tr>\n    <tr>\n      <th>16</th>\n      <td>0.435729</td>\n      <td>0.236245</td>\n      <td>0.306377</td>\n      <td>deepseek-chat</td>\n      <td>re_entities_separately</td>\n      <td>redocred</td>\n      <td>test</td>\n    </tr>\n    <tr>\n      <th>20</th>\n      <td>0.503765</td>\n      <td>0.226215</td>\n      <td>0.312226</td>\n      <td>deepseek-reasoner</td>\n      <td>re_entities_separately</td>\n      <td>redocred</td>\n      <td>test</td>\n    </tr>\n    <tr>\n      <th>24</th>\n      <td>0.690148</td>\n      <td>0.309950</td>\n      <td>0.427780</td>\n      <td>deepseek-chat</td>\n      <td>verifier_re_entities_separately</td>\n      <td>redocred</td>\n      <td>test</td>\n    </tr>\n    <tr>\n      <th>28</th>\n      <td>0.718379</td>\n      <td>0.301754</td>\n      <td>0.424991</td>\n      <td>deepseek-reasoner</td>\n      <td>verifier_re_entities_separately</td>\n      <td>redocred</td>\n      <td>test</td>\n    </tr>\n  </tbody>\n</table>\n</div>"
     },
     "execution_count": 6,
     "metadata": {},
     "output_type": "execute_result"
    }
   ],
   "source": [
    "df = df[['precision', 'recall', 'f1-score', 'model', 'experiment_type', 'docred_type', 'split']]\n",
    "df"
   ],
   "metadata": {
    "collapsed": false
   }
  },
  {
   "cell_type": "code",
   "execution_count": 7,
   "outputs": [],
   "source": [
    "df = df.pivot(columns= ['docred_type', 'split'], index=['experiment_type', 'model'], values=['precision', 'recall', 'f1-score'])*100"
   ],
   "metadata": {
    "collapsed": false
   }
  },
  {
   "cell_type": "code",
   "execution_count": 8,
   "outputs": [],
   "source": [
    "df = df.round(3)"
   ],
   "metadata": {
    "collapsed": false
   }
  },
  {
   "cell_type": "code",
   "execution_count": 9,
   "outputs": [],
   "source": [
    "df = df.reset_index()"
   ],
   "metadata": {
    "collapsed": false
   }
  },
  {
   "cell_type": "code",
   "execution_count": 10,
   "outputs": [
    {
     "data": {
      "text/plain": "MultiIndex([('experiment_type',         '',     ''),\n            (          'model',         '',     ''),\n            (      'precision',   'docred',  'dev'),\n            (      'precision', 'redocred', 'test'),\n            (         'recall',   'docred',  'dev'),\n            (         'recall', 'redocred', 'test'),\n            (       'f1-score',   'docred',  'dev'),\n            (       'f1-score', 'redocred', 'test')],\n           names=[None, 'docred_type', 'split'])"
     },
     "execution_count": 10,
     "metadata": {},
     "output_type": "execute_result"
    }
   ],
   "source": [
    "df.columns"
   ],
   "metadata": {
    "collapsed": false
   }
  },
  {
   "cell_type": "code",
   "execution_count": 11,
   "outputs": [],
   "source": [
    "df.sort_values(by=('f1-score', 'redocred', 'test'), ascending=False, inplace=True)"
   ],
   "metadata": {
    "collapsed": false
   }
  },
  {
   "cell_type": "code",
   "execution_count": 12,
   "outputs": [
    {
     "data": {
      "text/plain": "                             experiment_type              model precision  \\\ndocred_type                                                        docred   \nsplit                                                                 dev   \n2            verifier_re_entities_separately      deepseek-chat    47.004   \n3            verifier_re_entities_separately  deepseek-reasoner    48.029   \n1                     re_entities_separately  deepseek-reasoner    27.517   \n0                     re_entities_separately      deepseek-chat    22.662   \n\n                      recall          f1-score           \ndocred_type redocred  docred redocred   docred redocred  \nsplit           test     dev     test      dev     test  \n2             69.015  59.699   30.995   52.596   42.778  \n3             71.838  55.585   30.175   51.531   42.499  \n1             50.377  35.291   22.622   30.923   31.223  \n0             43.573  34.582   23.624   27.381   30.638  ",
      "text/html": "<div>\n<style scoped>\n    .dataframe tbody tr th:only-of-type {\n        vertical-align: middle;\n    }\n\n    .dataframe tbody tr th {\n        vertical-align: top;\n    }\n\n    .dataframe thead tr th {\n        text-align: left;\n    }\n</style>\n<table border=\"1\" class=\"dataframe\">\n  <thead>\n    <tr>\n      <th></th>\n      <th>experiment_type</th>\n      <th>model</th>\n      <th colspan=\"2\" halign=\"left\">precision</th>\n      <th colspan=\"2\" halign=\"left\">recall</th>\n      <th colspan=\"2\" halign=\"left\">f1-score</th>\n    </tr>\n    <tr>\n      <th>docred_type</th>\n      <th></th>\n      <th></th>\n      <th>docred</th>\n      <th>redocred</th>\n      <th>docred</th>\n      <th>redocred</th>\n      <th>docred</th>\n      <th>redocred</th>\n    </tr>\n    <tr>\n      <th>split</th>\n      <th></th>\n      <th></th>\n      <th>dev</th>\n      <th>test</th>\n      <th>dev</th>\n      <th>test</th>\n      <th>dev</th>\n      <th>test</th>\n    </tr>\n  </thead>\n  <tbody>\n    <tr>\n      <th>2</th>\n      <td>verifier_re_entities_separately</td>\n      <td>deepseek-chat</td>\n      <td>47.004</td>\n      <td>69.015</td>\n      <td>59.699</td>\n      <td>30.995</td>\n      <td>52.596</td>\n      <td>42.778</td>\n    </tr>\n    <tr>\n      <th>3</th>\n      <td>verifier_re_entities_separately</td>\n      <td>deepseek-reasoner</td>\n      <td>48.029</td>\n      <td>71.838</td>\n      <td>55.585</td>\n      <td>30.175</td>\n      <td>51.531</td>\n      <td>42.499</td>\n    </tr>\n    <tr>\n      <th>1</th>\n      <td>re_entities_separately</td>\n      <td>deepseek-reasoner</td>\n      <td>27.517</td>\n      <td>50.377</td>\n      <td>35.291</td>\n      <td>22.622</td>\n      <td>30.923</td>\n      <td>31.223</td>\n    </tr>\n    <tr>\n      <th>0</th>\n      <td>re_entities_separately</td>\n      <td>deepseek-chat</td>\n      <td>22.662</td>\n      <td>43.573</td>\n      <td>34.582</td>\n      <td>23.624</td>\n      <td>27.381</td>\n      <td>30.638</td>\n    </tr>\n  </tbody>\n</table>\n</div>"
     },
     "execution_count": 12,
     "metadata": {},
     "output_type": "execute_result"
    }
   ],
   "source": [
    "df"
   ],
   "metadata": {
    "collapsed": false
   }
  },
  {
   "cell_type": "code",
   "execution_count": 13,
   "outputs": [],
   "source": [
    "df.columns = df.columns.to_flat_index().map('_'.join)"
   ],
   "metadata": {
    "collapsed": false
   }
  },
  {
   "cell_type": "code",
   "execution_count": 14,
   "outputs": [
    {
     "data": {
      "text/plain": "                 experiment_type__            model__  precision_docred_dev  \\\n2  verifier_re_entities_separately      deepseek-chat                47.004   \n3  verifier_re_entities_separately  deepseek-reasoner                48.029   \n1           re_entities_separately  deepseek-reasoner                27.517   \n0           re_entities_separately      deepseek-chat                22.662   \n\n   precision_redocred_test  recall_docred_dev  recall_redocred_test  \\\n2                   69.015             59.699                30.995   \n3                   71.838             55.585                30.175   \n1                   50.377             35.291                22.622   \n0                   43.573             34.582                23.624   \n\n   f1-score_docred_dev  f1-score_redocred_test  \n2               52.596                  42.778  \n3               51.531                  42.499  \n1               30.923                  31.223  \n0               27.381                  30.638  ",
      "text/html": "<div>\n<style scoped>\n    .dataframe tbody tr th:only-of-type {\n        vertical-align: middle;\n    }\n\n    .dataframe tbody tr th {\n        vertical-align: top;\n    }\n\n    .dataframe thead th {\n        text-align: right;\n    }\n</style>\n<table border=\"1\" class=\"dataframe\">\n  <thead>\n    <tr style=\"text-align: right;\">\n      <th></th>\n      <th>experiment_type__</th>\n      <th>model__</th>\n      <th>precision_docred_dev</th>\n      <th>precision_redocred_test</th>\n      <th>recall_docred_dev</th>\n      <th>recall_redocred_test</th>\n      <th>f1-score_docred_dev</th>\n      <th>f1-score_redocred_test</th>\n    </tr>\n  </thead>\n  <tbody>\n    <tr>\n      <th>2</th>\n      <td>verifier_re_entities_separately</td>\n      <td>deepseek-chat</td>\n      <td>47.004</td>\n      <td>69.015</td>\n      <td>59.699</td>\n      <td>30.995</td>\n      <td>52.596</td>\n      <td>42.778</td>\n    </tr>\n    <tr>\n      <th>3</th>\n      <td>verifier_re_entities_separately</td>\n      <td>deepseek-reasoner</td>\n      <td>48.029</td>\n      <td>71.838</td>\n      <td>55.585</td>\n      <td>30.175</td>\n      <td>51.531</td>\n      <td>42.499</td>\n    </tr>\n    <tr>\n      <th>1</th>\n      <td>re_entities_separately</td>\n      <td>deepseek-reasoner</td>\n      <td>27.517</td>\n      <td>50.377</td>\n      <td>35.291</td>\n      <td>22.622</td>\n      <td>30.923</td>\n      <td>31.223</td>\n    </tr>\n    <tr>\n      <th>0</th>\n      <td>re_entities_separately</td>\n      <td>deepseek-chat</td>\n      <td>22.662</td>\n      <td>43.573</td>\n      <td>34.582</td>\n      <td>23.624</td>\n      <td>27.381</td>\n      <td>30.638</td>\n    </tr>\n  </tbody>\n</table>\n</div>"
     },
     "execution_count": 14,
     "metadata": {},
     "output_type": "execute_result"
    }
   ],
   "source": [
    "df"
   ],
   "metadata": {
    "collapsed": false
   }
  },
  {
   "cell_type": "code",
   "execution_count": 15,
   "outputs": [],
   "source": [
    "df.to_csv('overleaf_ready_results_LLMs_API_all_docs_re.csv', index=False)"
   ],
   "metadata": {
    "collapsed": false
   }
  },
  {
   "cell_type": "code",
   "execution_count": null,
   "outputs": [],
   "source": [],
   "metadata": {
    "collapsed": false
   }
  },
  {
   "cell_type": "code",
   "execution_count": 70,
   "outputs": [],
   "source": [
    "# Full evaluation v7 and verifier v7"
   ],
   "metadata": {
    "collapsed": false
   }
  },
  {
   "cell_type": "code",
   "execution_count": 100,
   "outputs": [],
   "source": [
    "df = pd.read_csv('../results_LLMs_API_v7_both_full_sets.csv')"
   ],
   "metadata": {
    "collapsed": false
   }
  }
 ],
 "metadata": {
  "kernelspec": {
   "display_name": "Python 3",
   "language": "python",
   "name": "python3"
  },
  "language_info": {
   "codemirror_mode": {
    "name": "ipython",
    "version": 2
   },
   "file_extension": ".py",
   "mimetype": "text/x-python",
   "name": "python",
   "nbconvert_exporter": "python",
   "pygments_lexer": "ipython2",
   "version": "2.7.6"
  }
 },
 "nbformat": 4,
 "nbformat_minor": 0
}
