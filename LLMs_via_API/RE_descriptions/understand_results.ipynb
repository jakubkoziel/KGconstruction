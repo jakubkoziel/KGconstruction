{
 "cells": [
  {
   "cell_type": "code",
   "execution_count": 131,
   "metadata": {
    "collapsed": true
   },
   "outputs": [],
   "source": [
    "import copy\n",
    "import json\n",
    "import os"
   ]
  },
  {
   "cell_type": "code",
   "execution_count": 132,
   "outputs": [],
   "source": [
    "with open('rel_info.json', 'r') as f:\n",
    "    rel_info = json.load(f)\n",
    "with open(os.path.join('..', 'evaluations', 'NERs_ready_for_eval', 'dev_true_separately.json'), 'r') as f:\n",
    "    dev_true = json.load(f)\n",
    "with open(os.path.join('dev_true_separately', 'v6', 'deepseek-reasoner', 'doc_0.json'), 'r') as f:\n",
    "    pred = json.load(f)\n"
   ],
   "metadata": {
    "collapsed": false
   }
  },
  {
   "cell_type": "code",
   "execution_count": 133,
   "outputs": [],
   "source": [
    "document = copy.deepcopy(dev_true[0])\n",
    "for i in range(len(document['vertexSet'])):\n",
    "    entity = document['vertexSet'][i][0]\n",
    "    document['sents'][entity['sent_id']][entity['pos'][0]] = '<<' + str(i) + '>>' + \\\n",
    "                                                             document['sents'][entity['sent_id']][entity['pos'][0]]\n",
    "    document['sents'][entity['sent_id']][entity['pos'][1] - 1] = document['sents'][entity['sent_id']][\n",
    "                                                                     entity['pos'][1] - 1] + '<<' + str(i) + '>>'\n",
    "\n",
    "concatenated_sents = []\n",
    "for i in range(len(document['sents'])):\n",
    "    concatenated_sents.append(' '.join(document['sents'][i]))\n"
   ],
   "metadata": {
    "collapsed": false
   }
  },
  {
   "cell_type": "code",
   "execution_count": 134,
   "outputs": [
    {
     "name": "stdout",
     "output_type": "stream",
     "text": [
      "['<<1>>Skai TV<<1>> is a <<3>>Greek<<3>> free - to - air television network based in <<4>>Piraeus<<4>> .', 'It is part of the <<5>>Skai Group<<5>> , one of the largest media groups in the country .', 'It was relaunched in its present form on <<6>>1st of April 2006<<6>> in the <<7>>Athens<<7>> metropolitan area , and gradually spread its coverage nationwide .', 'Besides digital terrestrial transmission , it is available on the subscription - based encrypted services of <<8>>Nova<<8>> and <<9>>Cosmote TV<<9>> .', '<<0>>Skai TV<<0>> is also a member of <<10>>Digea<<10>> , a consortium of private television networks introducing digital terrestrial transmission in <<11>>Greece<<11>> .', 'At launch , <<2>>Skai TV<<2>> opted for dubbing all foreign language content into <<13>>Greek<<13>> , instead of using subtitles .', \"This is very uncommon in <<12>>Greece<<12>> for anything except documentaries ( using voiceover dubbing ) and children 's programmes ( using lip - synced dubbing ) , so after intense criticism the station switched to using subtitles for almost all foreign shows .\"]\n"
     ]
    },
    {
     "data": {
      "text/plain": "[{'h_idx': 0, 't_idx': 10, 'r': 'member of', 'evidence': [4]},\n {'h_idx': 1, 't_idx': 4, 'r': 'headquarters location', 'evidence': [0]},\n {'h_idx': 1, 't_idx': 5, 'r': 'part of', 'evidence': [1]},\n {'h_idx': 1, 't_idx': 6, 'r': 'inception', 'evidence': [2]},\n {'h_idx': 1,\n  't_idx': 7,\n  'r': 'located in the administrative territorial entity',\n  'evidence': [2]},\n {'h_idx': 1, 't_idx': 8, 'r': 'platform', 'evidence': [3]},\n {'h_idx': 1, 't_idx': 9, 'r': 'platform', 'evidence': [3]},\n {'h_idx': 10, 't_idx': 11, 'r': 'applies to jurisdiction', 'evidence': [4]}]"
     },
     "execution_count": 134,
     "metadata": {},
     "output_type": "execute_result"
    }
   ],
   "source": [
    "updated = []\n",
    "for p in pred:\n",
    "    updated.append({\n",
    "        'h_idx': p['h_idx'],\n",
    "        't_idx': p['t_idx'],\n",
    "        'r': rel_info[p['r']],\n",
    "        'evidence': p['evidence'],\n",
    "    })\n",
    "print(concatenated_sents)\n",
    "updated\n"
   ],
   "metadata": {
    "collapsed": false
   }
  },
  {
   "cell_type": "code",
   "execution_count": 135,
   "outputs": [
    {
     "data": {
      "text/plain": "{'P6': 'head of government',\n 'P17': 'country',\n 'P19': 'place of birth',\n 'P20': 'place of death',\n 'P22': 'father',\n 'P25': 'mother',\n 'P26': 'spouse',\n 'P27': 'country of citizenship',\n 'P30': 'continent',\n 'P31': 'instance of',\n 'P35': 'head of state',\n 'P36': 'capital',\n 'P37': 'official language',\n 'P39': 'position held',\n 'P40': 'child',\n 'P50': 'author',\n 'P54': 'member of sports team',\n 'P57': 'director',\n 'P58': 'screenwriter',\n 'P69': 'educated at',\n 'P86': 'composer',\n 'P102': 'member of political party',\n 'P108': 'employer',\n 'P112': 'founded by',\n 'P118': 'league',\n 'P123': 'publisher',\n 'P127': 'owned by',\n 'P131': 'located in the administrative territorial entity',\n 'P136': 'genre',\n 'P137': 'operator',\n 'P140': 'religion',\n 'P150': 'contains administrative territorial entity',\n 'P155': 'follows',\n 'P156': 'followed by',\n 'P159': 'headquarters location',\n 'P161': 'cast member',\n 'P162': 'producer',\n 'P166': 'award received',\n 'P170': 'creator',\n 'P171': 'parent taxon',\n 'P172': 'ethnic group',\n 'P175': 'performer',\n 'P176': 'manufacturer',\n 'P178': 'developer',\n 'P179': 'series',\n 'P190': 'sister city',\n 'P194': 'legislative body',\n 'P205': 'basin country',\n 'P206': 'located in or next to body of water',\n 'P241': 'military branch',\n 'P264': 'record label',\n 'P272': 'production company',\n 'P276': 'location',\n 'P279': 'subclass of',\n 'P355': 'subsidiary',\n 'P361': 'part of',\n 'P364': 'original language of work',\n 'P400': 'platform',\n 'P403': 'mouth of the watercourse',\n 'P449': 'original network',\n 'P463': 'member of',\n 'P488': 'chairperson',\n 'P495': 'country of origin',\n 'P527': 'has part',\n 'P551': 'residence',\n 'P569': 'date of birth',\n 'P570': 'date of death',\n 'P571': 'inception',\n 'P576': 'dissolved, abolished or demolished',\n 'P577': 'publication date',\n 'P580': 'start time',\n 'P582': 'end time',\n 'P585': 'point in time',\n 'P607': 'conflict',\n 'P674': 'characters',\n 'P676': 'lyrics by',\n 'P706': 'located on terrain feature',\n 'P710': 'participant',\n 'P737': 'influenced by',\n 'P740': 'location of formation',\n 'P749': 'parent organization',\n 'P800': 'notable work',\n 'P807': 'separated from',\n 'P840': 'narrative location',\n 'P937': 'work location',\n 'P1001': 'applies to jurisdiction',\n 'P1056': 'product or material produced',\n 'P1198': 'unemployment rate',\n 'P1336': 'territory claimed by',\n 'P1344': 'participant of',\n 'P1365': 'replaces',\n 'P1366': 'replaced by',\n 'P1376': 'capital of',\n 'P1412': 'languages spoken, written or signed',\n 'P1441': 'present in work',\n 'P3373': 'sibling'}"
     },
     "execution_count": 135,
     "metadata": {},
     "output_type": "execute_result"
    }
   ],
   "source": [
    "rel_info"
   ],
   "metadata": {
    "collapsed": false
   }
  },
  {
   "cell_type": "code",
   "execution_count": 136,
   "outputs": [],
   "source": [
    "with open(os.path.join('..', 'evaluations', 'NERs_ready_for_eval', 'dev_true.json'), 'r') as f:\n",
    "    dev_combined = json.load(f)"
   ],
   "metadata": {
    "collapsed": false
   }
  },
  {
   "cell_type": "code",
   "execution_count": 137,
   "outputs": [],
   "source": [
    "document = copy.deepcopy(dev_combined[0])\n",
    "for i in range(len(document['vertexSet'])):\n",
    "    for j in range(len(document['vertexSet'][i])):\n",
    "\n",
    "        entity = document['vertexSet'][i][j]\n",
    "        document['sents'][entity['sent_id']][entity['pos'][0]] = '<<' + str(i) + '>>' + \\\n",
    "                                                                 document['sents'][entity['sent_id']][entity['pos'][0]]\n",
    "        document['sents'][entity['sent_id']][entity['pos'][1] - 1] = document['sents'][entity['sent_id']][\n",
    "                                                                         entity['pos'][1] - 1] + '<<' + str(i) + '>>'\n",
    "\n",
    "concatenated_sents = []\n",
    "for i in range(len(document['sents'])):\n",
    "    concatenated_sents.append(' '.join(document['sents'][i]))"
   ],
   "metadata": {
    "collapsed": false
   }
  },
  {
   "cell_type": "code",
   "execution_count": 138,
   "outputs": [
    {
     "name": "stdout",
     "output_type": "stream",
     "text": [
      "['<<0>>Skai TV<<0>> is a <<1>>Greek<<1>> free - to - air television network based in <<2>>Piraeus<<2>> .', 'It is part of the <<3>>Skai Group<<3>> , one of the largest media groups in the country .', 'It was relaunched in its present form on <<4>>1st of April 2006<<4>> in the <<5>>Athens<<5>> metropolitan area , and gradually spread its coverage nationwide .', 'Besides digital terrestrial transmission , it is available on the subscription - based encrypted services of <<6>>Nova<<6>> and <<7>>Cosmote TV<<7>> .', '<<0>>Skai TV<<0>> is also a member of <<8>>Digea<<8>> , a consortium of private television networks introducing digital terrestrial transmission in <<9>>Greece<<9>> .', 'At launch , <<0>>Skai TV<<0>> opted for dubbing all foreign language content into <<10>>Greek<<10>> , instead of using subtitles .', \"This is very uncommon in <<9>>Greece<<9>> for anything except documentaries ( using voiceover dubbing ) and children 's programmes ( using lip - synced dubbing ) , so after intense criticism the station switched to using subtitles for almost all foreign shows .\"]\n"
     ]
    },
    {
     "data": {
      "text/plain": "[{'h_idx': 2, 't_idx': 9, 'r': 'country', 'evidence': [0, 4]},\n {'h_idx': 3, 't_idx': 9, 'r': 'country', 'evidence': [0, 1, 4]},\n {'h_idx': 5, 't_idx': 9, 'r': 'country', 'evidence': [0, 2, 4]},\n {'h_idx': 0, 't_idx': 2, 'r': 'headquarters location', 'evidence': [0]},\n {'h_idx': 0, 't_idx': 3, 'r': 'owned by', 'evidence': [0, 1]},\n {'h_idx': 0, 't_idx': 5, 'r': 'headquarters location', 'evidence': [0, 2]},\n {'h_idx': 0, 't_idx': 9, 'r': 'country', 'evidence': [0, 4, 5, 6]}]"
     },
     "execution_count": 138,
     "metadata": {},
     "output_type": "execute_result"
    }
   ],
   "source": [
    "updated = []\n",
    "for p in dev_combined[0]['labels']:\n",
    "    updated.append({\n",
    "        'h_idx': p['h'],\n",
    "        't_idx': p['t'],\n",
    "        'r': rel_info[p['r']],\n",
    "        'evidence': p['evidence'],\n",
    "    })\n",
    "print(concatenated_sents)\n",
    "updated"
   ],
   "metadata": {
    "collapsed": false
   }
  },
  {
   "cell_type": "code",
   "execution_count": 41,
   "outputs": [],
   "source": [
    "import pandas as pd"
   ],
   "metadata": {
    "collapsed": false
   }
  },
  {
   "cell_type": "code",
   "execution_count": 42,
   "outputs": [],
   "source": [
    "df = pd.read_csv('relations_more_info.csv')"
   ],
   "metadata": {
    "collapsed": false
   }
  },
  {
   "cell_type": "code",
   "execution_count": 47,
   "outputs": [
    {
     "data": {
      "text/plain": "                               property              propertyLabel  \\\n0   http://www.wikidata.org/entity/P102  member of political party   \n1   http://www.wikidata.org/entity/P108                   employer   \n2   http://www.wikidata.org/entity/P112                 founded by   \n3   http://www.wikidata.org/entity/P118      league or competition   \n4   http://www.wikidata.org/entity/P123                  publisher   \n..                                  ...                        ...   \n91  http://www.wikidata.org/entity/P749        parent organization   \n92  http://www.wikidata.org/entity/P800               notable work   \n93  http://www.wikidata.org/entity/P807             separated from   \n94  http://www.wikidata.org/entity/P840         narrative location   \n95  http://www.wikidata.org/entity/P937              work location   \n\n                                              aliases  \\\n0   political party, party, member of, member of p...   \n1   organization, organisation, employed by, worke...   \n2   begun by, establisher, instituted by, institut...   \n3   division, sports league, competition, tourname...   \n4   publishing house, video game publisher, comic ...   \n..                                                ...   \n91  holding company, holding, chapter of, has orga...   \n92  work, artwork, bibliography, founder of, creat...   \n93  branched from, broke from, forked from, schism...   \n94  set in, setting, narrative set in, playing in,...   \n95  conducts business at, conducts business in, pl...   \n\n                                          description  \n0   the political party of which a person is or ha...  \n1   person or organization for which the subject w...  \n2   founder or co-founder of this organization, re...  \n3   league or competition in which team or player ...  \n4   organization or person responsible for publish...  \n..                                                ...  \n91  parent organization of an organization, opposi...  \n92  notable scientific, artistic or literary work,...  \n93  subject was founded or started by separating f...  \n94  the narrative of the work is set in this location  \n95  location where persons or organisations were a...  \n\n[96 rows x 4 columns]",
      "text/html": "<div>\n<style scoped>\n    .dataframe tbody tr th:only-of-type {\n        vertical-align: middle;\n    }\n\n    .dataframe tbody tr th {\n        vertical-align: top;\n    }\n\n    .dataframe thead th {\n        text-align: right;\n    }\n</style>\n<table border=\"1\" class=\"dataframe\">\n  <thead>\n    <tr style=\"text-align: right;\">\n      <th></th>\n      <th>property</th>\n      <th>propertyLabel</th>\n      <th>aliases</th>\n      <th>description</th>\n    </tr>\n  </thead>\n  <tbody>\n    <tr>\n      <th>0</th>\n      <td>http://www.wikidata.org/entity/P102</td>\n      <td>member of political party</td>\n      <td>political party, party, member of, member of p...</td>\n      <td>the political party of which a person is or ha...</td>\n    </tr>\n    <tr>\n      <th>1</th>\n      <td>http://www.wikidata.org/entity/P108</td>\n      <td>employer</td>\n      <td>organization, organisation, employed by, worke...</td>\n      <td>person or organization for which the subject w...</td>\n    </tr>\n    <tr>\n      <th>2</th>\n      <td>http://www.wikidata.org/entity/P112</td>\n      <td>founded by</td>\n      <td>begun by, establisher, instituted by, institut...</td>\n      <td>founder or co-founder of this organization, re...</td>\n    </tr>\n    <tr>\n      <th>3</th>\n      <td>http://www.wikidata.org/entity/P118</td>\n      <td>league or competition</td>\n      <td>division, sports league, competition, tourname...</td>\n      <td>league or competition in which team or player ...</td>\n    </tr>\n    <tr>\n      <th>4</th>\n      <td>http://www.wikidata.org/entity/P123</td>\n      <td>publisher</td>\n      <td>publishing house, video game publisher, comic ...</td>\n      <td>organization or person responsible for publish...</td>\n    </tr>\n    <tr>\n      <th>...</th>\n      <td>...</td>\n      <td>...</td>\n      <td>...</td>\n      <td>...</td>\n    </tr>\n    <tr>\n      <th>91</th>\n      <td>http://www.wikidata.org/entity/P749</td>\n      <td>parent organization</td>\n      <td>holding company, holding, chapter of, has orga...</td>\n      <td>parent organization of an organization, opposi...</td>\n    </tr>\n    <tr>\n      <th>92</th>\n      <td>http://www.wikidata.org/entity/P800</td>\n      <td>notable work</td>\n      <td>work, artwork, bibliography, founder of, creat...</td>\n      <td>notable scientific, artistic or literary work,...</td>\n    </tr>\n    <tr>\n      <th>93</th>\n      <td>http://www.wikidata.org/entity/P807</td>\n      <td>separated from</td>\n      <td>branched from, broke from, forked from, schism...</td>\n      <td>subject was founded or started by separating f...</td>\n    </tr>\n    <tr>\n      <th>94</th>\n      <td>http://www.wikidata.org/entity/P840</td>\n      <td>narrative location</td>\n      <td>set in, setting, narrative set in, playing in,...</td>\n      <td>the narrative of the work is set in this location</td>\n    </tr>\n    <tr>\n      <th>95</th>\n      <td>http://www.wikidata.org/entity/P937</td>\n      <td>work location</td>\n      <td>conducts business at, conducts business in, pl...</td>\n      <td>location where persons or organisations were a...</td>\n    </tr>\n  </tbody>\n</table>\n<p>96 rows × 4 columns</p>\n</div>"
     },
     "execution_count": 47,
     "metadata": {},
     "output_type": "execute_result"
    }
   ],
   "source": [
    "df[['property', 'propertyLabel', 'aliases', 'description']]"
   ],
   "metadata": {
    "collapsed": false
   }
  },
  {
   "cell_type": "code",
   "execution_count": 49,
   "outputs": [],
   "source": [
    "df.property = df.property.apply(lambda x: x.split('/')[-1])"
   ],
   "metadata": {
    "collapsed": false
   }
  },
  {
   "cell_type": "code",
   "execution_count": 52,
   "outputs": [],
   "source": [
    "df[['property', 'propertyLabel', 'aliases', 'description']].to_csv('selected_columns_relations.csv', index=False)"
   ],
   "metadata": {
    "collapsed": false
   }
  },
  {
   "cell_type": "code",
   "execution_count": 113,
   "outputs": [
    {
     "data": {
      "text/plain": "   property   propertyLabel  \\\n65     P355  has subsidiary   \n\n                                              aliases  \\\n65  subordinate unit, subsidiary, subsidiary body,...   \n\n                             dataTypeLabel  \\\n65  http://wikiba.se/ontology#WikibaseItem   \n\n                                          constraints  domains  ranges  \\\n65  value-type constraint, subject type constraint...      NaN     NaN   \n\n    exampleEntities relatedProperties  externalIdentifiers  \\\n65              NaN               NaN                  NaN   \n\n                hierarchy                                        description  \n65  has part(s), owner of  subsidiary of a company or organization; gener...  ",
      "text/html": "<div>\n<style scoped>\n    .dataframe tbody tr th:only-of-type {\n        vertical-align: middle;\n    }\n\n    .dataframe tbody tr th {\n        vertical-align: top;\n    }\n\n    .dataframe thead th {\n        text-align: right;\n    }\n</style>\n<table border=\"1\" class=\"dataframe\">\n  <thead>\n    <tr style=\"text-align: right;\">\n      <th></th>\n      <th>property</th>\n      <th>propertyLabel</th>\n      <th>aliases</th>\n      <th>dataTypeLabel</th>\n      <th>constraints</th>\n      <th>domains</th>\n      <th>ranges</th>\n      <th>exampleEntities</th>\n      <th>relatedProperties</th>\n      <th>externalIdentifiers</th>\n      <th>hierarchy</th>\n      <th>description</th>\n    </tr>\n  </thead>\n  <tbody>\n    <tr>\n      <th>65</th>\n      <td>P355</td>\n      <td>has subsidiary</td>\n      <td>subordinate unit, subsidiary, subsidiary body,...</td>\n      <td>http://wikiba.se/ontology#WikibaseItem</td>\n      <td>value-type constraint, subject type constraint...</td>\n      <td>NaN</td>\n      <td>NaN</td>\n      <td>NaN</td>\n      <td>NaN</td>\n      <td>NaN</td>\n      <td>has part(s), owner of</td>\n      <td>subsidiary of a company or organization; gener...</td>\n    </tr>\n  </tbody>\n</table>\n</div>"
     },
     "execution_count": 113,
     "metadata": {},
     "output_type": "execute_result"
    }
   ],
   "source": [
    "df[df.property == 'P'+'355']"
   ],
   "metadata": {
    "collapsed": false
   }
  },
  {
   "cell_type": "code",
   "execution_count": 114,
   "outputs": [],
   "source": [
    "df2 = pd.read_csv('selected_columns_relations.csv')"
   ],
   "metadata": {
    "collapsed": false
   }
  },
  {
   "cell_type": "code",
   "execution_count": 115,
   "outputs": [
    {
     "data": {
      "text/plain": "   property              propertyLabel  \\\n0      P102  member of political party   \n1      P108                   employer   \n2      P112                 founded by   \n3      P118      league or competition   \n4      P123                  publisher   \n..      ...                        ...   \n91     P749        parent organization   \n92     P800               notable work   \n93     P807             separated from   \n94     P840         narrative location   \n95     P937              work location   \n\n                                              aliases  \\\n0   political party, party, member of, member of p...   \n1   organization, organisation, employed by, worke...   \n2   begun by, establisher, instituted by, institut...   \n3   division, sports league, competition, tourname...   \n4   publishing house, video game publisher, comic ...   \n..                                                ...   \n91  holding company, holding, chapter of, has orga...   \n92  work, artwork, bibliography, founder of, creat...   \n93  branched from, broke from, forked from, schism...   \n94  set in, setting, narrative set in, playing in,...   \n95  conducts business at, conducts business in, pl...   \n\n                                          description  \n0   the political party of which a person is or ha...  \n1   person or organization for which the subject w...  \n2   founder or co-founder of this organization, re...  \n3   league or competition in which team or player ...  \n4   organization or person responsible for publish...  \n..                                                ...  \n91  parent organization of an organization, opposi...  \n92  notable scientific, artistic or literary work,...  \n93  subject was founded or started by separating f...  \n94  the narrative of the work is set in this location  \n95  location where persons or organisations were a...  \n\n[96 rows x 4 columns]",
      "text/html": "<div>\n<style scoped>\n    .dataframe tbody tr th:only-of-type {\n        vertical-align: middle;\n    }\n\n    .dataframe tbody tr th {\n        vertical-align: top;\n    }\n\n    .dataframe thead th {\n        text-align: right;\n    }\n</style>\n<table border=\"1\" class=\"dataframe\">\n  <thead>\n    <tr style=\"text-align: right;\">\n      <th></th>\n      <th>property</th>\n      <th>propertyLabel</th>\n      <th>aliases</th>\n      <th>description</th>\n    </tr>\n  </thead>\n  <tbody>\n    <tr>\n      <th>0</th>\n      <td>P102</td>\n      <td>member of political party</td>\n      <td>political party, party, member of, member of p...</td>\n      <td>the political party of which a person is or ha...</td>\n    </tr>\n    <tr>\n      <th>1</th>\n      <td>P108</td>\n      <td>employer</td>\n      <td>organization, organisation, employed by, worke...</td>\n      <td>person or organization for which the subject w...</td>\n    </tr>\n    <tr>\n      <th>2</th>\n      <td>P112</td>\n      <td>founded by</td>\n      <td>begun by, establisher, instituted by, institut...</td>\n      <td>founder or co-founder of this organization, re...</td>\n    </tr>\n    <tr>\n      <th>3</th>\n      <td>P118</td>\n      <td>league or competition</td>\n      <td>division, sports league, competition, tourname...</td>\n      <td>league or competition in which team or player ...</td>\n    </tr>\n    <tr>\n      <th>4</th>\n      <td>P123</td>\n      <td>publisher</td>\n      <td>publishing house, video game publisher, comic ...</td>\n      <td>organization or person responsible for publish...</td>\n    </tr>\n    <tr>\n      <th>...</th>\n      <td>...</td>\n      <td>...</td>\n      <td>...</td>\n      <td>...</td>\n    </tr>\n    <tr>\n      <th>91</th>\n      <td>P749</td>\n      <td>parent organization</td>\n      <td>holding company, holding, chapter of, has orga...</td>\n      <td>parent organization of an organization, opposi...</td>\n    </tr>\n    <tr>\n      <th>92</th>\n      <td>P800</td>\n      <td>notable work</td>\n      <td>work, artwork, bibliography, founder of, creat...</td>\n      <td>notable scientific, artistic or literary work,...</td>\n    </tr>\n    <tr>\n      <th>93</th>\n      <td>P807</td>\n      <td>separated from</td>\n      <td>branched from, broke from, forked from, schism...</td>\n      <td>subject was founded or started by separating f...</td>\n    </tr>\n    <tr>\n      <th>94</th>\n      <td>P840</td>\n      <td>narrative location</td>\n      <td>set in, setting, narrative set in, playing in,...</td>\n      <td>the narrative of the work is set in this location</td>\n    </tr>\n    <tr>\n      <th>95</th>\n      <td>P937</td>\n      <td>work location</td>\n      <td>conducts business at, conducts business in, pl...</td>\n      <td>location where persons or organisations were a...</td>\n    </tr>\n  </tbody>\n</table>\n<p>96 rows × 4 columns</p>\n</div>"
     },
     "execution_count": 115,
     "metadata": {},
     "output_type": "execute_result"
    }
   ],
   "source": [
    "df2"
   ],
   "metadata": {
    "collapsed": false
   }
  },
  {
   "cell_type": "code",
   "execution_count": 117,
   "outputs": [
    {
     "name": "stdout",
     "output_type": "stream",
     "text": [
      "P118 league or competition\n",
      "league\n",
      "P140 religion or worldview\n",
      "religion\n",
      "P150 contains the administrative territorial entity\n",
      "contains administrative territorial entity\n",
      "P179 part of the series\n",
      "series\n",
      "P190 twinned administrative body\n",
      "sister city\n",
      "P1344 participant in\n",
      "participant of\n",
      "P355 has subsidiary\n",
      "subsidiary\n",
      "P364 original language of film or TV show\n",
      "original language of work\n",
      "P449 original broadcaster\n",
      "original network\n",
      "P527 has part(s)\n",
      "has part\n",
      "P576 dissolved, abolished or demolished date\n",
      "dissolved, abolished or demolished\n",
      "P676 lyricist\n",
      "lyrics by\n",
      "P706 located in/on physical feature\n",
      "located on terrain feature\n"
     ]
    }
   ],
   "source": [
    "for i, row in df2.iterrows():\n",
    "    if row['propertyLabel'] != rel_info[row['property']]:\n",
    "        print(row['property'], row['propertyLabel'])\n",
    "        print(rel_info[row['property']])"
   ],
   "metadata": {
    "collapsed": false
   }
  },
  {
   "cell_type": "code",
   "execution_count": 120,
   "outputs": [],
   "source": [
    "# For existing dataframe:\n",
    "property_dict = (\n",
    "    df2.set_index('property')\n",
    "    .rename(columns={'property label': 'propertyLabel'})\n",
    "    .to_dict(orient='index')\n",
    ")\n",
    "\n",
    "# Optional: Convert string aliases to lists\n",
    "if True:\n",
    "    for prop in property_dict:\n",
    "        if isinstance(property_dict[prop]['aliases'], str):\n",
    "            property_dict[prop]['aliases'] = [a.strip() for a in property_dict[prop]['aliases'].split(',')]"
   ],
   "metadata": {
    "collapsed": false
   }
  },
  {
   "cell_type": "code",
   "execution_count": 121,
   "outputs": [
    {
     "data": {
      "text/plain": "{'P102': {'propertyLabel': 'member of political party',\n  'aliases': ['political party',\n   'party',\n   'member of',\n   'member of party',\n   'party membership',\n   'political party member'],\n  'description': 'the political party of which a person is or has been a member or otherwise affiliated'},\n 'P108': {'propertyLabel': 'employer',\n  'aliases': ['organization',\n   'organisation',\n   'employed by',\n   'worked at',\n   'worked for',\n   'working at',\n   'working for',\n   'working place',\n   'works at',\n   'works for',\n   'of employer'],\n  'description': 'person or organization for which the subject works or worked'},\n 'P112': {'propertyLabel': 'founded by',\n  'aliases': ['begun by',\n   'establisher',\n   'instituted by',\n   'institutor',\n   'creator',\n   'founder',\n   'created by',\n   'established by',\n   'co-founder',\n   'starter',\n   'donated by',\n   'cofounder',\n   'co-founded by',\n   'cofounded by',\n   'founders',\n   'started by'],\n  'description': 'founder or co-founder of this organization, religion, place or entity'},\n 'P118': {'propertyLabel': 'league or competition',\n  'aliases': ['division', 'sports league', 'competition', 'tournament', 'cup'],\n  'description': 'league or competition in which team or player has played, or in which an event occurs'},\n 'P123': {'propertyLabel': 'publisher',\n  'aliases': ['publishing house',\n   'video game publisher',\n   'comic book publisher',\n   'comic publisher',\n   'book publisher',\n   'board game publisher',\n   'music publisher',\n   'software publisher',\n   'sheet music publisher',\n   'printed music publisher',\n   'published by'],\n  'description': 'organization or person responsible for publishing books, periodicals, printed music, podcasts, games or software'},\n 'P127': {'propertyLabel': 'owned by',\n  'aliases': ['proprietor',\n   'provenance',\n   'owner',\n   'shareholder',\n   'stockholder',\n   'belonged to',\n   'belongs to',\n   'is owned by',\n   'owners',\n   'shareholders',\n   'stockholders'],\n  'description': 'owner of the subject'},\n 'P131': {'propertyLabel': 'located in the administrative territorial entity',\n  'aliases': ['town',\n   'city',\n   'locality',\n   'region',\n   'administrative territorial entity',\n   'state',\n   'territory',\n   'located in the territorial entity',\n   'location (administrative territorial entity)',\n   'administrative territory',\n   'happens in',\n   'in',\n   'in administrative unit',\n   'in the administrative unit',\n   'Indian reservation',\n   'is in administrative unit',\n   'is in the administrative region of',\n   'is in the administrative unit',\n   'is in the arrondissement of',\n   'is in the borough of',\n   'is in the city of',\n   'is in the commune of',\n   'is in the county of',\n   'is in the department of',\n   'is in the district of',\n   'is in the Indian reservation of',\n   'is in the Indian reserve of',\n   'is in the local government area of',\n   'is in the municipality of',\n   'is in the parish of',\n   'is in the prefecture of',\n   'is in the principal area of',\n   'is in the province of',\n   'is in the region of',\n   'is in the rural city of',\n   'is in the settlement of',\n   'is in the shire of',\n   'is in the state of',\n   'is in the territory of',\n   'is in the town of',\n   'is in the village of',\n   'is in the voivodeship of',\n   'is in the ward of',\n   'is located in',\n   'located in administrative unit',\n   'located in the administrative unit'],\n  'description': 'the item is located on the territory of the following administrative entity. Use (P276 location) for specifying locations that are non-administrative places and for items about events.'},\n 'P136': {'propertyLabel': 'genre',\n  'aliases': ['music genre',\n   'literary genre',\n   'film genre',\n   'genre of music',\n   'genre of literature',\n   'art style',\n   'genres',\n   'kind of music',\n   'type of film',\n   'artistic genre',\n   'type of music'],\n  'description': \"creative work's genre or an artist's field of work.\"},\n 'P137': {'propertyLabel': 'operator',\n  'aliases': ['manager',\n   'administrator',\n   'user',\n   'managed by',\n   'provided by',\n   'facility operator',\n   'item operator',\n   'maintainer',\n   'operated by',\n   'run by',\n   'service operator',\n   'webmaster',\n   'website operator',\n   'service provider',\n   'offered by',\n   'in use by',\n   'controlled by'],\n  'description': 'person, profession, organization or entity that operates the equipment, facility, or service'},\n 'P140': {'propertyLabel': 'religion or worldview',\n  'aliases': ['follower of religion',\n   'follows religion',\n   'has religion',\n   'life stance',\n   'religion or world view',\n   'religious affiliation',\n   'believes',\n   'devotee of',\n   'religion',\n   'belief system',\n   'faith',\n   'worldview',\n   'pantheon',\n   'denomination'],\n  'description': 'religion of a person, organization or religious building, or associated with this subject'},\n 'P150': {'propertyLabel': 'contains the administrative territorial entity',\n  'aliases': ['divided into',\n   'contains',\n   'contains administrative territorial entity',\n   'has shires',\n   'has states',\n   'has towns',\n   'has villages',\n   'has wards',\n   'includes the administrative territorial entity',\n   'subdivided into',\n   'divides into',\n   'has administrative divisions',\n   'has arrondissements',\n   'has boroughs',\n   'has cities',\n   'has counties',\n   'has countries',\n   'has districts',\n   'has local government areas',\n   'has members',\n   'has municipalities',\n   'has regions',\n   'has rural cities'],\n  'description': '(list of) direct subdivisions of an administrative territorial entity'},\n 'P155': {'propertyLabel': 'follows',\n  'aliases': ['split from',\n   'predecessor',\n   'preceded by',\n   'succeeds',\n   'before was',\n   'comes after',\n   'is after',\n   'prequel is',\n   'prev',\n   'previous element',\n   'previous is',\n   'sequel of',\n   'succeeds to',\n   'successor to'],\n  'description': 'immediately prior item in a series of which the subject is a part, preferably use as qualifier of (P179 part of the series) [if the subject has replaced the preceding item, e.g. political offices, use (P1365 replaces)]'},\n 'P156': {'propertyLabel': 'followed by',\n  'aliases': ['prequel of',\n   'sequel is',\n   'then',\n   'succeeded by',\n   'successor',\n   'comes before',\n   'continued as',\n   'next',\n   'next element',\n   'next is',\n   'precedes'],\n  'description': 'immediately following item in a series of which the subject is a part, preferably use as qualifier of (P179 part of the series) [if the subject has been replaced, e.g. political offices, use (P1366 replaced by)]'},\n 'P159': {'propertyLabel': 'headquarters location',\n  'aliases': ['seat',\n   'HQ',\n   'based in',\n   'headquarters',\n   'garrison',\n   'admin HQ',\n   'head office location',\n   'head quarters',\n   'HQ location',\n   'location of headquarters',\n   'principal office',\n   'headquarters city',\n   'headquarters locality',\n   'headquarters town'],\n  'description': \"city or town where an organization's headquarters is or has been situated. Use (P276 location) qualifier for specific building\"},\n 'P161': {'propertyLabel': 'cast member',\n  'aliases': ['actor',\n   'actress',\n   'feat.',\n   'contestant of a play',\n   'film starring',\n   'starring',\n   'starring (film/play)'],\n  'description': 'actor in the subject production'},\n 'P162': {'propertyLabel': 'producer',\n  'aliases': ['musical producer',\n   'film producer',\n   'record producer',\n   'music producer',\n   'produced by',\n   'creative producer'],\n  'description': 'person(s) who produced the film, musical work, theatrical production, etc. (for film, this does not include executive producers, associate producers, etc.) [for production company, use (P272 production company), video games - use (P178 developer)]'},\n 'P166': {'propertyLabel': 'award received',\n  'aliases': ['award won',\n   'awarded',\n   'awards received',\n   'honorary title',\n   'honors',\n   'honours',\n   'medals',\n   'prize awarded',\n   'prize received',\n   'recognition title',\n   'win',\n   'winner of',\n   'award',\n   'awards',\n   'received award'],\n  'description': 'award or recognition received by a person, organization or creative work'},\n 'P17': {'propertyLabel': 'country',\n  'aliases': ['state', 'land', 'host country', 'sovereign state'],\n  'description': 'sovereign state that this item is in (not to be used for human beings)'},\n 'P170': {'propertyLabel': 'creator',\n  'aliases': ['painter',\n   'sculptor',\n   'visual artist',\n   'painted by',\n   'realised by',\n   'realized by',\n   'sculpted by',\n   'original author',\n   'created by',\n   'by',\n   'drawer',\n   'made by',\n   'artwork by',\n   'art by',\n   'art work by',\n   'artist (non-musical)',\n   'drawn by'],\n  'description': 'maker of this creative work or other object (where no more specific property exists)'},\n 'P171': {'propertyLabel': 'parent taxon',\n  'aliases': ['higher taxon', 'taxon parent'],\n  'description': 'closest parent taxon of the taxon in question'},\n 'P172': {'propertyLabel': 'ethnic group',\n  'aliases': ['people',\n   'race',\n   'ethnicity',\n   'culture',\n   '(cultural) nationality',\n   'ethnic or cultural origin',\n   'tribal affiliation'],\n  'description': \"subject's ethnicity (consensus is that a VERY high standard of proof is needed for this field to be used. In general this means 1) the subject claims it themselves, or 2) it is widely agreed on by scholars, or 3) is fictional and portrayed as such)\"},\n 'P175': {'propertyLabel': 'performer',\n  'aliases': ['singer',\n   'actor',\n   'actress',\n   'artist',\n   'musician',\n   'dancer',\n   'musical artist',\n   'performed by',\n   'played by',\n   'portrayed by',\n   'recorded by',\n   'recording by',\n   'sung by'],\n  'description': 'actor, musician, band or other performer associated with this role or musical work'},\n 'P176': {'propertyLabel': 'manufacturer',\n  'aliases': ['maker',\n   'built by',\n   'mfr',\n   'assembled by',\n   'manufactured by',\n   'product of',\n   'brewer',\n   'producer',\n   'builder',\n   'assembler',\n   'made by',\n   'produced by',\n   'provided by',\n   'provider',\n   'brewed by'],\n  'description': '(main or final) manufacturer or producer of this product'},\n 'P178': {'propertyLabel': 'developer',\n  'aliases': ['video game developer',\n   'created by',\n   'dev',\n   'developed by',\n   'game dev',\n   'game developer',\n   'video game dev',\n   'written by'],\n  'description': 'organization or person that developed the item'},\n 'P179': {'propertyLabel': 'part of the series',\n  'aliases': ['video game series',\n   'collection',\n   'series',\n   'subseries',\n   'in series',\n   'episode of',\n   'issue of',\n   'listed in',\n   'part of series'],\n  'description': 'series which contains the subject'},\n 'P19': {'propertyLabel': 'place of birth',\n  'aliases': ['birth location',\n   'birth place',\n   'birthplace',\n   'location of birth',\n   'POB',\n   'birth city',\n   'born',\n   'born at',\n   'born in',\n   'location born'],\n  'description': 'most specific known birth location of a person, animal or fictional character'},\n 'P190': {'propertyLabel': 'twinned administrative body',\n  'aliases': ['twin town',\n   'partner city',\n   'partner town',\n   'sister city',\n   'sister town',\n   'twin cities',\n   'twin city'],\n  'description': 'twin towns, sister cities, twinned municipalities and other localities that have a partnership or cooperative agreement, either legally or informally acknowledged by their governments'},\n 'P194': {'propertyLabel': 'legislative body',\n  'aliases': ['District',\n   'parliament',\n   'Zila',\n   'local government area',\n   'assembly',\n   'district council',\n   'diet',\n   'city council',\n   'LGA',\n   'council',\n   'Tehsil',\n   'Jila',\n   'municipal council',\n   'rural council',\n   'aboriginal council',\n   'indigenous council',\n   'representative body'],\n  'description': 'legislative body governing this entity; political institution with elected representatives, such as a parliament/legislature or council'},\n 'P20': {'propertyLabel': 'place of death',\n  'aliases': ['POD',\n   'died',\n   'deathplace',\n   'location of death',\n   'death location',\n   'death place',\n   'died in',\n   'killed in'],\n  'description': 'most specific known (e.g. city instead of country, or hospital instead of city) death location of a person, animal or fictional character'},\n 'P205': {'propertyLabel': 'basin country',\n  'aliases': ['basin countries'],\n  'description': 'country that have drainage to/from or border the body of water'},\n 'P206': {'propertyLabel': 'located in or next to body of water',\n  'aliases': ['on shore of',\n   'on the coast of',\n   'on the shore of',\n   'water next to the subject',\n   'lake',\n   'bay',\n   'body of water',\n   'sea',\n   'adjacent water body',\n   'along river',\n   'borders body of water',\n   'in body of water',\n   'loc (water)',\n   'located in water',\n   'located next to body of water',\n   'located on body of water',\n   'located on water',\n   'next to lake',\n   'ocean',\n   'on bay',\n   'on coast of',\n   'on harbour',\n   'on lake',\n   'on river'],\n  'description': 'body of water on or next to which a place is located'},\n 'P22': {'propertyLabel': 'father',\n  'aliases': ['child of',\n   'dad',\n   'daddy',\n   'daughter of',\n   'has father',\n   'is child of',\n   'is daughter of',\n   'is son of',\n   'parent',\n   'son of'],\n  'description': 'male parent of the subject.'},\n 'P241': {'propertyLabel': 'military branch',\n  'aliases': ['formation', 'branch', 'service branch', 'unit branch'],\n  'description': 'branch to which this military unit, award, office, or person belongs, e.g. Royal Navy'},\n 'P25': {'propertyLabel': 'mother',\n  'aliases': ['mom',\n   'mommy',\n   'mum',\n   'mummy',\n   'child of',\n   'daughter of',\n   'is child of',\n   'is daughter of',\n   'is son of',\n   'parent',\n   'son of',\n   'mam',\n   'has mother'],\n  'description': 'female parent of the subject.'},\n 'P26': {'propertyLabel': 'spouse',\n  'aliases': ['husband',\n   'husbands',\n   'marital partner',\n   'marriage partner',\n   'married',\n   'marry',\n   'spouses',\n   'wed',\n   'wedded to',\n   'wife',\n   'wives',\n   'partner',\n   'married partner',\n   'married to',\n   'common-law spouse',\n   'common-law wife',\n   'common-law husband'],\n  'description': 'the subject has the object as their spouse (husband, wife, partner, etc.).'},\n 'P27': {'propertyLabel': 'country of citizenship',\n  'aliases': ['(legal) nationality',\n   'citizen of',\n   'nation of citizenship',\n   'national of',\n   'subject of (country)',\n   'nation',\n   'country',\n   'nationality',\n   'citizenship'],\n  'description': 'the object is a country that recognizes the subject as its citizen'},\n 'P30': {'propertyLabel': 'continent',\n  'aliases': nan,\n  'description': 'continent of which the subject is a part'},\n 'P31': {'propertyLabel': 'instance of',\n  'aliases': ['has type',\n   'is of type',\n   'item of type',\n   'example of',\n   'is an',\n   'unique individual of',\n   'unitary element of class',\n   'type',\n   'is a'],\n  'description': 'type to which this subject corresponds/belongs. Different from (P279 subclass of); for example: K2 is an instance of mountain; volcanoes form a subclass of mountains, and the volcano is a type (instance) of volcanic landform'},\n 'P35': {'propertyLabel': 'head of state',\n  'aliases': ['state headed by',\n   'chief of state',\n   'leader',\n   'president',\n   'emperor',\n   'queen',\n   'monarch',\n   'king',\n   'governor'],\n  'description': 'official with the highest formal authority in a country/state'},\n 'P36': {'propertyLabel': 'capital',\n  'aliases': ['seat',\n   'chef-lieu',\n   'seat of government',\n   'administrative seat',\n   'county town',\n   'county seat',\n   'administrative capital',\n   'administrative center',\n   'administrative centre',\n   'administrative headquarters',\n   'capital city',\n   'capital town',\n   'court residence',\n   'government capital',\n   'government seat',\n   'has capital',\n   'location of capital',\n   'principal place'],\n  'description': 'seat of government of a country, province, state or other type of administrative territorial entity'},\n 'P37': {'propertyLabel': 'official language',\n  'aliases': ['speaking', 'language official', 'language spoken', 'spoken in'],\n  'description': 'language designated as official by this item'},\n 'P39': {'propertyLabel': 'position held',\n  'aliases': ['function',\n   'held position',\n   'holds position',\n   'job',\n   'office held',\n   'political office held',\n   'political seat',\n   'position occupied',\n   'public office'],\n  'description': 'subject currently or formerly holds the object position or public office'},\n 'P40': {'propertyLabel': 'child',\n  'aliases': ['son',\n   'descendants',\n   'has child',\n   'has children',\n   'has daughter',\n   'has daughters',\n   'has kid',\n   'has kids',\n   'has son',\n   'has sons',\n   'kid',\n   'kids',\n   'parent of',\n   'progeny',\n   'issue',\n   'children',\n   'daughter',\n   'daughters',\n   'offspring',\n   'sons',\n   'father of',\n   'mother of'],\n  'description': 'subject has object as child.'},\n 'P50': {'propertyLabel': 'author',\n  'aliases': ['maker',\n   'writer',\n   'poet',\n   'playwright',\n   'creator',\n   'written by',\n   'co-author'],\n  'description': 'main creator(s) of a written work (use on works, not humans);'},\n 'P54': {'propertyLabel': 'member of sports team',\n  'aliases': ['club played for',\n   'member of team',\n   'of team',\n   'part of team',\n   'played for',\n   'plays for',\n   'team played for',\n   'teams played for',\n   'sport team',\n   'team',\n   'player of'],\n  'description': 'sports teams or clubs that the subject represents or represented'},\n 'P57': {'propertyLabel': 'director',\n  'aliases': ['directed by',\n   'game director',\n   'film director',\n   'movie director'],\n  'description': 'director(s) of film, TV-series, stageplay, video game or similar'},\n 'P58': {'propertyLabel': 'screenwriter',\n  'aliases': ['scriptwriter',\n   'video game writer',\n   'game writer',\n   'written by',\n   'scenarist',\n   'film script by',\n   'screenplay by',\n   'story by',\n   'teleplay by',\n   'writer (of screenplays)',\n   'writing credits'],\n  'description': 'person(s) who wrote the script for subject item'},\n 'P6': {'propertyLabel': 'head of government',\n  'aliases': ['executive power headed by',\n   'government headed by',\n   'head of national government',\n   'president',\n   'chancellor',\n   'mayor',\n   'governor',\n   'prime minister',\n   'premier',\n   'first minister'],\n  'description': 'head of the executive power of this town, city, municipality, state, country, or other governmental body'},\n 'P69': {'propertyLabel': 'educated at',\n  'aliases': ['went to school at',\n   'faculty',\n   'education',\n   'student of',\n   'alma mater',\n   'attended',\n   'student at',\n   'University attended',\n   'alumna of',\n   'alumni of',\n   'alumnus of',\n   'attended school at',\n   'college attended',\n   'education place',\n   'graduate of',\n   'graduated from',\n   'place of education',\n   'school attended',\n   'schooled at',\n   'schooling place',\n   'studied at'],\n  'description': 'educational institution attended by subject'},\n 'P86': {'propertyLabel': 'composer',\n  'aliases': ['composed by',\n   'film score by',\n   'music by',\n   'musical score by',\n   'songwriter',\n   'written by'],\n  'description': 'person(s) who wrote the music [for lyricist, use (P676 lyricist)]'},\n 'P1001': {'propertyLabel': 'applies to jurisdiction',\n  'aliases': ['applies to place',\n   'of',\n   'jurisdiction',\n   'applicable area',\n   'applicable country',\n   'applicable geographic place',\n   'applicable jurisdiction',\n   'applicable location',\n   'applicable place',\n   'applicable territorial jurisdiction',\n   'applied to jurisdiction',\n   'applies to area',\n   'applies to geographic area',\n   'applies to geographic place',\n   'applies to region',\n   'applies to territorial jurisdiction',\n   'belongs to jurisdiction',\n   'country of jurisdiction',\n   'of jurisdiction',\n   'valid in jurisdiction',\n   'jurisdiction linked',\n   'Of country',\n   'of location',\n   'of place',\n   'of region'],\n  'description': 'the item (institution, law, public office, public register, etc) or statement belongs to or has power over or applies to the value (a territorial jurisdiction: a country, state, municipality, etc)'},\n 'P1056': {'propertyLabel': 'product or material produced',\n  'aliases': ['output',\n   'product',\n   'commodity',\n   'manufactures',\n   'produces',\n   'producer of',\n   'service provided',\n   'provides service',\n   'product or service provided',\n   'product',\n   'material',\n   'or service produced or provided',\n   'creates',\n   'has product',\n   'maker of',\n   'makes',\n   'manufacturer of',\n   'material produced',\n   'produced material',\n   'produced product',\n   'products',\n   'results in',\n   'they make',\n   'work produced'],\n  'description': 'material or product produced by an organization, industry, facility, or process'},\n 'P1198': {'propertyLabel': 'unemployment rate',\n  'aliases': nan,\n  'description': 'portion of a workforce population that is not employed'},\n 'P1336': {'propertyLabel': 'territory claimed by',\n  'aliases': ['claimed by', 'sovereignty claimed by', 'territorial claim by'],\n  'description': 'administrative divisions that claim control of a given area'},\n 'P1344': {'propertyLabel': 'participant in',\n  'aliases': ['attended',\n   'competed in',\n   'competes in',\n   'participant of',\n   'participant of event',\n   'participated in',\n   'present at',\n   'takes part',\n   'took part',\n   'took part in'],\n  'description': 'event in which a person or organization was/is a participant; inverse of (P710 participant)'},\n 'P1365': {'propertyLabel': 'replaces',\n  'aliases': ['continues',\n   'continues from',\n   'deprecates',\n   'forefather',\n   'preceded by',\n   'previous job holder',\n   'replaced',\n   'succeeds',\n   'supersedes',\n   'absorbed',\n   'absorbs'],\n  'description': 'person, state or item replaced. Use (P155 follows) if the previous item was not replaced or predecessor and successor are identical'},\n 'P1366': {'propertyLabel': 'replaced by',\n  'aliases': ['continued by',\n   'heir',\n   'mediatised to',\n   'next job holder',\n   'succeeded by',\n   'successor',\n   'superseded by',\n   'becomes'],\n  'description': 'other person or item which continues the item by replacing it in its role. Use (P156 followed by) if the item is not replaced nor identical, but adds to the series (e.g. books in a series).'},\n 'P1376': {'propertyLabel': 'capital of',\n  'aliases': ['state capital',\n   'capital',\n   'national capital',\n   'administrative seat of',\n   'county seat for',\n   'county seat of',\n   'is capital of',\n   'parish seat of',\n   'seat of',\n   'national capital of',\n   'provincial capital of',\n   'state capital of'],\n  'description': 'country, state, department, canton or other administrative division of which the municipality is the governmental seat'},\n 'P1412': {'propertyLabel': 'languages spoken, written or signed',\n  'aliases': ['used language',\n   'language used',\n   'uses language',\n   'language spoken',\n   'language written',\n   'language of expression',\n   'language read',\n   'language signed',\n   'language(s) spoken',\n   'written or signed',\n   'languages of expression',\n   'languages signed',\n   'languages spoken',\n   'languages spoken',\n   'written',\n   'or signed',\n   'signed language',\n   'signs language',\n   'speaks language',\n   'spoke language',\n   'writes language',\n   'wrote language',\n   'language'],\n  'description': 'language(s) that a person or a people speaks, writes or signs, including the native language(s)'},\n 'P1441': {'propertyLabel': 'present in work',\n  'aliases': ['character in',\n   'from narrative',\n   'appeared in',\n   'appears in',\n   'appears in work',\n   'featured in work',\n   'from work',\n   'in narrative',\n   'in work',\n   'is shown in'],\n  'description': 'this (fictional or fictionalized) entity, place, or person appears in that work as part of the narration [use (P361 part of) for works being part of other works]'},\n 'P264': {'propertyLabel': 'record label',\n  'aliases': ['label', 'labels'],\n  'description': 'brand and trademark associated with the marketing of subject music recordings and music videos'},\n 'P272': {'propertyLabel': 'production company',\n  'aliases': ['film studio',\n   'theatre company',\n   'ballet company',\n   'theatrical troupe',\n   'theater company',\n   'studio',\n   'motion picture studio',\n   'movie studio',\n   'broadcasting company',\n   'produced by (company)',\n   'producer (company)',\n   'production house'],\n  'description': 'company that produced this film, audio or performing arts work'},\n 'P276': {'propertyLabel': 'location',\n  'aliases': ['place held',\n   'whereabouts',\n   'held by',\n   'vilage',\n   'town',\n   'city',\n   'neighborhood',\n   'locality',\n   'region',\n   'venue',\n   'place',\n   'based in',\n   'in',\n   'from',\n   'suburb',\n   'neighbourhood',\n   'locale',\n   'is in',\n   'located',\n   'located in',\n   'location of item',\n   'moveable object location'],\n  'description': 'location of the object, structure or event. In the case of an administrative entity as containing item use (P131 located in the administrative territorial entity). In the case of a geographic entity use (P706 located in/on physical feature).'},\n 'P279': {'propertyLabel': 'subclass of',\n  'aliases': ['all members of this class also belong to',\n   'category of',\n   'form of',\n   'has superclass',\n   'is a class of',\n   'is a type of',\n   'is necessarily also a',\n   'is thereby also a',\n   'rdfs:subClassOf',\n   'subcategory of',\n   'subtype of',\n   'type of',\n   'way of',\n   'whose instances are a subset of those of',\n   'whose instances are among',\n   'kind of',\n   'sort of',\n   'sc (abbreviation)',\n   'variant of',\n   'subgenre of'],\n  'description': 'this item is a subclass (subset) of that item; ALL instances of this item are instances of that item; different from (P31 instance of), e.g.: volcano is a subclass of mountain (and an instance of volcanic landform); Everest is an instance of mountain'},\n 'P3373': {'propertyLabel': 'sibling',\n  'aliases': ['sister',\n   'brother of',\n   'sister of',\n   'has brother',\n   'has sibling',\n   'has sister',\n   'is brother of',\n   'is sibling of',\n   'is sister of',\n   'is the brother of',\n   'is the sibling of',\n   'is the sister of',\n   'sibling of',\n   'sis',\n   'sister or brother',\n   'sisters and brothers',\n   'twin',\n   'brothers',\n   'siblings',\n   'sisters',\n   'brother or sister',\n   'brothers and sisters',\n   'brother',\n   'sib',\n   'half-brother',\n   'half-sibling',\n   'half-sister',\n   'bro'],\n  'description': 'the subject and the object have at least one common parent (brother, sister, etc. including half-siblings)'},\n 'P355': {'propertyLabel': 'has subsidiary',\n  'aliases': ['subordinate unit',\n   'subsidiary',\n   'subsidiary body',\n   'subsidiary company',\n   'subsidiary entities',\n   'subsidiary organization',\n   'imprint',\n   'daughter company',\n   'daughter organization',\n   'has imprint',\n   'owns',\n   'parent company of',\n   'subordinate body'],\n  'description': 'subsidiary of a company or organization; generally a fully owned separate corporation. Opposite of (P749 parent organization).'},\n 'P361': {'propertyLabel': 'part of',\n  'aliases': ['in',\n   'chain',\n   'of',\n   'assembly of',\n   'branch of',\n   'collateral branch of',\n   'component of',\n   'element of',\n   'is part of',\n   'meronym of',\n   'part of-property',\n   'section of',\n   'subassembly of',\n   'subgroup of',\n   'subsystem of',\n   'system of',\n   'contained in',\n   'contained within',\n   'within'],\n  'description': 'object of which the subject is a part [if this subject is already part of object A which is a part of object B, then please only make the subject part of object A), inverse property of (P527 has part(s))]'},\n 'P364': {'propertyLabel': 'original language of film or TV show',\n  'aliases': ['original language',\n   'created on language',\n   'language of the original work',\n   'media language'],\n  'description': 'language in which a film or a performance work was originally created.'},\n 'P400': {'propertyLabel': 'platform',\n  'aliases': ['platforms',\n   'environment',\n   'game platform',\n   'hardware',\n   'computing platform',\n   'runtime',\n   'published on'],\n  'description': 'platform for which a work was developed or released, or the specific platform version of a software product'},\n 'P403': {'propertyLabel': 'mouth of the watercourse',\n  'aliases': ['flows into',\n   'watercourse drain',\n   'watercourse ends in',\n   'watercourse outflow',\n   'tributary of',\n   'outflow',\n   'drain',\n   'outlet',\n   'river mouth'],\n  'description': 'the body of water to which the watercourse drains'},\n 'P449': {'propertyLabel': 'original broadcaster',\n  'aliases': ['television channel',\n   'radio station',\n   'TV channel',\n   'channel',\n   'radio network',\n   'network',\n   'aired on',\n   'airs on',\n   'broadcast on',\n   'first air channel',\n   'original air channel',\n   'original channel',\n   'original network'],\n  'description': 'network(s) or service(s) that originally broadcast a radio or television program'},\n 'P463': {'propertyLabel': 'member of',\n  'aliases': ['band member of',\n   'in musical group',\n   'member of musical group',\n   'membership',\n   'of organization'],\n  'description': 'organization, club or musical group to which the subject belongs. Do not use for membership in ethnic or social groups, nor for holding a political position, such as a member of parliament - use (P39 position held) for that'},\n 'P488': {'propertyLabel': 'chairperson',\n  'aliases': ['chair',\n   'leader',\n   'president',\n   'chairman',\n   'chairwoman',\n   'dean',\n   'headed by'],\n  'description': 'presiding member of an organization, group or body'},\n 'P495': {'propertyLabel': 'country of origin',\n  'aliases': ['comes from',\n   'originates from',\n   'country',\n   'place of origin',\n   'CoO',\n   'origin country'],\n  'description': 'country of origin of this item (creative work, food, phrase, product, etc.)'},\n 'P527': {'propertyLabel': 'has part(s)',\n  'aliases': ['has branch',\n   'has component',\n   'has ingredients',\n   'has part or parts',\n   'has parts',\n   'have part',\n   'holonym of',\n   'includes',\n   'includes part',\n   'incorporates',\n   'parts',\n   'set of',\n   'comprised of',\n   'has part',\n   'has member',\n   'contains',\n   'has ingredient',\n   'contain',\n   'formed from',\n   'formed out of',\n   'ingredients',\n   'amalgamation of',\n   'assembled from',\n   'assembled out of',\n   'composed of',\n   'consists of',\n   'created from',\n   'created out of',\n   'divided by',\n   'had part',\n   'has as part',\n   'made up of'],\n  'description': 'part of this subject; inverse property of (P361 part of).'},\n 'P551': {'propertyLabel': 'residence',\n  'aliases': ['lives in',\n   'address',\n   'has resided in',\n   'home town',\n   'hometown',\n   'lived in',\n   'place of residence',\n   'resided at',\n   'resided in',\n   'resident in',\n   'resident of',\n   'home city',\n   'living in',\n   'residing in'],\n  'description': 'the place where the person is or has been, resident'},\n 'P569': {'propertyLabel': 'date of birth',\n  'aliases': ['born',\n   'DOB',\n   'birth date',\n   'birth year',\n   'birthdate',\n   'birthyear',\n   'born on',\n   'year of birth'],\n  'description': 'date on which the subject was born'},\n 'P570': {'propertyLabel': 'date of death',\n  'aliases': ['DOD',\n   'died',\n   'dead',\n   'death',\n   'death date',\n   'died on',\n   'year of death',\n   'date of the end',\n   'deathdate'],\n  'description': 'date on which the subject died'},\n 'P571': {'propertyLabel': 'inception',\n  'aliases': ['broke ground',\n   'built',\n   'commenced on date',\n   'commencement date',\n   'composed',\n   'constructed',\n   'construction date',\n   'created in',\n   'created in year',\n   'created on',\n   'created on date',\n   'creation date',\n   'creation year',\n   'date commenced',\n   'date constructed',\n   'date created',\n   'date first created',\n   'date formed',\n   'date founded',\n   'date of commencement',\n   'date of creation',\n   'date of foundation',\n   'date of foundation or creation',\n   'date of inception',\n   'date of origin',\n   'day of inception',\n   'dedication date',\n   'established on date',\n   'first created on',\n   'formation date',\n   'formed at',\n   'formed in year',\n   'formed on',\n   'formed on date',\n   'foundation\\u202f/\\u2009creation date',\n   'foundation date',\n   'founded',\n   'founded on',\n   'founded on date',\n   'inception date',\n   'initiated',\n   'instantiation date',\n   'made in year',\n   'made on',\n   'time of foundation or creation',\n   'time of inception',\n   'written on date',\n   'year commenced',\n   'year created',\n   'year established',\n   'year founded',\n   'year of creation',\n   'year of inception',\n   'year written',\n   'foundation',\n   'formation',\n   'introduction',\n   'formed in',\n   'founded in',\n   'established',\n   'date of establishment',\n   'date of founding',\n   'establishment date',\n   'founding date',\n   'introduced',\n   'start date',\n   'created',\n   'first issue',\n   'completed',\n   'launch date',\n   'starting date',\n   'installated in',\n   'installated on',\n   'installation date',\n   'initial release date'],\n  'description': 'time when an entity begins to exist.'},\n 'P576': {'propertyLabel': 'dissolved, abolished or demolished date',\n  'aliases': ['dissolved',\n   'end date',\n   'defunct',\n   'ended',\n   'ceased date',\n   'date of demolition',\n   'date of dissolution',\n   'closed on',\n   'closure date',\n   'folded',\n   'abolished',\n   'abolishment date',\n   'ceased on',\n   'ceased publication',\n   'ceased to exist',\n   'cessation date',\n   'date disbanded',\n   'date disestablished',\n   'date dissolved',\n   'date of cessation',\n   'date of termination',\n   'defunct date',\n   'demise date',\n   'demolished',\n   'demolition date',\n   'destroyed in',\n   'disbanded',\n   'disbanded on',\n   'disestablished',\n   'dissolution date',\n   'dissolved on date',\n   'dissolved or abolished',\n   'dissolved',\n   'abolished',\n   'or demolished',\n   'final issue',\n   'final year',\n   'last issue',\n   'publication end date',\n   'publication terminal date',\n   'razed in',\n   'terminal date',\n   'terminal issue',\n   'terminated on',\n   'termination date',\n   'time abolished',\n   'time dissolved',\n   'time of abolishment',\n   'time of dissolution',\n   'wound up on date',\n   'date repealed',\n   'repealed date'],\n  'description': 'point in time at which the subject (organisation, building) ceased to exist.'},\n 'P577': {'propertyLabel': 'publication date',\n  'aliases': ['was published in',\n   'year of publication',\n   'initial release',\n   'released in',\n   'date released',\n   'released',\n   'release date',\n   'launch date',\n   'launched',\n   'date of publication',\n   'air date',\n   'airdate',\n   'be published during',\n   'be published in',\n   'broadcast date',\n   'date of first publication',\n   'date of release',\n   'date published',\n   'first publication',\n   'first published',\n   'first released',\n   'pubdate',\n   'publication time',\n   'time of publication',\n   'was published during',\n   'publication',\n   'dop',\n   'published',\n   'issued',\n   'drop date'],\n  'description': 'date or point in time when a work was first published or released'},\n 'P580': {'propertyLabel': 'start time',\n  'aliases': ['introduction',\n   'from',\n   'effective',\n   'validity',\n   'began',\n   'beginning',\n   'building date',\n   'from date',\n   'from time',\n   'introduced',\n   'join date',\n   'join time',\n   'joined',\n   'since',\n   'start date',\n   'started in',\n   'starting',\n   'starttime',\n   'valid',\n   'effectivity'],\n  'description': 'time an entity begins to exist or a statement starts being valid'},\n 'P582': {'propertyLabel': 'end time',\n  'aliases': ['cease date',\n   'cease operation',\n   'cease time',\n   'closed',\n   'completed in',\n   'dissolved',\n   'divorced',\n   'end date',\n   'enddate',\n   'ends',\n   'endtime',\n   'fall date',\n   'left office',\n   'stop time',\n   'till',\n   'until',\n   'discontinued',\n   'ineffective',\n   'abolished',\n   'to',\n   'invalid',\n   'ending',\n   'invalidity',\n   'ineffectivity'],\n  'description': 'moment when an entity ceases to exist and a statement stops being entirely valid or no longer be true'},\n 'P585': {'propertyLabel': 'point in time',\n  'aliases': ['year',\n   'date',\n   'time',\n   'on',\n   'when',\n   'during',\n   'as of',\n   'at time',\n   'by date',\n   'occurred on',\n   'time of event',\n   'point time'],\n  'description': 'date something took place, existed or a statement was true'},\n 'P607': {'propertyLabel': 'conflict',\n  'aliases': ['in action',\n   'in conflict',\n   'participant in conflict',\n   'participated in conflict',\n   'theater (military)',\n   'theatre (military)',\n   'battle',\n   'war',\n   'military conflict',\n   'military engagement',\n   'engagement'],\n  'description': 'battles, wars or other military engagements in which the person or item participated'},\n 'P674': {'propertyLabel': 'characters',\n  'aliases': ['appears in this work'],\n  'description': 'characters which appear in this item (like plays, operas, operettas, books, comics, films, TV series, video games)'},\n 'P676': {'propertyLabel': 'lyricist',\n  'aliases': ['lyrics by',\n   'text author',\n   'text by',\n   'text poet',\n   'text writer',\n   'words by',\n   'writer (of song lyrics)',\n   'author',\n   'songwriter'],\n  'description': 'author of song lyrics'},\n 'P706': {'propertyLabel': 'located in/on physical feature',\n  'aliases': ['loc (terr)',\n   'located on island',\n   'located on landform',\n   'located on physical feature',\n   'located on terrain feature',\n   'located on the terrain feature',\n   'location (terrain feature)',\n   'on geographical feature',\n   'on natural feature',\n   'situated on the island of',\n   'landform',\n   'geographical region',\n   'is on',\n   'takes place in',\n   'on',\n   'terrain feature',\n   'is in'],\n  'description': 'located on the specified (geo)physical feature. Should not be used when the value is only political/administrative (P131 located in the administrative territorial entity).'},\n 'P710': {'propertyLabel': 'participant',\n  'aliases': ['attendee',\n   'belligerents',\n   'between',\n   'competitor',\n   'event participant',\n   'has participant',\n   'participants',\n   'player',\n   'suspect',\n   'agent',\n   'accused',\n   'party'],\n  'description': 'person, group of people or organization (object) that actively takes/took part in an event or process (subject).'},\n 'P737': {'propertyLabel': 'influenced by',\n  'aliases': ['role model',\n   'inspired by',\n   'favorite player',\n   'has influence',\n   'informed by'],\n  'description': 'the subject (person, idea, etc.) was influenced or inspired by this object entity, e.g. \"Heidegger was influenced by Aristotle\"'},\n 'P740': {'propertyLabel': 'location of formation',\n  'aliases': ['comes from',\n   'formation location',\n   'formed in',\n   'founded in',\n   'from',\n   'originates from',\n   'place of establishment',\n   'place of formation',\n   'place of foundation',\n   'place of incorporation',\n   'source location of group/organisation',\n   'place of origin',\n   'formation place',\n   'land of formation'],\n  'description': 'location where a group or organization was formed'},\n 'P749': {'propertyLabel': 'parent organization',\n  'aliases': ['holding company',\n   'holding',\n   'chapter of',\n   'has organizational parent',\n   'parent company',\n   'owned by (company or organisation)',\n   'owned by (company or organization)',\n   'parent agency',\n   'parent organisation',\n   'parent unit',\n   'part of',\n   'subsidiary of',\n   'superior formation',\n   'parent institution'],\n  'description': 'parent organization of an organization, opposite of subsidiaries (P355 has subsidiary)'},\n 'P800': {'propertyLabel': 'notable work',\n  'aliases': ['work',\n   'artwork',\n   'bibliography',\n   'founder of',\n   'creator of',\n   'works',\n   'significance',\n   'founded',\n   'author of',\n   'books by',\n   'famous books',\n   'famous for',\n   'famous works',\n   'known for',\n   'literary works',\n   'major works',\n   'notable books',\n   'representative of artwork type',\n   'representative work',\n   'significant works',\n   'they created',\n   'they designed',\n   'they discovered',\n   'they invented',\n   'they wrote',\n   'writer of',\n   'wrote',\n   'main work'],\n  'description': \"notable scientific, artistic or literary work, or other work of significance among subject's works\"},\n 'P807': {'propertyLabel': 'separated from',\n  'aliases': ['branched from',\n   'broke from',\n   'forked from',\n   'schism from',\n   'seceded from',\n   'spin off',\n   'split from',\n   'spun off',\n   'broke off from'],\n  'description': 'subject was founded or started by separating from identified object'},\n 'P840': {'propertyLabel': 'narrative location',\n  'aliases': ['set in',\n   'setting',\n   'narrative set in',\n   'playing in',\n   'set in location',\n   'setting location',\n   'takes place in',\n   'location of narrative',\n   'place of setting',\n   'place set in',\n   'setting of work',\n   'setting place',\n   'work set in'],\n  'description': 'the narrative of the work is set in this location'},\n 'P937': {'propertyLabel': 'work location',\n  'aliases': ['conducts business at',\n   'conducts business in',\n   'place of activity',\n   'place of employment',\n   'work area',\n   'work residence',\n   'did work at',\n   'did work from',\n   'does work at',\n   'does work from',\n   'worked from',\n   'working from',\n   'works from',\n   'stationed at',\n   'work site',\n   'worksite',\n   'location of work',\n   'place of work',\n   'work place',\n   'workplace',\n   'worked at',\n   'working at',\n   'works at',\n   'location',\n   'active in'],\n  'description': 'location where persons or organisations were actively participating in employment, business or other work'}}"
     },
     "execution_count": 121,
     "metadata": {},
     "output_type": "execute_result"
    }
   ],
   "source": [
    "property_dict"
   ],
   "metadata": {
    "collapsed": false
   }
  },
  {
   "cell_type": "code",
   "execution_count": 122,
   "outputs": [],
   "source": [
    "with open('property_dict.json', 'w') as f:\n",
    "    json.dump(property_dict, f)"
   ],
   "metadata": {
    "collapsed": false
   }
  },
  {
   "cell_type": "code",
   "execution_count": null,
   "outputs": [],
   "source": [],
   "metadata": {
    "collapsed": false
   }
  }
 ],
 "metadata": {
  "kernelspec": {
   "display_name": "Python 3",
   "language": "python",
   "name": "python3"
  },
  "language_info": {
   "codemirror_mode": {
    "name": "ipython",
    "version": 2
   },
   "file_extension": ".py",
   "mimetype": "text/x-python",
   "name": "python",
   "nbconvert_exporter": "python",
   "pygments_lexer": "ipython2",
   "version": "2.7.6"
  }
 },
 "nbformat": 4,
 "nbformat_minor": 0
}
